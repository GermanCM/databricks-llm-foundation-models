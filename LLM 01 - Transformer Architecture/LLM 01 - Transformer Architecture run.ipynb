{
 "cells": [
  {
   "cell_type": "markdown",
   "metadata": {
    "application/vnd.databricks.v1+cell": {
     "cellMetadata": {},
     "inputWidgets": {},
     "nuid": "c9f9e019-5e42-4a3f-b491-f0c080ca1a41",
     "showTitle": false,
     "title": ""
    }
   },
   "source": [
    "\n",
    "<div style=\"text-align: center; line-height: 0; padding-top: 9px;\">\n",
    "  <img src=\"https://databricks.com/wp-content/uploads/2018/03/db-academy-rgb-1200px.png\" alt=\"Databricks Learning\" style=\"width: 600px\">\n",
    "</div>"
   ]
  },
  {
   "cell_type": "markdown",
   "metadata": {
    "application/vnd.databricks.v1+cell": {
     "cellMetadata": {},
     "inputWidgets": {},
     "nuid": "33b64b71-fc4b-4098-8bca-b1a44cc452bd",
     "showTitle": false,
     "title": ""
    }
   },
   "source": [
    "\n",
    "# Diving into the Transformer - Building your own Foundation LLM\n",
    "\n",
    "This lesson introduces the underlying structure of transformers from token management to the layers in a decoder, to comparing smaller and larger models. We will build up all of the steps needed to create our foundation model before training. You will see how the layers are constructed, and how the next word is chosen. \n",
    "\n",
    "### ![Dolly](https://files.training.databricks.com/images/llm/dolly_small.png) Learning Objectives\n",
    "1. Identify the key structures and functions in decoder transformers\n",
    "1. Analyze the effect of hyperparameter changes (such as embedding dimension) on the size of the LLM\n",
    "1. Compare the different performance of models with different model architectures\n",
    "\n",
    "🖥️ Fuente extra [**Understanding and Coding the Self-Attention Mechanism of Large Language Models From Scratch**]: https://sebastianraschka.com/blog/2023/self-attention-from-scratch.html <br>\n",
    "📙 Deep Learning with Python book: 11.4 The Transformer architecture"
   ]
  },
  {
   "cell_type": "markdown",
   "metadata": {
    "application/vnd.databricks.v1+cell": {
     "cellMetadata": {},
     "inputWidgets": {},
     "nuid": "7578eaf0-52e7-4353-8d05-0e56f5ae514a",
     "showTitle": false,
     "title": ""
    }
   },
   "source": [
    "\n",
    "## Classroom Setup"
   ]
  },
  {
   "cell_type": "code",
   "execution_count": null,
   "metadata": {
    "application/vnd.databricks.v1+cell": {
     "cellMetadata": {
      "byteLimit": 2048000,
      "rowLimit": 10000
     },
     "inputWidgets": {},
     "nuid": "33d7e9cc-d58d-4939-a0ec-66ddd2803338",
     "showTitle": false,
     "title": ""
    }
   },
   "outputs": [
    {
     "name": "stdout",
     "output_type": "stream",
     "text": [
      "\u001b[43mNote: you may need to restart the kernel using dbutils.library.restartPython() to use updated packages.\u001b[0m\n",
      "\u001b[43mNote: you may need to restart the kernel using dbutils.library.restartPython() to use updated packages.\u001b[0m\n"
     ]
    },
    {
     "name": "stdout",
     "output_type": "stream",
     "text": [
      "Resetting the learning environment:\n",
      "| enumerating serving endpoints...found 4...(0 seconds)\n",
      "| No action taken\n",
      "\n",
      "Skipping install of existing datasets to \"dbfs:/mnt/dbacademy-datasets/llm-foundation-models/v01-raw\"\n",
      "\n",
      "Validating the locally installed datasets:\n",
      "| listing local files...(4 seconds)\n",
      "| validation completed...(4 seconds total)\n"
     ]
    },
    {
     "name": "stdout",
     "output_type": "stream",
     "text": [
      "Importing lab testing framework.\n"
     ]
    },
    {
     "name": "stdout",
     "output_type": "stream",
     "text": [
      "\n",
      "Using the \"default\" schema.\n",
      "\n",
      "Predefined paths variables:\n",
      "| DA.paths.working_dir: /dbfs/mnt/dbacademy-users/labuser4780184@vocareum.com/llm-foundation-models\n",
      "| DA.paths.user_db:     dbfs:/mnt/dbacademy-users/labuser4780184@vocareum.com/llm-foundation-models/database.db\n",
      "| DA.paths.datasets:    /dbfs/mnt/dbacademy-datasets/llm-foundation-models/v01-raw\n",
      "\n",
      "Setup completed (16 seconds)\n",
      "\n",
      "The models developed or used in this course are for demonstration and learning purposes only.\n",
      "Models may occasionally output offensive, inaccurate, biased information, or harmful instructions.\n"
     ]
    },
    {
     "data": {
      "text/plain": [
       "device(type='cpu')"
      ]
     },
     "execution_count": 13,
     "metadata": {},
     "output_type": "execute_result"
    }
   ],
   "source": [
    "%run ../Includes/Classroom-Setup"
   ]
  },
  {
   "cell_type": "code",
   "execution_count": 1,
   "metadata": {
    "application/vnd.databricks.v1+cell": {
     "cellMetadata": {
      "byteLimit": 2048000,
      "rowLimit": 10000
     },
     "inputWidgets": {},
     "nuid": "c6cecf45-6813-4b6b-8246-e14998f344b8",
     "showTitle": false,
     "title": ""
    }
   },
   "outputs": [],
   "source": [
    "# Import the necessary libraries\n",
    "import torch\n",
    "import torch.nn as nn\n",
    "import torch.nn.functional as F\n",
    "import math\n",
    "import time\n",
    "import numpy as np\n",
    "import matplotlib.pyplot as plt\n",
    "#import seaborn"
   ]
  },
  {
   "cell_type": "markdown",
   "metadata": {
    "application/vnd.databricks.v1+cell": {
     "cellMetadata": {
      "byteLimit": 2048000,
      "rowLimit": 10000
     },
     "inputWidgets": {},
     "nuid": "3970e6a3-93b3-4ec9-afed-4f4de2991e7c",
     "showTitle": false,
     "title": ""
    }
   },
   "source": [
    "### PyTorch version of EMBEDDING layer:\n",
    "    \n",
    "''' nn.Embedding(numb_embeddings, embedding_dim, padding_idx=None, max_norm=None, norm_type=2., scale_grad_by_freq=False, sparse=False, _weight=None) '''\n",
    "\n",
    "* num_embeddings: the size of the dictionary of embeddings, the number of embeddings\n",
    "* embedding_dim: the size of each embedding vector e.g. 16, 32\n",
    "* padding_idx: the position of the \"<PAD>\" token in the vocabulary, if any\n",
    "* max_norm: maximum norm of the word embedding in the embedding matrix\n",
    "* norm_type: type of p-norm used to compute the norm over embeddings, by default 2 (euclidean distance)\n",
    "* scale_grad_by_freq: Boolean indicating whether to scale the gradients by the word frequency\n",
    "* sparse: boolean to decide whether to allocate sparse tensor of dense tensor\n",
    "* _weight: initial weights for the embeddings, can be None for the default initializer"
   ]
  },
  {
   "cell_type": "markdown",
   "metadata": {
    "application/vnd.databricks.v1+cell": {
     "cellMetadata": {},
     "inputWidgets": {},
     "nuid": "afdf3c5d-266d-4d7c-9dd7-2220daf1d923",
     "showTitle": false,
     "title": ""
    }
   },
   "source": [
    "### Tensorflow Keras version of EMBEDDING layer:\n",
    "\n",
    "from tensorflow.keras.layers import Embedding\n",
    "\n",
    "➡️ Define Keras Embedding layer which is equivalent to PyTorch nn.Embedding layer <br>\n",
    "''' keras_embedding = Embedding(input_dim=num_embeddings, output_dim=embedding_dim, input_length=max_len, mask_zero=True) '''\n",
    "\n",
    "* num_embeddings: the size of the dictionary of embeddings, the number of embeddings\n",
    "* embedding_dim: the size of each embedding vector e.g. 16, 32\n",
    "* max_len: maximum length of sequence\n",
    "* mask_zero: boolean for whether or not input value 0 is a special \"padding\" value that should be masked out\n",
    "\n",
    "➡️ Convert text to indices\n",
    "padded_input_ids = tf.keras.preprocessing.sequence.pad_sequences([[word2id[word] for word in sentence.split()]], maxlen=max_len, padding='post')\n",
    "\n",
    "👉🏼 Get word embeddings\n",
    "keras_word_embeddings = keras_embedding(padded_input_ids)\n"
   ]
  },
  {
   "cell_type": "markdown",
   "metadata": {
    "application/vnd.databricks.v1+cell": {
     "cellMetadata": {},
     "inputWidgets": {},
     "nuid": "fcf5d6f4-d212-4e52-8b64-695d5d79ecb9",
     "showTitle": false,
     "title": ""
    }
   },
   "source": [
    "# Section 1: Encoding Natural Language - Word Embedding and Positional Encoding\n",
    "\n",
    "In this section we'll look at how to take a natural language input and convert it to the form we'll need for our transformer."
   ]
  },
  {
   "cell_type": "code",
   "execution_count": 37,
   "metadata": {
    "application/vnd.databricks.v1+cell": {
     "cellMetadata": {
      "byteLimit": 2048000,
      "rowLimit": 10000
     },
     "inputWidgets": {},
     "nuid": "5dcb7be1-7059-401e-94cf-d13fea2c650a",
     "showTitle": false,
     "title": ""
    }
   },
   "outputs": [
    {
     "name": "stdout",
     "output_type": "stream",
     "text": [
      "{'the': 0, 'jumps': 1, 'quick': 2, 'fox': 3, 'over': 4, 'lazy': 5, 'brown': 6, 'dog': 7, 'The': 8}\n",
      "tensor([8, 2, 6, 3, 1, 4, 0, 5, 7])\n",
      "tensor([[ 1.7598, -0.2820, -0.5195, -0.6103,  1.0097, -1.1354, -1.3870,  0.8638,\n",
      "          0.7140, -0.3761,  0.6666, -0.7804, -1.3395,  1.0686, -0.6424,  1.4273],\n",
      "        [ 0.8231, -0.1555, -1.2917,  0.5780,  0.9200,  2.5263,  0.2487,  0.4846,\n",
      "         -0.2657, -0.4419, -0.4900,  0.4975,  0.5754,  1.1667,  0.8875, -0.1271],\n",
      "        [-0.0716,  0.4339, -1.3052,  0.1907, -1.7762,  0.6479, -0.2294,  0.7797,\n",
      "         -0.0811,  0.5637,  0.3207, -0.2093, -0.2345, -0.9216, -0.0724, -0.1727],\n",
      "        [-0.8065,  0.4592, -1.2536,  0.5989, -0.7888,  0.0624, -0.4200, -0.1121,\n",
      "          0.5447, -1.1163, -1.1092,  1.9753, -1.5734,  0.4146, -0.3967,  0.0540],\n",
      "        [ 1.3183,  0.5569,  0.3844, -1.0886,  0.6388,  0.4992, -0.2530, -2.4570,\n",
      "          0.5512, -1.6952,  0.3774, -0.3455,  0.0086, -0.1022,  0.2465, -0.1710],\n",
      "        [ 0.6089, -1.2140,  0.1454, -0.8373,  0.0058, -2.0826,  2.6645,  0.1466,\n",
      "          0.8494, -0.1259,  0.1309,  0.5842,  0.2898,  0.4830,  0.9287, -1.1042],\n",
      "        [ 2.4985, -1.0578,  0.0775, -0.7914, -0.7802, -1.0132, -0.2712, -1.3303,\n",
      "         -0.3120,  0.2669, -0.7227, -1.9446,  1.1996,  0.1517, -0.2432, -1.0746],\n",
      "        [-0.1577, -0.8126, -1.3141,  0.2572,  0.3182,  0.1869,  0.3614,  0.3677,\n",
      "         -0.7042, -1.7889, -0.1919, -0.0497, -0.3201, -1.0085, -1.0977,  0.1555],\n",
      "        [-0.4807,  0.2996,  0.7529,  0.2581, -0.5701,  0.8807,  2.9077,  1.5744,\n",
      "         -0.1533, -0.4316, -0.2000,  0.9049,  0.2511,  0.5600, -0.5597, -0.1523]],\n",
      "       grad_fn=<EmbeddingBackward0>)\n"
     ]
    }
   ],
   "source": [
    "# Define a sentence and a simple word2id mapping\n",
    "sentence = \"The quick brown fox jumps over the lazy dog\"\n",
    "word2id = {word: i for i, word in enumerate(set(sentence.split()))}\n",
    "print(word2id)\n",
    "# Convert text to indices\n",
    "input_ids = torch.tensor([word2id[word] for word in sentence.split()])\n",
    "print(input_ids)\n",
    "# Define a simple word embedding function\n",
    "def get_word_embeddings(input_ids, embedding_size):\n",
    "    embedding_layer = nn.Embedding(input_ids.max() + 1, embedding_size)\n",
    "    return embedding_layer(input_ids)\n",
    "\n",
    "\n",
    "# Get word embeddings\n",
    "embedding_size = 16  # Size of the word embeddings\n",
    "word_embeddings = get_word_embeddings(input_ids, embedding_size)\n",
    "print(word_embeddings)"
   ]
  },
  {
   "cell_type": "code",
   "execution_count": 38,
   "metadata": {},
   "outputs": [],
   "source": [
    "# embedding_layer = nn.Embedding(input_ids.max() + 1, embedding_size)\n",
    "# embedding_layer.from_pretrained()"
   ]
  },
  {
   "cell_type": "markdown",
   "metadata": {},
   "source": [
    "### 📊 Ploteamos una proyección bidimensional de los word embeddings:"
   ]
  },
  {
   "cell_type": "code",
   "execution_count": 39,
   "metadata": {},
   "outputs": [
    {
     "data": {
      "image/png": "[encoded data removed]",
      "text/plain": [
       "<Figure size 800x600 with 1 Axes>"
      ]
     },
     "metadata": {},
     "output_type": "display_data"
    }
   ],
   "source": [
    "import matplotlib.pyplot as plt\n",
    "\n",
    "words = [word for word in word2id.keys()]\n",
    "word_embeddings_np = word_embeddings.detach().numpy()\n",
    "\n",
    "plt.figure(figsize=(8, 6))\n",
    "plt.scatter([e[0] for e in word_embeddings_np], [e[1] for e in word_embeddings_np])\n",
    "\n",
    "for i, word in enumerate(words):\n",
    "    plt.annotate(word, (word_embeddings_np[i][0], word_embeddings_np[i][1]))\n",
    "\n",
    "plt.xlabel('Dimension 1')\n",
    "plt.ylabel('Dimension 2')\n",
    "plt.title('Word Embeddings Scatter Plot')\n",
    "plt.grid(True)\n",
    "plt.show()"
   ]
  },
  {
   "cell_type": "markdown",
   "metadata": {},
   "source": [
    "📝 Y si indicamos las distancias euclídeas en un dataset?"
   ]
  },
  {
   "cell_type": "code",
   "execution_count": 40,
   "metadata": {},
   "outputs": [
    {
     "data": {
      "text/plain": [
       "{'the': 0,\n",
       " 'jumps': 1,\n",
       " 'quick': 2,\n",
       " 'fox': 3,\n",
       " 'over': 4,\n",
       " 'lazy': 5,\n",
       " 'brown': 6,\n",
       " 'dog': 7,\n",
       " 'The': 8}"
      ]
     },
     "execution_count": 40,
     "metadata": {},
     "output_type": "execute_result"
    }
   ],
   "source": [
    "word2id"
   ]
  },
  {
   "cell_type": "code",
   "execution_count": 44,
   "metadata": {},
   "outputs": [
    {
     "data": {
      "text/html": [
       "<div>\n",
       "<style scoped>\n",
       "    .dataframe tbody tr th:only-of-type {\n",
       "        vertical-align: middle;\n",
       "    }\n",
       "\n",
       "    .dataframe tbody tr th {\n",
       "        vertical-align: top;\n",
       "    }\n",
       "\n",
       "    .dataframe thead th {\n",
       "        text-align: right;\n",
       "    }\n",
       "</style>\n",
       "<table border=\"1\" class=\"dataframe\">\n",
       "  <thead>\n",
       "    <tr style=\"text-align: right;\">\n",
       "      <th></th>\n",
       "      <th>words_pair</th>\n",
       "      <th>euclidean distance</th>\n",
       "    </tr>\n",
       "  </thead>\n",
       "  <tbody>\n",
       "    <tr>\n",
       "      <th>23</th>\n",
       "      <td>(fox, brown)</td>\n",
       "      <td>6.841881</td>\n",
       "    </tr>\n",
       "    <tr>\n",
       "      <th>34</th>\n",
       "      <td>(brown, The)</td>\n",
       "      <td>6.735967</td>\n",
       "    </tr>\n",
       "    <tr>\n",
       "      <th>7</th>\n",
       "      <td>(the, The)</td>\n",
       "      <td>6.548145</td>\n",
       "    </tr>\n",
       "    <tr>\n",
       "      <th>29</th>\n",
       "      <td>(over, The)</td>\n",
       "      <td>6.183731</td>\n",
       "    </tr>\n",
       "    <tr>\n",
       "      <th>11</th>\n",
       "      <td>(jumps, lazy)</td>\n",
       "      <td>6.041836</td>\n",
       "    </tr>\n",
       "    <tr>\n",
       "      <th>12</th>\n",
       "      <td>(jumps, brown)</td>\n",
       "      <td>6.039354</td>\n",
       "    </tr>\n",
       "    <tr>\n",
       "      <th>4</th>\n",
       "      <td>(the, lazy)</td>\n",
       "      <td>5.968679</td>\n",
       "    </tr>\n",
       "    <tr>\n",
       "      <th>22</th>\n",
       "      <td>(fox, lazy)</td>\n",
       "      <td>5.895532</td>\n",
       "    </tr>\n",
       "    <tr>\n",
       "      <th>17</th>\n",
       "      <td>(quick, lazy)</td>\n",
       "      <td>5.645439</td>\n",
       "    </tr>\n",
       "    <tr>\n",
       "      <th>0</th>\n",
       "      <td>(the, jumps)</td>\n",
       "      <td>5.612954</td>\n",
       "    </tr>\n",
       "    <tr>\n",
       "      <th>26</th>\n",
       "      <td>(over, lazy)</td>\n",
       "      <td>5.599134</td>\n",
       "    </tr>\n",
       "    <tr>\n",
       "      <th>33</th>\n",
       "      <td>(brown, dog)</td>\n",
       "      <td>5.498495</td>\n",
       "    </tr>\n",
       "    <tr>\n",
       "      <th>2</th>\n",
       "      <td>(the, fox)</td>\n",
       "      <td>5.426393</td>\n",
       "    </tr>\n",
       "    <tr>\n",
       "      <th>5</th>\n",
       "      <td>(the, brown)</td>\n",
       "      <td>5.410500</td>\n",
       "    </tr>\n",
       "    <tr>\n",
       "      <th>16</th>\n",
       "      <td>(quick, over)</td>\n",
       "      <td>5.396889</td>\n",
       "    </tr>\n",
       "    <tr>\n",
       "      <th>21</th>\n",
       "      <td>(fox, over)</td>\n",
       "      <td>5.382926</td>\n",
       "    </tr>\n",
       "    <tr>\n",
       "      <th>31</th>\n",
       "      <td>(lazy, dog)</td>\n",
       "      <td>5.352786</td>\n",
       "    </tr>\n",
       "    <tr>\n",
       "      <th>18</th>\n",
       "      <td>(quick, brown)</td>\n",
       "      <td>5.310875</td>\n",
       "    </tr>\n",
       "    <tr>\n",
       "      <th>1</th>\n",
       "      <td>(the, quick)</td>\n",
       "      <td>5.238526</td>\n",
       "    </tr>\n",
       "    <tr>\n",
       "      <th>30</th>\n",
       "      <td>(lazy, brown)</td>\n",
       "      <td>5.205843</td>\n",
       "    </tr>\n",
       "    <tr>\n",
       "      <th>3</th>\n",
       "      <td>(the, over)</td>\n",
       "      <td>5.063553</td>\n",
       "    </tr>\n",
       "    <tr>\n",
       "      <th>10</th>\n",
       "      <td>(jumps, over)</td>\n",
       "      <td>5.047559</td>\n",
       "    </tr>\n",
       "    <tr>\n",
       "      <th>25</th>\n",
       "      <td>(fox, The)</td>\n",
       "      <td>5.025671</td>\n",
       "    </tr>\n",
       "    <tr>\n",
       "      <th>9</th>\n",
       "      <td>(jumps, fox)</td>\n",
       "      <td>4.834605</td>\n",
       "    </tr>\n",
       "    <tr>\n",
       "      <th>6</th>\n",
       "      <td>(the, dog)</td>\n",
       "      <td>4.829950</td>\n",
       "    </tr>\n",
       "    <tr>\n",
       "      <th>14</th>\n",
       "      <td>(jumps, The)</td>\n",
       "      <td>4.712530</td>\n",
       "    </tr>\n",
       "    <tr>\n",
       "      <th>28</th>\n",
       "      <td>(over, dog)</td>\n",
       "      <td>4.705944</td>\n",
       "    </tr>\n",
       "    <tr>\n",
       "      <th>20</th>\n",
       "      <td>(quick, The)</td>\n",
       "      <td>4.645999</td>\n",
       "    </tr>\n",
       "    <tr>\n",
       "      <th>35</th>\n",
       "      <td>(dog, The)</td>\n",
       "      <td>4.588148</td>\n",
       "    </tr>\n",
       "    <tr>\n",
       "      <th>32</th>\n",
       "      <td>(lazy, The)</td>\n",
       "      <td>4.549452</td>\n",
       "    </tr>\n",
       "    <tr>\n",
       "      <th>27</th>\n",
       "      <td>(over, brown)</td>\n",
       "      <td>4.544785</td>\n",
       "    </tr>\n",
       "    <tr>\n",
       "      <th>8</th>\n",
       "      <td>(jumps, quick)</td>\n",
       "      <td>4.533734</td>\n",
       "    </tr>\n",
       "    <tr>\n",
       "      <th>13</th>\n",
       "      <td>(jumps, dog)</td>\n",
       "      <td>4.394067</td>\n",
       "    </tr>\n",
       "    <tr>\n",
       "      <th>15</th>\n",
       "      <td>(quick, fox)</td>\n",
       "      <td>4.077384</td>\n",
       "    </tr>\n",
       "    <tr>\n",
       "      <th>24</th>\n",
       "      <td>(fox, dog)</td>\n",
       "      <td>3.910596</td>\n",
       "    </tr>\n",
       "    <tr>\n",
       "      <th>19</th>\n",
       "      <td>(quick, dog)</td>\n",
       "      <td>3.750800</td>\n",
       "    </tr>\n",
       "  </tbody>\n",
       "</table>\n",
       "</div>"
      ],
      "text/plain": [
       "        words_pair  euclidean distance\n",
       "23    (fox, brown)            6.841881\n",
       "34    (brown, The)            6.735967\n",
       "7       (the, The)            6.548145\n",
       "29     (over, The)            6.183731\n",
       "11   (jumps, lazy)            6.041836\n",
       "12  (jumps, brown)            6.039354\n",
       "4      (the, lazy)            5.968679\n",
       "22     (fox, lazy)            5.895532\n",
       "17   (quick, lazy)            5.645439\n",
       "0     (the, jumps)            5.612954\n",
       "26    (over, lazy)            5.599134\n",
       "33    (brown, dog)            5.498495\n",
       "2       (the, fox)            5.426393\n",
       "5     (the, brown)            5.410500\n",
       "16   (quick, over)            5.396889\n",
       "21     (fox, over)            5.382926\n",
       "31     (lazy, dog)            5.352786\n",
       "18  (quick, brown)            5.310875\n",
       "1     (the, quick)            5.238526\n",
       "30   (lazy, brown)            5.205843\n",
       "3      (the, over)            5.063553\n",
       "10   (jumps, over)            5.047559\n",
       "25      (fox, The)            5.025671\n",
       "9     (jumps, fox)            4.834605\n",
       "6       (the, dog)            4.829950\n",
       "14    (jumps, The)            4.712530\n",
       "28     (over, dog)            4.705944\n",
       "20    (quick, The)            4.645999\n",
       "35      (dog, The)            4.588148\n",
       "32     (lazy, The)            4.549452\n",
       "27   (over, brown)            4.544785\n",
       "8   (jumps, quick)            4.533734\n",
       "13    (jumps, dog)            4.394067\n",
       "15    (quick, fox)            4.077384\n",
       "24      (fox, dog)            3.910596\n",
       "19    (quick, dog)            3.750800"
      ]
     },
     "execution_count": 44,
     "metadata": {},
     "output_type": "execute_result"
    }
   ],
   "source": [
    "import torch\n",
    "import pandas as pd\n",
    "from itertools import combinations\n",
    "from scipy.spatial.distance import euclidean\n",
    "\n",
    "# Obtén todas las combinaciones posibles de pares de palabras\n",
    "word_pairs = list(combinations(word2id.keys(), 2))\n",
    "\n",
    "# Calcula la distancia euclidiana entre los vectores de embedding de cada par de palabras\n",
    "distances = [euclidean(word_embeddings.detach().numpy()[word2id[pair[0]]], word_embeddings.detach().numpy()[word2id[pair[1]]])\n",
    "             for pair in word_pairs]\n",
    "\n",
    "# Crea el DataFrame con las columnas \"words_pair\" y \"euclidean distance\"\n",
    "df = pd.DataFrame({'words_pair': word_pairs, 'euclidean distance': distances})\n",
    "\n",
    "# Imprime el DataFrame\n",
    "df_sorted = df.sort_values(by='euclidean distance', ascending=False)\n",
    "df_sorted"
   ]
  },
  {
   "cell_type": "markdown",
   "metadata": {},
   "source": [
    "### Mi prueba: la palabra 'dog' debería tener un vector embedding asociado más cercano (distancia euclídea) a 'fox' que a otra palabra right? O entre 'the' y 'The'"
   ]
  },
  {
   "cell_type": "code",
   "execution_count": 5,
   "metadata": {},
   "outputs": [
    {
     "name": "stdout",
     "output_type": "stream",
     "text": [
      "tensor([[0.0000, 5.3814, 5.1838, 5.1186, 3.7770, 4.8440, 5.2612, 5.2288, 4.2876],\n",
      "        [5.3814, 0.0000, 4.1704, 5.6377, 5.7445, 5.5600, 5.6568, 5.5127, 5.5575],\n",
      "        [5.1838, 4.1704, 0.0000, 4.7987, 5.2206, 3.9092, 3.6127, 4.7389, 4.0941],\n",
      "        [5.1186, 5.6377, 4.7987, 0.0000, 4.9152, 4.0551, 5.7215, 5.2591, 2.9902],\n",
      "        [3.7770, 5.7445, 5.2206, 4.9152, 0.0000, 4.8395, 5.8199, 4.8269, 3.4327],\n",
      "        [4.8440, 5.5600, 3.9092, 4.0551, 4.8395, 0.0000, 4.1688, 5.2256, 2.7661],\n",
      "        [5.2612, 5.6568, 3.6127, 5.7215, 5.8199, 4.1688, 0.0000, 4.7473, 4.6772],\n",
      "        [5.2288, 5.5127, 4.7389, 5.2591, 4.8269, 5.2256, 4.7473, 0.0000, 4.1070],\n",
      "        [4.2876, 5.5575, 4.0941, 2.9902, 3.4327, 2.7661, 4.6772, 4.1070, 0.0000]],\n",
      "       grad_fn=<CdistBackward0>)\n"
     ]
    }
   ],
   "source": [
    "# Calcular las distancias euclídeas entre cada par de vectores\n",
    "distances = torch.cdist(word_embeddings, word_embeddings)\n",
    "\n",
    "print(distances)"
   ]
  },
  {
   "cell_type": "code",
   "execution_count": 7,
   "metadata": {},
   "outputs": [
    {
     "data": {
      "text/plain": [
       "tensor([[0.0000, 4.1704],\n",
       "        [4.1704, 0.0000]], grad_fn=<CdistBackward0>)"
      ]
     },
     "execution_count": 7,
     "metadata": {},
     "output_type": "execute_result"
    }
   ],
   "source": [
    "torch.cdist(word_embeddings[1:3], word_embeddings[1:3])"
   ]
  },
  {
   "cell_type": "code",
   "execution_count": null,
   "metadata": {
    "application/vnd.databricks.v1+cell": {
     "cellMetadata": {
      "byteLimit": 2048000,
      "rowLimit": 10000
     },
     "inputWidgets": {},
     "nuid": "244102e4-c998-4354-9b09-10dee6454e10",
     "showTitle": false,
     "title": ""
    }
   },
   "outputs": [],
   "source": [
    "# Define a function to generate positional encodings\n",
    "def get_positional_encoding(max_seq_len, d_model):\n",
    "    position = np.arange(max_seq_len)[:, np.newaxis]\n",
    "    div_term = np.exp(np.arange(0, d_model, 2) * -(np.log(10000.0) / d_model))\n",
    "    positional_encoding = np.zeros((max_seq_len, d_model))\n",
    "    positional_encoding[:, 0::2] = np.sin(position * div_term)\n",
    "    positional_encoding[:, 1::2] = np.cos(position * div_term)\n",
    "    return torch.tensor(positional_encoding, dtype=torch.float)\n"
   ]
  },
  {
   "cell_type": "code",
   "execution_count": null,
   "metadata": {
    "application/vnd.databricks.v1+cell": {
     "cellMetadata": {
      "byteLimit": 2048000,
      "rowLimit": 10000
     },
     "inputWidgets": {},
     "nuid": "c97d5b09-ce73-4545-9115-c0dc1f4dac71",
     "showTitle": false,
     "title": ""
    }
   },
   "outputs": [
    {
     "data": {
      "text/plain": [
       "array([[0],\n",
       "       [1],\n",
       "       [2],\n",
       "       [3],\n",
       "       [4],\n",
       "       [5],\n",
       "       [6],\n",
       "       [7],\n",
       "       [8]])"
      ]
     },
     "execution_count": 4,
     "metadata": {},
     "output_type": "execute_result"
    }
   ],
   "source": [
    "np.arange(len(sentence.split()))[:, np.newaxis]"
   ]
  },
  {
   "cell_type": "code",
   "execution_count": null,
   "metadata": {
    "application/vnd.databricks.v1+cell": {
     "cellMetadata": {
      "byteLimit": 2048000,
      "rowLimit": 10000
     },
     "inputWidgets": {},
     "nuid": "92b97655-c61c-468a-8d8f-57269545899e",
     "showTitle": false,
     "title": ""
    }
   },
   "outputs": [
    {
     "data": {
      "image/png": "[encoded data removed]",
      "text/plain": [
       "<Figure size 500x500 with 2 Axes>"
      ]
     },
     "metadata": {},
     "output_type": "display_data"
    }
   ],
   "source": [
    "# Function to plot heatmap\n",
    "# ------------------------\n",
    "def plot_heatmap(data, title):\n",
    "    plt.figure(figsize=(5,5))\n",
    "    seaborn.heatmap(data, cmap=\"cool\",vmin=-1, vmax=1)\n",
    "    plt.ylabel(\"Word/token\")\n",
    "    plt.xlabel(\"Positional Encoding Vector\")\n",
    "    plt.title(title)\n",
    "    plt.show()\n",
    "\n",
    "# Generate and plot positional encoding\n",
    "# -------------------------------------\n",
    "# Get positional encodings\n",
    "max_seq_len = len(sentence.split())  # Maximum sequence length\n",
    "d_model = embedding_size  # Same as the size of the word embeddings\n",
    "positional_encodings = get_positional_encoding(max_seq_len, d_model)\n",
    "plot_heatmap(positional_encodings, \"Positional Encoding\")"
   ]
  },
  {
   "cell_type": "markdown",
   "metadata": {
    "application/vnd.databricks.v1+cell": {
     "cellMetadata": {},
     "inputWidgets": {},
     "nuid": "9dd1a307-c458-44c4-a729-17c5c900e126",
     "showTitle": false,
     "title": ""
    }
   },
   "source": [
    "## Interpreting the Positional Encoding Map\n",
    "In the Transformer model, positional encoding is used to give the model some information about the relative positions of the words in the sequence since the Transformer does not have any inherent sense of order of the input sequence.\n",
    "\n",
    "The positional encoding for a position \\(p\\) in the sequence and a dimension \\(i\\) in the embedding space is a mix of sine and cosine functions:\n",
    "\n",
    "\n",
    "$$PE_{(p, 2i)} = \\sin\\left(\\frac{p}{10000^{2i/d}}\\right)$$\n",
    "\n",
    "\n",
    "\n",
    "$$PE_{(p, 2i+1)} = \\cos\\left(\\frac{p}{10000^{2i/d}}\\right)$$\n",
    "\n",
    "\n",
    "Here, \\\\(d\\\\) is the dimension of the word embedding.\n",
    "\n",
    "These functions were chosen because they can provide a unique encoding for each word position and these encodings can be easily learned and extrapolated for sequence lengths not seen during training.\n",
    "\n",
    "In the heatmap:\n",
    "\n",
    "- The x-axis represents the dimension of the embedding space. Every pair of dimensions \\\\((2i, 2i+1)\\\\) corresponds to a specific frequency of the sine and cosine functions.\n",
    "\n",
    "- The y-axis represents the position of a word in the sequence.\n",
    "\n",
    "- The color at each point in the heatmap represents the value of the positional encoding at that position and dimension. Typically, a warmer color (like red) represents a higher value and a cooler color (like blue) represents a lower value.\n",
    "\n",
    "By visualizing the positional encodings in a heatmap, we can see how these values change across positions and dimensions, and get an intuition for how the Transformer model might use these values to understand the order of words in the sequence."
   ]
  },
  {
   "cell_type": "code",
   "execution_count": null,
   "metadata": {
    "application/vnd.databricks.v1+cell": {
     "cellMetadata": {
      "byteLimit": 2048000,
      "rowLimit": 10000
     },
     "inputWidgets": {},
     "nuid": "3ab339b7-975d-4f1a-b43c-54f9702cf415",
     "showTitle": false,
     "title": ""
    }
   },
   "outputs": [
    {
     "name": "stdout",
     "output_type": "stream",
     "text": [
      "tensor([[-0.6267,  0.4401, -0.2354,  1.1192, -0.6460,  0.6970, -0.8846,  1.4517,\n",
      "         -0.2635,  1.0878, -2.0955,  1.4792, -0.1905,  2.0186, -0.6974,  2.9198],\n",
      "        [ 1.6898,  0.1747,  1.1288,  1.2127,  0.6231, -0.1938, -0.1519,  1.4403,\n",
      "          0.1836,  1.4633, -1.1979,  1.4342, -1.8832,  2.0554,  1.9691,  0.9062],\n",
      "        [ 2.0169, -1.3888,  2.2215,  2.1991,  0.2147,  0.4240,  0.9422,  0.4918,\n",
      "         -0.2158,  0.3474, -1.9823,  2.1111, -1.0268,  0.5904,  0.4121, -0.1094],\n",
      "        [ 0.8981, -1.1282,  0.4730,  1.2205, -1.5911,  1.2610,  0.5369,  2.4067,\n",
      "         -2.2754,  0.3623,  0.3069,  0.7828,  0.3152, -0.1308, -0.6700,  0.9907],\n",
      "        [-2.4966, -2.4032,  0.6416, -0.4265, -1.1687,  0.6280,  0.9961, -0.2193,\n",
      "         -0.9201, -0.7731, -1.1708, -0.6114, -0.5180, -0.1122,  0.0145,  1.9207],\n",
      "        [ 0.3349,  0.4181,  0.8159,  0.2573,  0.0908,  1.6775,  0.5683,  0.2282,\n",
      "         -1.1176,  2.1384, -0.9951,  0.0101,  0.4144,  1.2283, -0.4806,  0.5715],\n",
      "        [-1.5013,  0.7324,  0.2920, -0.3756,  1.9096,  1.5138,  1.1752, -0.5492,\n",
      "         -0.2446,  0.4779,  0.3948, -0.4551,  0.6669,  1.5075,  1.1193,  1.0985],\n",
      "        [-0.3398,  2.3453,  1.6625, -0.1999,  1.4563,  1.0214, -0.2627,  1.6066,\n",
      "          1.5783,  1.2931, -1.7490,  2.1256,  0.1101,  1.1005,  0.7476, -0.4381],\n",
      "        [-2.4610, -0.5603,  1.6234, -0.5047,  1.5511,  0.4784,  0.2460,  1.3816,\n",
      "          0.4605,  0.9246, -0.6898, -0.6454, -0.0267,  1.8247, -0.6925, -0.1334]],\n",
      "       grad_fn=<AddBackward0>)\n"
     ]
    }
   ],
   "source": [
    "# Get positional encodings\n",
    "max_seq_len = len(sentence.split())  # Maximum sequence length\n",
    "d_model = embedding_size  # Same as the size of the word embeddings\n",
    "positional_encodings = get_positional_encoding(max_seq_len, d_model)\n",
    "\n",
    "# Add word embeddings and positional encodings\n",
    "final_embeddings = word_embeddings + positional_encodings\n",
    "\n",
    "print(final_embeddings)"
   ]
  },
  {
   "cell_type": "markdown",
   "metadata": {
    "application/vnd.databricks.v1+cell": {
     "cellMetadata": {},
     "inputWidgets": {},
     "nuid": "a890d3f4-3102-4297-8b60-564529401b91",
     "showTitle": false,
     "title": ""
    }
   },
   "source": [
    "# Section 2: Building Our Own Decoder From Scratch\n",
    "\n",
    "Let's now build a decoder transformer. We'll build up the code from scratch and build a single layer transformer."
   ]
  },
  {
   "cell_type": "code",
   "execution_count": null,
   "metadata": {
    "application/vnd.databricks.v1+cell": {
     "cellMetadata": {
      "byteLimit": 2048000,
      "rowLimit": 10000
     },
     "inputWidgets": {},
     "nuid": "3ca77119-038a-4866-8cb2-9592936e7fb8",
     "showTitle": false,
     "title": ""
    }
   },
   "outputs": [],
   "source": [
    "# Here we define the DecoderBlock, which is a single layer of the Transformer Decoder.\n",
    "\n",
    "class DecoderBlock(nn.Module):\n",
    "    def __init__(self, d_model, num_heads, ff_hidden_dim, dropout):\n",
    "        super(DecoderBlock, self).__init__()\n",
    "\n",
    "    # The first part of the __init__ function defines the hyperparameters for the DecoderBlock.\n",
    "    # d_model: the dimension of the input vector.\n",
    "    # num_heads: the number of heads in the multihead attention mechanism.\n",
    "    # ff_hidden_dim: the dimension of the feed forward hidden layer.\n",
    "    # dropout: the dropout rate.\n",
    "\n",
    "        self.self_attention = nn.MultiheadAttention(d_model, num_heads, dropout=dropout)\n",
    "        self.norm1 = nn.LayerNorm(d_model)\n",
    "        self.dropout1 = nn.Dropout(dropout)\n",
    "        self.linear1 = nn.Linear(d_model, ff_hidden_dim)\n",
    "        self.linear2 = nn.Linear(ff_hidden_dim, d_model)\n",
    "        self.norm2 = nn.LayerNorm(d_model)\n",
    "        self.dropout2 = nn.Dropout(dropout)\n",
    "\n",
    "    # The forward method defines how the data flows through the network.\n",
    "    # It takes two inputs: x, tgt_mask.\n",
    "    # x: the input tensor.\n",
    "    # tgt_mask: masks to prevent attention to certain positions.\n",
    "\n",
    "    def forward(self, x,tgt_mask):\n",
    "        attn_output, _ = self.self_attention(x, x, x, attn_mask=tgt_mask)\n",
    "        x = x + self.dropout1(attn_output)\n",
    "        x = self.norm1(x)\n",
    "        ff_output = self.linear2(F.relu(self.linear1(x)))\n",
    "        x = x + self.dropout2(ff_output)\n",
    "        x = self.norm2(x)\n",
    "        return x"
   ]
  },
  {
   "cell_type": "code",
   "execution_count": null,
   "metadata": {
    "application/vnd.databricks.v1+cell": {
     "cellMetadata": {
      "byteLimit": 2048000,
      "rowLimit": 10000
     },
     "inputWidgets": {},
     "nuid": "dc338357-dec5-4782-8f91-391b5ba2bd61",
     "showTitle": false,
     "title": ""
    }
   },
   "outputs": [],
   "source": [
    "# Next, we define the PositionalEncoding class, which applies a specific positional encoding to give the model \n",
    "# information about the relative or absolute position of the tokens in the sequence.\n",
    "\n",
    "class PositionalEncoding(nn.Module):\n",
    "    def __init__(self, d_model, dropout=0.1, max_len=5000):\n",
    "        super(PositionalEncoding, self).__init__()\n",
    "        self.dropout = nn.Dropout(p=dropout)\n",
    "\n",
    "        pe = torch.zeros(max_len, d_model)\n",
    "        position = torch.arange(0, max_len, dtype=torch.float).unsqueeze(1)\n",
    "        div_term = torch.exp(torch.arange(0, d_model, 2).float() * (-math.log(10000.0) / d_model))\n",
    "        pe[:, 0::2] = torch.sin(position * div_term)\n",
    "        pe[:, 1::2] = torch.cos(position * div_term)\n",
    "        pe = pe.unsqueeze(0).transpose(0, 1)\n",
    "        self.register_buffer(\"pe\", pe)\n",
    "\n",
    "    def forward(self, x):\n",
    "        x = x + self.pe[:x.size(0), :]\n",
    "        return self.dropout(x)"
   ]
  },
  {
   "cell_type": "code",
   "execution_count": null,
   "metadata": {
    "application/vnd.databricks.v1+cell": {
     "cellMetadata": {
      "byteLimit": 2048000,
      "rowLimit": 10000
     },
     "inputWidgets": {},
     "nuid": "386fdf5d-9300-453b-b9a0-7b0b661bf818",
     "showTitle": false,
     "title": ""
    }
   },
   "outputs": [],
   "source": [
    "# Finally, we define the full Transformer Decoder, which includes the initial embedding layer, \n",
    "# a single Transformer Decoder block, and the final linear and softmax layers.\n",
    "\n",
    "class TransformerDecoder(nn.Module):\n",
    "    def __init__(self, vocab_size, d_model, num_heads, ff_hidden_dim, dropout):\n",
    "        super(TransformerDecoder, self).__init__()\n",
    "\n",
    "    # The __init__ function defines the hyperparameters and layers of the TransformerDecoder.\n",
    "    # vocab_size: the size of the vocabulary.\n",
    "    # d_model, num_heads, ff_hidden_dim, dropout: hyperparameters for the Transformer decoder block.\n",
    "\n",
    "    # Embedding layer: transforms the input words (given as indices) into dense vectors of dimension d_model.\n",
    "    # Positional encoding: adds a vector to each input embedding that depends on its position in the sequence.\n",
    "    # Transformer block: the Transformer decoder block defined earlier.\n",
    "    # Linear layer: a linear transformation to the output dimension equal to the vocabulary size.\n",
    "    # Softmax layer: transforms the output into a probability distribution over the vocabulary.\n",
    "\n",
    "        self.embedding = nn.Embedding(vocab_size, d_model)\n",
    "        self.pos_encoder = PositionalEncoding(d_model, dropout)\n",
    "        self.transformer_block = DecoderBlock(d_model, num_heads, ff_hidden_dim, dropout)\n",
    "        self.linear = nn.Linear(d_model, vocab_size)\n",
    "        self.softmax = nn.LogSoftmax(dim=-1)\n",
    "\n",
    "    # The forward method of the TransformerDecoder defines how the data flows through the decoder.\n",
    "\n",
    "    def forward(self, x):\n",
    "        x = self.embedding(x)\n",
    "        x = self.pos_encoder(x)\n",
    "        tgt_mask = generate_square_subsequent_mask(x.size(0))\n",
    "        x = self.transformer_block(x,tgt_mask)\n",
    "        output = self.linear(x)\n",
    "        output = self.softmax(output)\n",
    "        return output"
   ]
  },
  {
   "cell_type": "markdown",
   "metadata": {
    "application/vnd.databricks.v1+cell": {
     "cellMetadata": {},
     "inputWidgets": {},
     "nuid": "75bcb5d9-290c-4d52-b79f-0d9a4f27e3e9",
     "showTitle": false,
     "title": ""
    }
   },
   "source": [
    "### Why we need to mask our input for decoders"
   ]
  },
  {
   "cell_type": "code",
   "execution_count": null,
   "metadata": {
    "application/vnd.databricks.v1+cell": {
     "cellMetadata": {
      "byteLimit": 2048000,
      "rowLimit": 10000
     },
     "inputWidgets": {},
     "nuid": "6093be66-f3c8-4009-8139-a3d43dd797a2",
     "showTitle": false,
     "title": ""
    }
   },
   "outputs": [
    {
     "name": "stderr",
     "output_type": "stream",
     "text": [
      "/databricks/python/lib/python3.10/site-packages/matplotlib/colors.py:1253: RuntimeWarning: invalid value encountered in subtract\n",
      "  resdat -= vmin\n",
      "/databricks/python/lib/python3.10/site-packages/matplotlib/colors.py:1254: RuntimeWarning: invalid value encountered in true_divide\n",
      "  resdat /= (vmax - vmin)\n"
     ]
    },
    {
     "data": {
      "image/png": "[encoded data removed]",
      "text/plain": [
       "<Figure size 500x500 with 1 Axes>"
      ]
     },
     "metadata": {},
     "output_type": "display_data"
    }
   ],
   "source": [
    "def generate_square_subsequent_mask(sz):\n",
    "    \"\"\"Generate a mask to prevent attention to future positions.\"\"\"\n",
    "    mask = (torch.triu(torch.ones(sz, sz)) == 1).transpose(0, 1)\n",
    "    mask = mask.float().masked_fill(mask == 0, float('-inf')).masked_fill(mask == 1, float(0.0))\n",
    "    return mask\n",
    "\n",
    "mask = generate_square_subsequent_mask(sz=5)\n",
    "\n",
    "plt.figure(figsize=(5,5))\n",
    "seaborn.heatmap(mask, cmap=\"viridis\", cbar=False, square=True)\n",
    "plt.title(\"Mask for Transformer Decoder\")\n",
    "plt.show()"
   ]
  },
  {
   "cell_type": "markdown",
   "metadata": {
    "application/vnd.databricks.v1+cell": {
     "cellMetadata": {},
     "inputWidgets": {},
     "nuid": "a8d2195e-df7f-414c-b07b-0bb30b88385c",
     "showTitle": false,
     "title": ""
    }
   },
   "source": [
    "### Let's make our first decoder"
   ]
  },
  {
   "cell_type": "code",
   "execution_count": null,
   "metadata": {
    "application/vnd.databricks.v1+cell": {
     "cellMetadata": {
      "byteLimit": 2048000,
      "rowLimit": 10000
     },
     "inputWidgets": {},
     "nuid": "c9961c5b-5a22-44e3-ab0e-b960c575ae2c",
     "showTitle": false,
     "title": ""
    }
   },
   "outputs": [
    {
     "name": "stdout",
     "output_type": "stream",
     "text": [
      "torch.Size([50, 1, 1000])\n",
      "torch.Size([50, 1])\n"
     ]
    }
   ],
   "source": [
    "# Define the hyperparameters\n",
    "vocab_size     = 1000\n",
    "d_model        = 512\n",
    "num_heads      = 1\n",
    "ff_hidden_dim  = 2*d_model\n",
    "dropout        = 0.1\n",
    "num_layers     = 10\n",
    "context_length = 50\n",
    "batch_size     = 1\n",
    "# Initialize the model\n",
    "model = TransformerDecoder(vocab_size, d_model, num_heads, ff_hidden_dim, dropout)\n",
    "\n",
    "# Create a tensor representing a batch of 1 sequences of length 10\n",
    "input_tensor = torch.randint(0, vocab_size, (context_length, batch_size))\n",
    "\n",
    "# Forward pass through the model\n",
    "output = model(input_tensor)\n",
    "\n",
    "# The output is a tensor of shape (sequence_length, batch_size, vocab_size)\n",
    "print(output.shape)  # Should print torch.Size([context_length, batch_size, vocab_size])\n",
    "\n",
    "# To get the predicted word indices, we can use the `argmax` function\n",
    "predicted_indices = output.argmax(dim=-1)\n",
    "\n",
    "# Now `predicted_indices` is a tensor of shape (sequence_length, batch_size) containing the predicted word indices\n",
    "print(predicted_indices.shape)  # Should print torch.Size([context_length, batch_size])\n"
   ]
  },
  {
   "cell_type": "code",
   "execution_count": null,
   "metadata": {
    "application/vnd.databricks.v1+cell": {
     "cellMetadata": {
      "byteLimit": 2048000,
      "rowLimit": 10000
     },
     "inputWidgets": {},
     "nuid": "7a5d107b-396c-4bb7-86ce-36a94dbb6100",
     "showTitle": false,
     "title": ""
    }
   },
   "outputs": [
    {
     "name": "stdout",
     "output_type": "stream",
     "text": [
      "The model has 3,127,784 trainable parameters\n"
     ]
    }
   ],
   "source": [
    "def count_parameters(model):\n",
    "    return sum(p.numel() for p in model.parameters() if p.requires_grad)\n",
    "\n",
    "print(f\"The model has {count_parameters(model):,} trainable parameters\")"
   ]
  },
  {
   "cell_type": "markdown",
   "metadata": {
    "application/vnd.databricks.v1+cell": {
     "cellMetadata": {},
     "inputWidgets": {},
     "nuid": "1a4d7bf1-1cfe-4eb7-a14a-ffec9d82a31b",
     "showTitle": false,
     "title": ""
    }
   },
   "source": [
    "### Looking at the output"
   ]
  },
  {
   "cell_type": "code",
   "execution_count": null,
   "metadata": {
    "application/vnd.databricks.v1+cell": {
     "cellMetadata": {
      "byteLimit": 2048000,
      "rowLimit": 10000
     },
     "inputWidgets": {},
     "nuid": "47ebdc22-b498-4ef9-a686-1e55b96b1e18",
     "showTitle": false,
     "title": ""
    }
   },
   "outputs": [
    {
     "data": {
      "image/png": "[encoded data removed]",
      "text/plain": [
       "<Figure size 1200x600 with 1 Axes>"
      ]
     },
     "metadata": {},
     "output_type": "display_data"
    }
   ],
   "source": [
    "# Convert the log probabilities to probabilities\n",
    "distribution = torch.exp(output[0, 0, :])\n",
    "\n",
    "# Convert the output tensor to numpy array\n",
    "distribution = distribution.detach().numpy()\n",
    "\n",
    "# Now plot the distribution\n",
    "plt.figure(figsize=(12, 6))\n",
    "plt.bar(np.arange(vocab_size), distribution)\n",
    "plt.xlabel(\"Word Index\")\n",
    "plt.ylabel(\"Probability\")\n",
    "plt.title(\"Output Distribution over Vocabulary\")\n",
    "plt.show()"
   ]
  },
  {
   "cell_type": "markdown",
   "metadata": {
    "application/vnd.databricks.v1+cell": {
     "cellMetadata": {},
     "inputWidgets": {},
     "nuid": "37d1da8e-9544-4216-80e1-290dae7af3f6",
     "showTitle": false,
     "title": ""
    }
   },
   "source": [
    "# Section 3: Multi-layer Decoder\n",
    "\n",
    "Let's allow for multiple layers in our decoder so we can form models like GPT"
   ]
  },
  {
   "cell_type": "code",
   "execution_count": null,
   "metadata": {
    "application/vnd.databricks.v1+cell": {
     "cellMetadata": {
      "byteLimit": 2048000,
      "rowLimit": 10000
     },
     "inputWidgets": {},
     "nuid": "6ccb927f-03fa-4dc1-b95d-414f9d218e47",
     "showTitle": false,
     "title": ""
    }
   },
   "outputs": [],
   "source": [
    "class MultiLayerTransformerDecoder(nn.Module):\n",
    "    def __init__(self, vocab_size, d_model, num_heads, ff_hidden_dim, dropout, num_layers):\n",
    "        super(MultiLayerTransformerDecoder, self).__init__()\n",
    "\n",
    "# The __init__ function now also takes a `num_layers` argument, which specifies the number of decoder blocks.\n",
    "\n",
    "        self.embedding = nn.Embedding(vocab_size, d_model)\n",
    "        self.pos_encoder = PositionalEncoding(d_model, dropout)\n",
    "        self.transformer_blocks = nn.ModuleList([\n",
    "            DecoderBlock(d_model, num_heads, ff_hidden_dim, dropout)\n",
    "            for _ in range(num_layers)\n",
    "        ])\n",
    "        self.linear = nn.Linear(d_model, vocab_size)\n",
    "        self.softmax = nn.LogSoftmax(dim=-1)\n",
    "\n",
    "# The forward method has been updated to pass the input through each transformer block in sequence.\n",
    "\n",
    "    def forward(self, x):\n",
    "        x = self.embedding(x)\n",
    "        x = self.pos_encoder(x)\n",
    "        for transformer_block in self.transformer_blocks:\n",
    "            tgt_mask = generate_square_subsequent_mask(x.size(0))\n",
    "            x = transformer_block(x,tgt_mask)\n",
    "        output = self.linear(x)\n",
    "        output = self.softmax(output)\n",
    "        return output\n"
   ]
  },
  {
   "cell_type": "code",
   "execution_count": null,
   "metadata": {
    "application/vnd.databricks.v1+cell": {
     "cellMetadata": {
      "byteLimit": 2048000,
      "rowLimit": 10000
     },
     "inputWidgets": {},
     "nuid": "6451d573-49d9-4720-b459-b5804b3e2c2a",
     "showTitle": false,
     "title": ""
    }
   },
   "outputs": [
    {
     "name": "stdout",
     "output_type": "stream",
     "text": [
      "The model has 544,552,720 trainable parameters\n"
     ]
    },
    {
     "data": {
      "image/png": "[encoded data removed]",
      "text/plain": [
       "<Figure size 1200x600 with 1 Axes>"
      ]
     },
     "metadata": {},
     "output_type": "display_data"
    }
   ],
   "source": [
    "# Define the hyperparameters\n",
    "vocab_size     = 10000\n",
    "d_model        = 2048\n",
    "num_heads      = 1\n",
    "ff_hidden_dim  = 4*d_model\n",
    "dropout        = 0.1\n",
    "num_layers     = 10\n",
    "context_length = 100\n",
    "batch_size     = 1\n",
    "\n",
    "# Create our input to the model to process\n",
    "input_tensor = torch.randint(0, vocab_size, (context_length, batch_size))\n",
    "\n",
    "# Initialize the model with `num_layer` layers\n",
    "model = MultiLayerTransformerDecoder(vocab_size, d_model, num_heads, ff_hidden_dim, dropout, num_layers)\n",
    "\n",
    "# Print the number of trainable parameters\n",
    "print(f\"The model has {count_parameters(model):,} trainable parameters\")\n",
    "\n",
    "# Let's use the same input_tensor from the previous example\n",
    "output = model(input_tensor)\n",
    "\n",
    "# Convert the log probabilities to probabilities for the first sequence in the batch and the first position in the sequence\n",
    "distribution = torch.exp(output[0, 0, :])\n",
    "\n",
    "# Convert the output tensor to numpy array\n",
    "distribution = distribution.detach().numpy()\n",
    "\n",
    "# Now plot the distribution\n",
    "plt.figure(figsize=(12, 6))\n",
    "plt.bar(np.arange(vocab_size), distribution)\n",
    "plt.xlabel(\"Word Index\")\n",
    "plt.ylabel(\"Probability\")\n",
    "plt.title(\"Output Distribution over Vocabulary\")\n",
    "plt.show()"
   ]
  },
  {
   "cell_type": "code",
   "execution_count": null,
   "metadata": {
    "application/vnd.databricks.v1+cell": {
     "cellMetadata": {
      "byteLimit": 2048000,
      "rowLimit": 10000
     },
     "inputWidgets": {},
     "nuid": "8f1b904d-2435-43ff-afe3-278f0593373c",
     "showTitle": false,
     "title": ""
    }
   },
   "outputs": [
    {
     "data": {
      "text/plain": [
       "MultiLayerTransformerDecoder(\n",
       "  (embedding): Embedding(10000, 2048)\n",
       "  (pos_encoder): PositionalEncoding(\n",
       "    (dropout): Dropout(p=0.1, inplace=False)\n",
       "  )\n",
       "  (transformer_blocks): ModuleList(\n",
       "    (0): DecoderBlock(\n",
       "      (self_attention): MultiheadAttention(\n",
       "        (out_proj): NonDynamicallyQuantizableLinear(in_features=2048, out_features=2048, bias=True)\n",
       "      )\n",
       "      (norm1): LayerNorm((2048,), eps=1e-05, elementwise_affine=True)\n",
       "      (dropout1): Dropout(p=0.1, inplace=False)\n",
       "      (linear1): Linear(in_features=2048, out_features=8192, bias=True)\n",
       "      (linear2): Linear(in_features=8192, out_features=2048, bias=True)\n",
       "      (norm2): LayerNorm((2048,), eps=1e-05, elementwise_affine=True)\n",
       "      (dropout2): Dropout(p=0.1, inplace=False)\n",
       "    )\n",
       "    (1): DecoderBlock(\n",
       "      (self_attention): MultiheadAttention(\n",
       "        (out_proj): NonDynamicallyQuantizableLinear(in_features=2048, out_features=2048, bias=True)\n",
       "      )\n",
       "      (norm1): LayerNorm((2048,), eps=1e-05, elementwise_affine=True)\n",
       "      (dropout1): Dropout(p=0.1, inplace=False)\n",
       "      (linear1): Linear(in_features=2048, out_features=8192, bias=True)\n",
       "      (linear2): Linear(in_features=8192, out_features=2048, bias=True)\n",
       "      (norm2): LayerNorm((2048,), eps=1e-05, elementwise_affine=True)\n",
       "      (dropout2): Dropout(p=0.1, inplace=False)\n",
       "    )\n",
       "    (2): DecoderBlock(\n",
       "      (self_attention): MultiheadAttention(\n",
       "        (out_proj): NonDynamicallyQuantizableLinear(in_features=2048, out_features=2048, bias=True)\n",
       "      )\n",
       "      (norm1): LayerNorm((2048,), eps=1e-05, elementwise_affine=True)\n",
       "      (dropout1): Dropout(p=0.1, inplace=False)\n",
       "      (linear1): Linear(in_features=2048, out_features=8192, bias=True)\n",
       "      (linear2): Linear(in_features=8192, out_features=2048, bias=True)\n",
       "      (norm2): LayerNorm((2048,), eps=1e-05, elementwise_affine=True)\n",
       "      (dropout2): Dropout(p=0.1, inplace=False)\n",
       "    )\n",
       "    (3): DecoderBlock(\n",
       "      (self_attention): MultiheadAttention(\n",
       "        (out_proj): NonDynamicallyQuantizableLinear(in_features=2048, out_features=2048, bias=True)\n",
       "      )\n",
       "      (norm1): LayerNorm((2048,), eps=1e-05, elementwise_affine=True)\n",
       "      (dropout1): Dropout(p=0.1, inplace=False)\n",
       "      (linear1): Linear(in_features=2048, out_features=8192, bias=True)\n",
       "      (linear2): Linear(in_features=8192, out_features=2048, bias=True)\n",
       "      (norm2): LayerNorm((2048,), eps=1e-05, elementwise_affine=True)\n",
       "      (dropout2): Dropout(p=0.1, inplace=False)\n",
       "    )\n",
       "    (4): DecoderBlock(\n",
       "      (self_attention): MultiheadAttention(\n",
       "        (out_proj): NonDynamicallyQuantizableLinear(in_features=2048, out_features=2048, bias=True)\n",
       "      )\n",
       "      (norm1): LayerNorm((2048,), eps=1e-05, elementwise_affine=True)\n",
       "      (dropout1): Dropout(p=0.1, inplace=False)\n",
       "      (linear1): Linear(in_features=2048, out_features=8192, bias=True)\n",
       "      (linear2): Linear(in_features=8192, out_features=2048, bias=True)\n",
       "      (norm2): LayerNorm((2048,), eps=1e-05, elementwise_affine=True)\n",
       "      (dropout2): Dropout(p=0.1, inplace=False)\n",
       "    )\n",
       "    (5): DecoderBlock(\n",
       "      (self_attention): MultiheadAttention(\n",
       "        (out_proj): NonDynamicallyQuantizableLinear(in_features=2048, out_features=2048, bias=True)\n",
       "      )\n",
       "      (norm1): LayerNorm((2048,), eps=1e-05, elementwise_affine=True)\n",
       "      (dropout1): Dropout(p=0.1, inplace=False)\n",
       "      (linear1): Linear(in_features=2048, out_features=8192, bias=True)\n",
       "      (linear2): Linear(in_features=8192, out_features=2048, bias=True)\n",
       "      (norm2): LayerNorm((2048,), eps=1e-05, elementwise_affine=True)\n",
       "      (dropout2): Dropout(p=0.1, inplace=False)\n",
       "    )\n",
       "    (6): DecoderBlock(\n",
       "      (self_attention): MultiheadAttention(\n",
       "        (out_proj): NonDynamicallyQuantizableLinear(in_features=2048, out_features=2048, bias=True)\n",
       "      )\n",
       "      (norm1): LayerNorm((2048,), eps=1e-05, elementwise_affine=True)\n",
       "      (dropout1): Dropout(p=0.1, inplace=False)\n",
       "      (linear1): Linear(in_features=2048, out_features=8192, bias=True)\n",
       "      (linear2): Linear(in_features=8192, out_features=2048, bias=True)\n",
       "      (norm2): LayerNorm((2048,), eps=1e-05, elementwise_affine=True)\n",
       "      (dropout2): Dropout(p=0.1, inplace=False)\n",
       "    )\n",
       "    (7): DecoderBlock(\n",
       "      (self_attention): MultiheadAttention(\n",
       "        (out_proj): NonDynamicallyQuantizableLinear(in_features=2048, out_features=2048, bias=True)\n",
       "      )\n",
       "      (norm1): LayerNorm((2048,), eps=1e-05, elementwise_affine=True)\n",
       "      (dropout1): Dropout(p=0.1, inplace=False)\n",
       "      (linear1): Linear(in_features=2048, out_features=8192, bias=True)\n",
       "      (linear2): Linear(in_features=8192, out_features=2048, bias=True)\n",
       "      (norm2): LayerNorm((2048,), eps=1e-05, elementwise_affine=True)\n",
       "      (dropout2): Dropout(p=0.1, inplace=False)\n",
       "    )\n",
       "    (8): DecoderBlock(\n",
       "      (self_attention): MultiheadAttention(\n",
       "        (out_proj): NonDynamicallyQuantizableLinear(in_features=2048, out_features=2048, bias=True)\n",
       "      )\n",
       "      (norm1): LayerNorm((2048,), eps=1e-05, elementwise_affine=True)\n",
       "      (dropout1): Dropout(p=0.1, inplace=False)\n",
       "      (linear1): Linear(in_features=2048, out_features=8192, bias=True)\n",
       "      (linear2): Linear(in_features=8192, out_features=2048, bias=True)\n",
       "      (norm2): LayerNorm((2048,), eps=1e-05, elementwise_affine=True)\n",
       "      (dropout2): Dropout(p=0.1, inplace=False)\n",
       "    )\n",
       "    (9): DecoderBlock(\n",
       "      (self_attention): MultiheadAttention(\n",
       "        (out_proj): NonDynamicallyQuantizableLinear(in_features=2048, out_features=2048, bias=True)\n",
       "      )\n",
       "      (norm1): LayerNorm((2048,), eps=1e-05, elementwise_affine=True)\n",
       "      (dropout1): Dropout(p=0.1, inplace=False)\n",
       "      (linear1): Linear(in_features=2048, out_features=8192, bias=True)\n",
       "      (linear2): Linear(in_features=8192, out_features=2048, bias=True)\n",
       "      (norm2): LayerNorm((2048,), eps=1e-05, elementwise_affine=True)\n",
       "      (dropout2): Dropout(p=0.1, inplace=False)\n",
       "    )\n",
       "  )\n",
       "  (linear): Linear(in_features=2048, out_features=10000, bias=True)\n",
       "  (softmax): LogSoftmax(dim=-1)\n",
       ")"
      ]
     },
     "execution_count": 28,
     "metadata": {},
     "output_type": "execute_result"
    }
   ],
   "source": [
    "model"
   ]
  },
  {
   "cell_type": "markdown",
   "metadata": {
    "application/vnd.databricks.v1+cell": {
     "cellMetadata": {},
     "inputWidgets": {},
     "nuid": "c26c9ab1-72a1-4a08-8070-3e11cd8c66be",
     "showTitle": false,
     "title": ""
    }
   },
   "source": [
    "# Section 4: Adding real vocabulary to our model\n",
    "\n",
    "Rather than just using a random integer, let's add in a small vocabulary of real words and let our model speak!"
   ]
  },
  {
   "cell_type": "code",
   "execution_count": null,
   "metadata": {
    "application/vnd.databricks.v1+cell": {
     "cellMetadata": {
      "byteLimit": 2048000,
      "rowLimit": 10000
     },
     "inputWidgets": {},
     "nuid": "00338710-65e7-454b-83f3-40d91fe64910",
     "showTitle": false,
     "title": ""
    }
   },
   "outputs": [
    {
     "name": "stdout",
     "output_type": "stream",
     "text": [
      "by into at after out into at around out into "
     ]
    }
   ],
   "source": [
    "# Define the hyperparameters\n",
    "d_model        = 100\n",
    "num_heads      = 1\n",
    "ff_hidden_dim  = 4*d_model\n",
    "dropout        = 0.1\n",
    "num_layers     = 4\n",
    "context_length = 5\n",
    "batch_size     = 1\n",
    "# Define the vocabulary\n",
    "vocab = [\"of\", \"in\", \"to\", \"for\", \"with\", \"on\", \"at\", \"from\", \"by\", \"about\", \"as\", \"into\", \"like\", \"through\", \"after\", \"over\", \"between\", \"out\", \"against\", \"during\", \"without\", \"before\", \"under\", \"around\", \"among\"]\n",
    "vocab_size = len(vocab)\n",
    "\n",
    "# Create a dictionary that maps words to indices\n",
    "word2id = {word: id for id, word in enumerate(vocab)}\n",
    "\n",
    "# Create a dictionary that maps indices to words\n",
    "id2word = {id: word for id, word in enumerate(vocab)}\n",
    "\n",
    "# Initialize the model\n",
    "model = MultiLayerTransformerDecoder(vocab_size, d_model, num_heads, ff_hidden_dim, dropout, num_layers)\n",
    "\n",
    "# Create a tensor representing a single sequence of variable length\n",
    "# Here we randomly select words from our vocabulary\n",
    "sequence = [\"of\", \"in\", \"to\", \"for\", \"with\", \"on\", \"at\"][:context_length]\n",
    "input_tensor = torch.tensor([[word2id[word] for word in sequence]])\n",
    "\n",
    "# Generate a sequence of words\n",
    "generated_words = []\n",
    "for i in range(10):  # Generate 10 words\n",
    "    output = model(input_tensor)\n",
    "    predicted_index = output.argmax(dim=-1)[0, -1]  # Take the last word in the sequence\n",
    "    predicted_word = id2word[predicted_index.item()]\n",
    "    print(predicted_word, end=\" \")\n",
    "    generated_words.append(predicted_word)\n",
    "    input_tensor = torch.cat([input_tensor, predicted_index.unsqueeze(0).unsqueeze(0)], dim=-1)  # Append the predicted word to the input\n",
    "    time.sleep(0.75)  # Pause for 1 second\n"
   ]
  },
  {
   "cell_type": "markdown",
   "metadata": {
    "application/vnd.databricks.v1+cell": {
     "cellMetadata": {},
     "inputWidgets": {},
     "nuid": "6e923bce-58fe-4fb7-b753-50841a5373e4",
     "showTitle": false,
     "title": ""
    }
   },
   "source": [
    "# Section 5: Using a trained decoder and real-world vocabulary\n",
    "\n",
    "Training our model will take a long time, let's look at two trained versions of what we've been building, GPT and GPT-XL. These are both decoder models with only slight changes in sizes"
   ]
  },
  {
   "cell_type": "code",
   "execution_count": null,
   "metadata": {
    "application/vnd.databricks.v1+cell": {
     "cellMetadata": {
      "byteLimit": 2048000,
      "rowLimit": 10000
     },
     "inputWidgets": {},
     "nuid": "57657f63-70c3-4e2d-8ee7-92e46d41407c",
     "showTitle": false,
     "title": ""
    }
   },
   "outputs": [],
   "source": [
    "# Import the necessary libraries\n",
    "from transformers import GPT2LMHeadModel, GPT2Tokenizer\n",
    "\n",
    "# Load pre-trained models and tokenizers\n",
    "tokenizer_small = GPT2Tokenizer.from_pretrained(\"gpt2\", cache_dir=DA.paths.datasets+\"/models\")\n",
    "model_small = GPT2LMHeadModel.from_pretrained(\"gpt2\", cache_dir=DA.paths.datasets+\"/models\")"
   ]
  },
  {
   "cell_type": "code",
   "execution_count": null,
   "metadata": {
    "application/vnd.databricks.v1+cell": {
     "cellMetadata": {
      "byteLimit": 2048000,
      "rowLimit": 10000
     },
     "inputWidgets": {},
     "nuid": "5ac01a73-0c0c-43a4-a3a9-6f231831b797",
     "showTitle": false,
     "title": ""
    }
   },
   "outputs": [],
   "source": [
    "# Define a prompt. This is the initial string of text that the model will use to start generating text.\n",
    "prompt = \"This is a MOOC about large language models, I have only just started, but already\""
   ]
  },
  {
   "cell_type": "code",
   "execution_count": null,
   "metadata": {
    "application/vnd.databricks.v1+cell": {
     "cellMetadata": {
      "byteLimit": 2048000,
      "rowLimit": 10000
     },
     "inputWidgets": {},
     "nuid": "d7bbe991-463e-4df3-9420-396d860d9f8b",
     "showTitle": false,
     "title": ""
    }
   },
   "outputs": [
    {
     "name": "stdout",
     "output_type": "stream",
     "text": [
      "This is a MOOC about large language models, I have only just started, but already  we  are  discussing  several  different  approaches .  Please  continue  reading  :) \n",
      " \n",
      " There  have  been  many  other  languages  like  Scala  and  Java  and  Python \n",
      "GPT-2 Small completed.\n"
     ]
    }
   ],
   "source": [
    "# We use the tokenizer to convert the prompt into a format that the model can understand. In this case,\n",
    "# it converts the string into a sequence of token IDs, which are numbers that represent each word or subword in the string.\n",
    "inputs_small = tokenizer_small.encode(prompt, return_tensors='pt')\n",
    "\n",
    "# Create an attention mask. This is a sequence of 1s and 0s where 1s indicate that the corresponding token should\n",
    "# be attended to and 0s indicate that the token should be ignored. Here, all tokens should be attended to.\n",
    "attention_mask_small = torch.ones(inputs_small.shape, dtype=torch.long)\n",
    "\n",
    "# Get the ID of the special end-of-sequence (EOS) token from the tokenizer. This token indicates the end of a sequence.\n",
    "pad_token_id_small = tokenizer_small.eos_token_id  \n",
    "\n",
    "# Print the initial prompt. The 'end' argument specifies what to print at the end (default is newline, but we want space).\n",
    "# 'flush' argument ensures that the output is printed immediately.\n",
    "print(prompt, end=\" \", flush=True)\n",
    "\n",
    "# We're going to generate 25 words\n",
    "for _ in range(25):\n",
    "\n",
    "    # Generate the next part of the sequence. 'do_sample=True' means to sample from the distribution of possible next tokens\n",
    "    # rather than just taking the most likely next token. 'pad_token_id' argument is to tell the model what token to use if it\n",
    "    # needs to pad the sequence to a certain length.\n",
    "    outputs_small = model_small.generate(inputs_small, max_length=inputs_small.shape[-1]+1, do_sample=True, pad_token_id=pad_token_id_small,\n",
    "                                         attention_mask=attention_mask_small)\n",
    "\n",
    "    # The generated output is a sequence of token IDs, so we use the tokenizer to convert these back into words.\n",
    "    generated_word = tokenizer_small.decode(outputs_small[0][-1])\n",
    "\n",
    "    # Print the generated word, followed by a space. We use 'end' and 'flush' arguments as before.\n",
    "    print(generated_word, end=' ', flush=True)\n",
    "\n",
    "    # Append the generated token to the input sequence for the next round of generation. We have to add extra dimensions \n",
    "    # to the tensor to match the shape of the input tensor (which is 2D: batch size x sequence length).\n",
    "    inputs_small = torch.cat([inputs_small, outputs_small[0][-1].unsqueeze(0).unsqueeze(0)], dim=-1)\n",
    "\n",
    "    # Extend the attention mask for the new token. Like before, it should be attended to, so we add a 1.\n",
    "    attention_mask_small = torch.cat([attention_mask_small, torch.ones((1, 1), dtype=torch.long)], dim=-1)\n",
    "\n",
    "    # We pause for 0.7 seconds to make the generation more readable.\n",
    "    time.sleep(0.7)\n",
    "\n",
    "# Finally, print a newline and a completion message.\n",
    "print(\"\\nGPT-2 Small completed.\")"
   ]
  },
  {
   "cell_type": "code",
   "execution_count": null,
   "metadata": {
    "application/vnd.databricks.v1+cell": {
     "cellMetadata": {
      "byteLimit": 2048000,
      "rowLimit": 10000
     },
     "inputWidgets": {},
     "nuid": "f01d74ae-f176-4297-ac6d-3ecadecb3026",
     "showTitle": false,
     "title": ""
    }
   },
   "outputs": [
    {
     "name": "stderr",
     "output_type": "stream",
     "text": [
      "/databricks/python/lib/python3.10/site-packages/huggingface_hub/file_download.py:133: UserWarning: `huggingface_hub` cache-system uses symlinks by default to efficiently store duplicated files but your machine does not support them in /dbfs/mnt/dbacademy-datasets/llm-foundation-models/v01-raw/models. Caching files will still work but in a degraded version that might require more space on your disk. This warning can be disabled by setting the `HF_HUB_DISABLE_SYMLINKS_WARNING` environment variable. For more details, see https://huggingface.co/docs/huggingface_hub/how-to-cache#limitations.\n",
      "  warnings.warn(message)\n"
     ]
    }
   ],
   "source": [
    "tokenizer_large = GPT2Tokenizer.from_pretrained(\"gpt2-XL\", cache_dir=DA.paths.datasets+\"/models\")\n",
    "model_large = GPT2LMHeadModel.from_pretrained(\"gpt2-XL\", cache_dir=DA.paths.datasets+\"/models\")"
   ]
  },
  {
   "cell_type": "code",
   "execution_count": null,
   "metadata": {
    "application/vnd.databricks.v1+cell": {
     "cellMetadata": {
      "byteLimit": 2048000,
      "rowLimit": 10000
     },
     "inputWidgets": {},
     "nuid": "592283f4-0923-4957-b25c-bc40e30d00e6",
     "showTitle": false,
     "title": ""
    }
   },
   "outputs": [
    {
     "name": "stdout",
     "output_type": "stream",
     "text": [
      "This is a MOOC about large language models, I have only just started, but already  we  have  a  significant  number  of  students  who  have  managed  to  make  a  real  case  for  large  models ,  and  most  of  them  have  been \n",
      "GPT-2 XL completed.\n"
     ]
    }
   ],
   "source": [
    "# Generate text with GPT-2 XL\n",
    "inputs_large = tokenizer_large.encode(prompt, return_tensors=\"pt\")\n",
    "\n",
    "# Add in the attention mask and pad token id\n",
    "attention_mask_large = torch.ones(inputs_large.shape, dtype=torch.long)  # Creating a mask of ones with the same shape as inputs\n",
    "pad_token_id_large = tokenizer_large.eos_token_id  # Get the eos_token_id from the tokenizer\n",
    "\n",
    "print(prompt, end=\" \", flush=True)\n",
    "for _ in range(25):  # Generate 25 words\n",
    "    outputs_large = model_large.generate(inputs_large, max_length=inputs_large.shape[-1]+1, do_sample=True, pad_token_id=pad_token_id_large,\n",
    "                                         attention_mask=attention_mask_large)\n",
    "    generated_word = tokenizer_large.decode(outputs_large[0][-1])\n",
    "    print(generated_word, end=\" \", flush=True)\n",
    "    inputs_large = torch.cat([inputs_large, outputs_large[0][-1].unsqueeze(0).unsqueeze(0)], dim=-1)\n",
    "    attention_mask_large = torch.cat([attention_mask_large, torch.ones((1, 1), dtype=torch.long)], dim=-1)\n",
    "    time.sleep(0.7)\n",
    "print(\"\\nGPT-2 XL completed.\")"
   ]
  },
  {
   "cell_type": "markdown",
   "metadata": {
    "application/vnd.databricks.v1+cell": {
     "cellMetadata": {},
     "inputWidgets": {},
     "nuid": "40b82f15-0af6-4e21-958a-45d8901f4570",
     "showTitle": false,
     "title": ""
    }
   },
   "source": [
    "&copy; 2023 Databricks, Inc. All rights reserved.<br/>\n",
    "Apache, Apache Spark, Spark and the Spark logo are trademarks of the <a href=\"https://www.apache.org/\">Apache Software Foundation</a>.<br/>\n",
    "<br/>\n",
    "<a href=\"https://databricks.com/privacy-policy\">Privacy Policy</a> | <a href=\"https://databricks.com/terms-of-use\">Terms of Use</a> | <a href=\"https://help.databricks.com/\">Support</a>"
   ]
  }
 ],
 "metadata": {
  "application/vnd.databricks.v1+notebook": {
   "dashboards": [],
   "language": "python",
   "notebookMetadata": {
    "pythonIndentUnit": 4
   },
   "notebookName": "LLM 01 - Transformer Architecture run",
   "widgets": {}
  },
  "kernelspec": {
   "display_name": "llms-pocs-env",
   "language": "python",
   "name": "python3"
  },
  "language_info": {
   "codemirror_mode": {
    "name": "ipython",
    "version": 3
   },
   "file_extension": ".py",
   "mimetype": "text/x-python",
   "name": "python",
   "nbconvert_exporter": "python",
   "pygments_lexer": "ipython3",
   "version": "3.9.18"
  }
 },
 "nbformat": 4,
 "nbformat_minor": 0
}
