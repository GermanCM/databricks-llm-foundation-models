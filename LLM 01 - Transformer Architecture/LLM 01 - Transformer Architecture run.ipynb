{
 "cells": [
  {
   "cell_type": "markdown",
   "metadata": {
    "application/vnd.databricks.v1+cell": {
     "cellMetadata": {},
     "inputWidgets": {},
     "nuid": "c9f9e019-5e42-4a3f-b491-f0c080ca1a41",
     "showTitle": false,
     "title": ""
    }
   },
   "source": [
    "\n",
    "<div style=\"text-align: center; line-height: 0; padding-top: 9px;\">\n",
    "  <img src=\"https://databricks.com/wp-content/uploads/2018/03/db-academy-rgb-1200px.png\" alt=\"Databricks Learning\" style=\"width: 600px\">\n",
    "</div>"
   ]
  },
  {
   "cell_type": "markdown",
   "metadata": {
    "application/vnd.databricks.v1+cell": {
     "cellMetadata": {},
     "inputWidgets": {},
     "nuid": "33b64b71-fc4b-4098-8bca-b1a44cc452bd",
     "showTitle": false,
     "title": ""
    }
   },
   "source": [
    "\n",
    "# Diving into the Transformer - Building your own Foundation LLM\n",
    "\n",
    "This lesson introduces the underlying structure of transformers from token management to the layers in a decoder, to comparing smaller and larger models. We will build up all of the steps needed to create our foundation model before training. You will see how the layers are constructed, and how the next word is chosen. \n",
    "\n",
    "### ![Dolly](https://files.training.databricks.com/images/llm/dolly_small.png) Learning Objectives\n",
    "1. Identify the key structures and functions in decoder transformers\n",
    "1. Analyze the effect of hyperparameter changes (such as embedding dimension) on the size of the LLM\n",
    "1. Compare the different performance of models with different model architectures\n",
    "\n",
    "🖥️ Fuente extra [**Understanding and Coding the Self-Attention Mechanism of Large Language Models From Scratch**]: https://sebastianraschka.com/blog/2023/self-attention-from-scratch.html <br>\n",
    "📙 Deep Learning with Python book: 11.4 The Transformer architecture"
   ]
  },
  {
   "cell_type": "markdown",
   "metadata": {
    "application/vnd.databricks.v1+cell": {
     "cellMetadata": {},
     "inputWidgets": {},
     "nuid": "7578eaf0-52e7-4353-8d05-0e56f5ae514a",
     "showTitle": false,
     "title": ""
    }
   },
   "source": [
    "\n",
    "## Classroom Setup"
   ]
  },
  {
   "cell_type": "code",
   "execution_count": null,
   "metadata": {
    "application/vnd.databricks.v1+cell": {
     "cellMetadata": {
      "byteLimit": 2048000,
      "rowLimit": 10000
     },
     "inputWidgets": {},
     "nuid": "33d7e9cc-d58d-4939-a0ec-66ddd2803338",
     "showTitle": false,
     "title": ""
    }
   },
   "outputs": [
    {
     "name": "stdout",
     "output_type": "stream",
     "text": [
      "\u001b[43mNote: you may need to restart the kernel using dbutils.library.restartPython() to use updated packages.\u001b[0m\n",
      "\u001b[43mNote: you may need to restart the kernel using dbutils.library.restartPython() to use updated packages.\u001b[0m\n"
     ]
    },
    {
     "name": "stdout",
     "output_type": "stream",
     "text": [
      "Resetting the learning environment:\n",
      "| enumerating serving endpoints...found 4...(0 seconds)\n",
      "| No action taken\n",
      "\n",
      "Skipping install of existing datasets to \"dbfs:/mnt/dbacademy-datasets/llm-foundation-models/v01-raw\"\n",
      "\n",
      "Validating the locally installed datasets:\n",
      "| listing local files...(4 seconds)\n",
      "| validation completed...(4 seconds total)\n"
     ]
    },
    {
     "name": "stdout",
     "output_type": "stream",
     "text": [
      "Importing lab testing framework.\n"
     ]
    },
    {
     "name": "stdout",
     "output_type": "stream",
     "text": [
      "\n",
      "Using the \"default\" schema.\n",
      "\n",
      "Predefined paths variables:\n",
      "| DA.paths.working_dir: /dbfs/mnt/dbacademy-users/labuser4780184@vocareum.com/llm-foundation-models\n",
      "| DA.paths.user_db:     dbfs:/mnt/dbacademy-users/labuser4780184@vocareum.com/llm-foundation-models/database.db\n",
      "| DA.paths.datasets:    /dbfs/mnt/dbacademy-datasets/llm-foundation-models/v01-raw\n",
      "\n",
      "Setup completed (16 seconds)\n",
      "\n",
      "The models developed or used in this course are for demonstration and learning purposes only.\n",
      "Models may occasionally output offensive, inaccurate, biased information, or harmful instructions.\n"
     ]
    },
    {
     "data": {
      "text/plain": [
       "device(type='cpu')"
      ]
     },
     "execution_count": 13,
     "metadata": {},
     "output_type": "execute_result"
    }
   ],
   "source": [
    "%run ../Includes/Classroom-Setup"
   ]
  },
  {
   "cell_type": "code",
   "execution_count": 4,
   "metadata": {
    "application/vnd.databricks.v1+cell": {
     "cellMetadata": {
      "byteLimit": 2048000,
      "rowLimit": 10000
     },
     "inputWidgets": {},
     "nuid": "c6cecf45-6813-4b6b-8246-e14998f344b8",
     "showTitle": false,
     "title": ""
    }
   },
   "outputs": [],
   "source": [
    "# Import the necessary libraries\n",
    "import torch\n",
    "import torch.nn as nn\n",
    "import torch.nn.functional as F\n",
    "import math\n",
    "import time\n",
    "import numpy as np\n",
    "import matplotlib.pyplot as plt\n",
    "#import seaborn"
   ]
  },
  {
   "cell_type": "markdown",
   "metadata": {
    "application/vnd.databricks.v1+cell": {
     "cellMetadata": {
      "byteLimit": 2048000,
      "rowLimit": 10000
     },
     "inputWidgets": {},
     "nuid": "3970e6a3-93b3-4ec9-afed-4f4de2991e7c",
     "showTitle": false,
     "title": ""
    }
   },
   "source": [
    "### PyTorch version of EMBEDDING layer:\n",
    "    \n",
    "''' nn.Embedding(numb_embeddings, embedding_dim, padding_idx=None, max_norm=None, norm_type=2., scale_grad_by_freq=False, sparse=False, _weight=None) '''\n",
    "\n",
    "* num_embeddings: the size of the dictionary of embeddings, the number of embeddings\n",
    "* embedding_dim: the size of each embedding vector e.g. 16, 32\n",
    "* padding_idx: the position of the \"<PAD>\" token in the vocabulary, if any\n",
    "* max_norm: maximum norm of the word embedding in the embedding matrix\n",
    "* norm_type: type of p-norm used to compute the norm over embeddings, by default 2 (euclidean distance)\n",
    "* scale_grad_by_freq: Boolean indicating whether to scale the gradients by the word frequency\n",
    "* sparse: boolean to decide whether to allocate sparse tensor of dense tensor\n",
    "* _weight: initial weights for the embeddings, can be None for the default initializer"
   ]
  },
  {
   "cell_type": "markdown",
   "metadata": {
    "application/vnd.databricks.v1+cell": {
     "cellMetadata": {},
     "inputWidgets": {},
     "nuid": "afdf3c5d-266d-4d7c-9dd7-2220daf1d923",
     "showTitle": false,
     "title": ""
    }
   },
   "source": [
    "### Tensorflow Keras version of EMBEDDING layer:\n",
    "\n",
    "from tensorflow.keras.layers import Embedding\n",
    "\n",
    "➡️ Define Keras Embedding layer which is equivalent to PyTorch nn.Embedding layer <br>\n",
    "''' keras_embedding = Embedding(input_dim=num_embeddings, output_dim=embedding_dim, input_length=max_len, mask_zero=True) '''\n",
    "\n",
    "* num_embeddings: the size of the dictionary of embeddings, the number of embeddings\n",
    "* embedding_dim: the size of each embedding vector e.g. 16, 32\n",
    "* max_len: maximum length of sequence\n",
    "* mask_zero: boolean for whether or not input value 0 is a special \"padding\" value that should be masked out\n",
    "\n",
    "➡️ Convert text to indices\n",
    "padded_input_ids = tf.keras.preprocessing.sequence.pad_sequences([[word2id[word] for word in sentence.split()]], maxlen=max_len, padding='post')\n",
    "\n",
    "👉🏼 Get word embeddings\n",
    "keras_word_embeddings = keras_embedding(padded_input_ids)\n"
   ]
  },
  {
   "cell_type": "markdown",
   "metadata": {
    "application/vnd.databricks.v1+cell": {
     "cellMetadata": {},
     "inputWidgets": {},
     "nuid": "fcf5d6f4-d212-4e52-8b64-695d5d79ecb9",
     "showTitle": false,
     "title": ""
    }
   },
   "source": [
    "# Section 1: Encoding Natural Language - Word Embedding and Positional Encoding\n",
    "\n",
    "In this section we'll look at how to take a natural language input and convert it to the form we'll need for our transformer."
   ]
  },
  {
   "cell_type": "code",
   "execution_count": 5,
   "metadata": {
    "application/vnd.databricks.v1+cell": {
     "cellMetadata": {
      "byteLimit": 2048000,
      "rowLimit": 10000
     },
     "inputWidgets": {},
     "nuid": "5dcb7be1-7059-401e-94cf-d13fea2c650a",
     "showTitle": false,
     "title": ""
    }
   },
   "outputs": [
    {
     "name": "stdout",
     "output_type": "stream",
     "text": [
      "{'dog': 0, 'fox': 1, 'quick': 2, 'lazy': 3, 'the': 4, 'over': 5, 'The': 6, 'brown': 7, 'jumps': 8}\n",
      "tensor([6, 2, 7, 1, 8, 5, 4, 3, 0])\n",
      "tensor([[ 1.6922, -0.6028, -1.5591, -0.4485,  0.4736, -1.0285, -0.6720,  1.5740,\n",
      "         -0.7791, -0.3183, -1.4979, -0.0072, -1.6297,  1.1076, -1.6260,  0.3003],\n",
      "        [ 0.5904,  2.2226, -0.1245,  0.7527, -0.5288, -2.7540,  1.2208, -0.4737,\n",
      "         -1.5268,  0.1457,  1.1359, -0.3723, -0.1173,  0.3412, -1.8589,  0.3761],\n",
      "        [-0.2694,  0.4259,  1.1805, -0.0112, -0.9522,  1.3667, -0.3900, -1.3261,\n",
      "         -1.9653, -0.7404,  0.2349,  0.0365, -0.1915,  1.1963,  0.1314, -0.9965],\n",
      "        [ 1.3636,  1.2177,  0.7194, -0.4719,  0.9141, -1.3273,  0.4401,  0.4189,\n",
      "         -0.6676, -0.1300,  0.0901, -1.0224, -0.0254,  0.9984,  0.9541,  0.8136],\n",
      "        [-0.6973, -0.8377, -0.2562, -1.6813, -0.2509,  2.3730, -0.2083, -1.8854,\n",
      "         -0.6832,  0.4405,  2.4989, -0.5780, -0.2079, -0.3353, -0.9887,  0.8433],\n",
      "        [ 0.7661, -0.9616, -0.7580, -0.5196,  0.4714,  0.2076,  0.6201, -1.6354,\n",
      "          1.8347, -0.3825,  1.1995, -1.1195, -1.4710, -1.4741, -0.1377,  0.1505],\n",
      "        [ 0.8702, -0.6409, -0.3182,  0.6671,  1.4627, -0.4298, -0.4288, -0.0128,\n",
      "          1.4314,  0.1519,  0.0279,  0.1131, -0.2834,  0.0950,  0.6817, -1.0455],\n",
      "        [ 0.2894, -0.9586,  1.9538, -1.5537,  0.4587,  0.3813,  0.7677,  1.2729,\n",
      "         -0.6204,  0.2851, -0.0391, -0.5758,  0.5498, -0.1550,  0.2588, -0.7029],\n",
      "        [ 0.4842,  0.6854,  0.5943,  1.0020, -2.1629, -1.6453,  1.2410, -0.0812,\n",
      "         -0.6963, -2.1782, -0.6192,  1.4418, -0.9296, -0.7247,  0.6823, -0.3703]],\n",
      "       grad_fn=<EmbeddingBackward0>)\n"
     ]
    }
   ],
   "source": [
    "# Define a sentence and a simple word2id mapping\n",
    "sentence = \"The quick brown fox jumps over the lazy dog\"\n",
    "word2id = {word: i for i, word in enumerate(set(sentence.split()))}\n",
    "print(word2id)\n",
    "# Convert text to indices\n",
    "input_ids = torch.tensor([word2id[word] for word in sentence.split()])\n",
    "print(input_ids)\n",
    "# Define a simple word embedding function\n",
    "def get_word_embeddings(input_ids, embedding_size):\n",
    "    embedding_layer = nn.Embedding(input_ids.max() + 1, embedding_size)\n",
    "    return embedding_layer(input_ids)\n",
    "\n",
    "\n",
    "# Get word embeddings\n",
    "embedding_size = 16  # Size of the word embeddings\n",
    "word_embeddings = get_word_embeddings(input_ids, embedding_size)\n",
    "print(word_embeddings)"
   ]
  },
  {
   "cell_type": "code",
   "execution_count": 5,
   "metadata": {},
   "outputs": [],
   "source": [
    "# embedding_layer = nn.Embedding(input_ids.max() + 1, embedding_size)\n",
    "# embedding_layer.from_pretrained()"
   ]
  },
  {
   "cell_type": "markdown",
   "metadata": {},
   "source": [
    "### 📊 Ploteamos una proyección bidimensional de los word embeddings:"
   ]
  },
  {
   "cell_type": "code",
   "execution_count": 6,
   "metadata": {},
   "outputs": [
    {
     "data": {
      "image/png": "[encoded data removed]",
      "text/plain": [
       "<Figure size 800x600 with 1 Axes>"
      ]
     },
     "metadata": {},
     "output_type": "display_data"
    }
   ],
   "source": [
    "import matplotlib.pyplot as plt\n",
    "\n",
    "words = [word for word in word2id.keys()]\n",
    "word_embeddings_np = word_embeddings.detach().numpy()\n",
    "\n",
    "plt.figure(figsize=(8, 6))\n",
    "plt.scatter([e[0] for e in word_embeddings_np], [e[1] for e in word_embeddings_np])\n",
    "\n",
    "for i, word in enumerate(words):\n",
    "    plt.annotate(word, (word_embeddings_np[i][0], word_embeddings_np[i][1]))\n",
    "\n",
    "plt.xlabel('Dimension 1')\n",
    "plt.ylabel('Dimension 2')\n",
    "plt.title('Word Embeddings Scatter Plot')\n",
    "plt.grid(True)\n",
    "plt.show()"
   ]
  },
  {
   "cell_type": "markdown",
   "metadata": {},
   "source": [
    "📝 Y si indicamos las distancias euclídeas en un dataset?"
   ]
  },
  {
   "cell_type": "code",
   "execution_count": 8,
   "metadata": {},
   "outputs": [
    {
     "data": {
      "text/html": [
       "<div>\n",
       "<style scoped>\n",
       "    .dataframe tbody tr th:only-of-type {\n",
       "        vertical-align: middle;\n",
       "    }\n",
       "\n",
       "    .dataframe tbody tr th {\n",
       "        vertical-align: top;\n",
       "    }\n",
       "\n",
       "    .dataframe thead th {\n",
       "        text-align: right;\n",
       "    }\n",
       "</style>\n",
       "<table border=\"1\" class=\"dataframe\">\n",
       "  <thead>\n",
       "    <tr style=\"text-align: right;\">\n",
       "      <th></th>\n",
       "      <th>words_pair</th>\n",
       "      <th>euclidean distance</th>\n",
       "    </tr>\n",
       "  </thead>\n",
       "  <tbody>\n",
       "    <tr>\n",
       "      <th>21</th>\n",
       "      <td>(The, over)</td>\n",
       "      <td>7.135257</td>\n",
       "    </tr>\n",
       "    <tr>\n",
       "      <th>26</th>\n",
       "      <td>(over, the)</td>\n",
       "      <td>6.982312</td>\n",
       "    </tr>\n",
       "    <tr>\n",
       "      <th>0</th>\n",
       "      <td>(brown, jumps)</td>\n",
       "      <td>6.541590</td>\n",
       "    </tr>\n",
       "    <tr>\n",
       "      <th>23</th>\n",
       "      <td>(The, fox)</td>\n",
       "      <td>6.330940</td>\n",
       "    </tr>\n",
       "    <tr>\n",
       "      <th>16</th>\n",
       "      <td>(dog, over)</td>\n",
       "      <td>6.264368</td>\n",
       "    </tr>\n",
       "    <tr>\n",
       "      <th>1</th>\n",
       "      <td>(brown, dog)</td>\n",
       "      <td>6.259739</td>\n",
       "    </tr>\n",
       "    <tr>\n",
       "      <th>31</th>\n",
       "      <td>(the, quick)</td>\n",
       "      <td>6.157048</td>\n",
       "    </tr>\n",
       "    <tr>\n",
       "      <th>24</th>\n",
       "      <td>(The, quick)</td>\n",
       "      <td>6.108881</td>\n",
       "    </tr>\n",
       "    <tr>\n",
       "      <th>10</th>\n",
       "      <td>(jumps, over)</td>\n",
       "      <td>6.096350</td>\n",
       "    </tr>\n",
       "    <tr>\n",
       "      <th>12</th>\n",
       "      <td>(jumps, fox)</td>\n",
       "      <td>6.088368</td>\n",
       "    </tr>\n",
       "    <tr>\n",
       "      <th>14</th>\n",
       "      <td>(jumps, lazy)</td>\n",
       "      <td>6.001267</td>\n",
       "    </tr>\n",
       "    <tr>\n",
       "      <th>4</th>\n",
       "      <td>(brown, the)</td>\n",
       "      <td>5.996099</td>\n",
       "    </tr>\n",
       "    <tr>\n",
       "      <th>18</th>\n",
       "      <td>(dog, fox)</td>\n",
       "      <td>5.978033</td>\n",
       "    </tr>\n",
       "    <tr>\n",
       "      <th>19</th>\n",
       "      <td>(dog, quick)</td>\n",
       "      <td>5.966783</td>\n",
       "    </tr>\n",
       "    <tr>\n",
       "      <th>3</th>\n",
       "      <td>(brown, over)</td>\n",
       "      <td>5.954744</td>\n",
       "    </tr>\n",
       "    <tr>\n",
       "      <th>9</th>\n",
       "      <td>(jumps, The)</td>\n",
       "      <td>5.937568</td>\n",
       "    </tr>\n",
       "    <tr>\n",
       "      <th>30</th>\n",
       "      <td>(the, fox)</td>\n",
       "      <td>5.737494</td>\n",
       "    </tr>\n",
       "    <tr>\n",
       "      <th>2</th>\n",
       "      <td>(brown, The)</td>\n",
       "      <td>5.700201</td>\n",
       "    </tr>\n",
       "    <tr>\n",
       "      <th>25</th>\n",
       "      <td>(The, lazy)</td>\n",
       "      <td>5.650815</td>\n",
       "    </tr>\n",
       "    <tr>\n",
       "      <th>33</th>\n",
       "      <td>(fox, quick)</td>\n",
       "      <td>5.476422</td>\n",
       "    </tr>\n",
       "    <tr>\n",
       "      <th>29</th>\n",
       "      <td>(over, lazy)</td>\n",
       "      <td>5.450718</td>\n",
       "    </tr>\n",
       "    <tr>\n",
       "      <th>35</th>\n",
       "      <td>(quick, lazy)</td>\n",
       "      <td>5.450556</td>\n",
       "    </tr>\n",
       "    <tr>\n",
       "      <th>13</th>\n",
       "      <td>(jumps, quick)</td>\n",
       "      <td>5.288718</td>\n",
       "    </tr>\n",
       "    <tr>\n",
       "      <th>6</th>\n",
       "      <td>(brown, quick)</td>\n",
       "      <td>5.267411</td>\n",
       "    </tr>\n",
       "    <tr>\n",
       "      <th>22</th>\n",
       "      <td>(The, the)</td>\n",
       "      <td>5.220405</td>\n",
       "    </tr>\n",
       "    <tr>\n",
       "      <th>11</th>\n",
       "      <td>(jumps, the)</td>\n",
       "      <td>5.190791</td>\n",
       "    </tr>\n",
       "    <tr>\n",
       "      <th>32</th>\n",
       "      <td>(the, lazy)</td>\n",
       "      <td>5.131429</td>\n",
       "    </tr>\n",
       "    <tr>\n",
       "      <th>8</th>\n",
       "      <td>(jumps, dog)</td>\n",
       "      <td>4.975878</td>\n",
       "    </tr>\n",
       "    <tr>\n",
       "      <th>20</th>\n",
       "      <td>(dog, lazy)</td>\n",
       "      <td>4.954738</td>\n",
       "    </tr>\n",
       "    <tr>\n",
       "      <th>5</th>\n",
       "      <td>(brown, fox)</td>\n",
       "      <td>4.785143</td>\n",
       "    </tr>\n",
       "    <tr>\n",
       "      <th>17</th>\n",
       "      <td>(dog, the)</td>\n",
       "      <td>4.639327</td>\n",
       "    </tr>\n",
       "    <tr>\n",
       "      <th>27</th>\n",
       "      <td>(over, fox)</td>\n",
       "      <td>4.637759</td>\n",
       "    </tr>\n",
       "    <tr>\n",
       "      <th>15</th>\n",
       "      <td>(dog, The)</td>\n",
       "      <td>4.555084</td>\n",
       "    </tr>\n",
       "    <tr>\n",
       "      <th>34</th>\n",
       "      <td>(fox, lazy)</td>\n",
       "      <td>4.552147</td>\n",
       "    </tr>\n",
       "    <tr>\n",
       "      <th>7</th>\n",
       "      <td>(brown, lazy)</td>\n",
       "      <td>4.242968</td>\n",
       "    </tr>\n",
       "    <tr>\n",
       "      <th>28</th>\n",
       "      <td>(over, quick)</td>\n",
       "      <td>3.820595</td>\n",
       "    </tr>\n",
       "  </tbody>\n",
       "</table>\n",
       "</div>"
      ],
      "text/plain": [
       "        words_pair  euclidean distance\n",
       "21     (The, over)            7.135257\n",
       "26     (over, the)            6.982312\n",
       "0   (brown, jumps)            6.541590\n",
       "23      (The, fox)            6.330940\n",
       "16     (dog, over)            6.264368\n",
       "1     (brown, dog)            6.259739\n",
       "31    (the, quick)            6.157048\n",
       "24    (The, quick)            6.108881\n",
       "10   (jumps, over)            6.096350\n",
       "12    (jumps, fox)            6.088368\n",
       "14   (jumps, lazy)            6.001267\n",
       "4     (brown, the)            5.996099\n",
       "18      (dog, fox)            5.978033\n",
       "19    (dog, quick)            5.966783\n",
       "3    (brown, over)            5.954744\n",
       "9     (jumps, The)            5.937568\n",
       "30      (the, fox)            5.737494\n",
       "2     (brown, The)            5.700201\n",
       "25     (The, lazy)            5.650815\n",
       "33    (fox, quick)            5.476422\n",
       "29    (over, lazy)            5.450718\n",
       "35   (quick, lazy)            5.450556\n",
       "13  (jumps, quick)            5.288718\n",
       "6   (brown, quick)            5.267411\n",
       "22      (The, the)            5.220405\n",
       "11    (jumps, the)            5.190791\n",
       "32     (the, lazy)            5.131429\n",
       "8     (jumps, dog)            4.975878\n",
       "20     (dog, lazy)            4.954738\n",
       "5     (brown, fox)            4.785143\n",
       "17      (dog, the)            4.639327\n",
       "27     (over, fox)            4.637759\n",
       "15      (dog, The)            4.555084\n",
       "34     (fox, lazy)            4.552147\n",
       "7    (brown, lazy)            4.242968\n",
       "28   (over, quick)            3.820595"
      ]
     },
     "execution_count": 8,
     "metadata": {},
     "output_type": "execute_result"
    }
   ],
   "source": [
    "import pandas as pd\n",
    "from itertools import combinations\n",
    "from scipy.spatial.distance import euclidean\n",
    "\n",
    "# Obtén todas las combinaciones posibles de pares de palabras\n",
    "word_pairs = list(combinations(word2id.keys(), 2))\n",
    "\n",
    "# Calcula la distancia euclidiana entre los vectores de embedding de cada par de palabras\n",
    "distances = [euclidean(word_embeddings.detach().numpy()[word2id[pair[0]]], word_embeddings.detach().numpy()[word2id[pair[1]]])\n",
    "             for pair in word_pairs]\n",
    "\n",
    "# Crea el DataFrame con las columnas \"words_pair\" y \"euclidean distance\"\n",
    "df = pd.DataFrame({'words_pair': word_pairs, 'euclidean distance': distances})\n",
    "\n",
    "# Imprime el DataFrame\n",
    "df_sorted = df.sort_values(by='euclidean distance', ascending=False)\n",
    "df_sorted"
   ]
  },
  {
   "cell_type": "markdown",
   "metadata": {},
   "source": [
    "❓La proyección bidimensional no parece ir acorde a las distancias euclídeas (mirar el caso (over, quick))"
   ]
  },
  {
   "cell_type": "markdown",
   "metadata": {},
   "source": [
    "## ❗️ Probar con más vocabulario o con pretrained embeddings ❗️"
   ]
  },
  {
   "cell_type": "code",
   "execution_count": 12,
   "metadata": {},
   "outputs": [
    {
     "name": "stderr",
     "output_type": "stream",
     "text": [
      ".vector_cache/glove.6B.zip: 862MB [02:40, 5.36MB/s]                               \n",
      "100%|█████████▉| 399999/400000 [00:17<00:00, 22847.28it/s]\n"
     ]
    },
    {
     "data": {
      "text/plain": [
       "tensor([[0., 0., 0., 0., 0., 0., 0., 0., 0., 0., 0., 0., 0., 0., 0., 0., 0., 0., 0., 0., 0., 0., 0., 0.,\n",
       "         0., 0., 0., 0., 0., 0., 0., 0., 0., 0., 0., 0., 0., 0., 0., 0., 0., 0., 0., 0., 0., 0., 0., 0.,\n",
       "         0., 0., 0., 0., 0., 0., 0., 0., 0., 0., 0., 0., 0., 0., 0., 0., 0., 0., 0., 0., 0., 0., 0., 0.,\n",
       "         0., 0., 0., 0., 0., 0., 0., 0., 0., 0., 0., 0., 0., 0., 0., 0., 0., 0., 0., 0., 0., 0., 0., 0.,\n",
       "         0., 0., 0., 0., 0., 0., 0., 0., 0., 0., 0., 0., 0., 0., 0., 0., 0., 0., 0., 0., 0., 0., 0., 0.,\n",
       "         0., 0., 0., 0., 0., 0., 0., 0., 0., 0., 0., 0., 0., 0., 0., 0., 0., 0., 0., 0., 0., 0., 0., 0.,\n",
       "         0., 0., 0., 0., 0., 0., 0., 0., 0., 0., 0., 0., 0., 0., 0., 0., 0., 0., 0., 0., 0., 0., 0., 0.,\n",
       "         0., 0., 0., 0., 0., 0., 0., 0., 0., 0., 0., 0., 0., 0., 0., 0., 0., 0., 0., 0., 0., 0., 0., 0.,\n",
       "         0., 0., 0., 0., 0., 0., 0., 0., 0., 0., 0., 0., 0., 0., 0., 0., 0., 0., 0., 0., 0., 0., 0., 0.,\n",
       "         0., 0., 0., 0., 0., 0., 0., 0., 0., 0., 0., 0., 0., 0., 0., 0., 0., 0., 0., 0., 0., 0., 0., 0.,\n",
       "         0., 0., 0., 0., 0., 0., 0., 0., 0., 0., 0., 0., 0., 0., 0., 0., 0., 0., 0., 0., 0., 0., 0., 0.,\n",
       "         0., 0., 0., 0., 0., 0., 0., 0., 0., 0., 0., 0., 0., 0., 0., 0., 0., 0., 0., 0., 0., 0., 0., 0.,\n",
       "         0., 0., 0., 0., 0., 0., 0., 0., 0., 0., 0., 0.]])"
      ]
     },
     "execution_count": 12,
     "metadata": {},
     "output_type": "execute_result"
    }
   ],
   "source": [
    "import torch\n",
    "import torchtext\n",
    "import torch.nn as nn\n",
    "\n",
    "# Carga los embeddings pre-entrenados\n",
    "pretrained_embeddings = torchtext.vocab.GloVe(name='6B', dim=300)\n",
    "\n",
    "# Obtiene el vector de una palabra específica\n",
    "word_vector = pretrained_embeddings['The'].unsqueeze(0)\n",
    "word_vector\n"
   ]
  },
  {
   "cell_type": "markdown",
   "metadata": {},
   "source": [
    "➡️ contiene todo 0s porque no contiene esa palabra, sino la lower cased:"
   ]
  },
  {
   "cell_type": "code",
   "execution_count": 15,
   "metadata": {},
   "outputs": [
    {
     "data": {
      "text/plain": [
       "tensor([[ 4.6560e-02,  2.1318e-01, -7.4364e-03, -4.5854e-01, -3.5639e-02,\n",
       "          2.3643e-01, -2.8836e-01,  2.1521e-01, -1.3486e-01, -1.6413e+00,\n",
       "         -2.6091e-01,  3.2434e-02,  5.6621e-02, -4.3296e-02, -2.1672e-02,\n",
       "          2.2476e-01, -7.5129e-02, -6.7018e-02, -1.4247e-01,  3.8825e-02,\n",
       "         -1.8951e-01,  2.9977e-01,  3.9305e-01,  1.7887e-01, -1.7343e-01,\n",
       "         -2.1178e-01,  2.3617e-01, -6.3681e-02, -4.2318e-01, -1.1661e-01,\n",
       "          9.3754e-02,  1.7296e-01, -3.3073e-01,  4.9112e-01, -6.8995e-01,\n",
       "         -9.2462e-02,  2.4742e-01, -1.7991e-01,  9.7908e-02,  8.3118e-02,\n",
       "          1.5299e-01, -2.7276e-01, -3.8934e-02,  5.4453e-01,  5.3737e-01,\n",
       "          2.9105e-01, -7.3514e-03,  4.7880e-02, -4.0760e-01, -2.6759e-02,\n",
       "          1.7919e-01,  1.0977e-02, -1.0963e-01, -2.6395e-01,  7.3990e-02,\n",
       "          2.6236e-01, -1.5080e-01,  3.4623e-01,  2.5758e-01,  1.1971e-01,\n",
       "         -3.7135e-02, -7.1593e-02,  4.3898e-01, -4.0764e-02,  1.6425e-02,\n",
       "         -4.4640e-01,  1.7197e-01,  4.6246e-02,  5.8639e-02,  4.1499e-02,\n",
       "          5.3948e-01,  5.2495e-01,  1.1361e-01, -4.8315e-02, -3.6385e-01,\n",
       "          1.8704e-01,  9.2761e-02, -1.1129e-01, -4.2085e-01,  1.3992e-01,\n",
       "         -3.9338e-01, -6.7945e-02,  1.2188e-01,  1.6707e-01,  7.5169e-02,\n",
       "         -1.5529e-02, -1.9499e-01,  1.9638e-01,  5.3194e-02,  2.5170e-01,\n",
       "         -3.4845e-01, -1.0638e-01, -3.4692e-01, -1.9024e-01, -2.0040e-01,\n",
       "          1.2154e-01, -2.9208e-01,  2.3353e-02, -1.1618e-01, -3.5768e-01,\n",
       "          6.2304e-02,  3.5884e-01,  2.9060e-02,  7.3005e-03,  4.9482e-03,\n",
       "         -1.5048e-01, -1.2313e-01,  1.9337e-01,  1.2173e-01,  4.4503e-01,\n",
       "          2.5147e-01,  1.0781e-01, -1.7716e-01,  3.8691e-02,  8.1530e-02,\n",
       "          1.4667e-01,  6.3666e-02,  6.1332e-02, -7.5569e-02, -3.7724e-01,\n",
       "          1.5850e-02, -3.0342e-01,  2.8374e-01, -4.2013e-02, -4.0715e-02,\n",
       "         -1.5269e-01,  7.4980e-02,  1.5577e-01,  1.0433e-01,  3.1393e-01,\n",
       "          1.9309e-01,  1.9429e-01,  1.5185e-01, -1.0192e-01, -1.8785e-02,\n",
       "          2.0791e-01,  1.3366e-01,  1.9038e-01, -2.5558e-01,  3.0400e-01,\n",
       "         -1.8960e-02,  2.0147e-01, -4.2110e-01, -7.5156e-03, -2.7977e-01,\n",
       "         -1.9314e-01,  4.6204e-02,  1.9971e-01, -3.0207e-01,  2.5735e-01,\n",
       "          6.8107e-01, -1.9409e-01,  2.3984e-01,  2.2493e-01,  6.5224e-01,\n",
       "         -1.3561e-01, -1.7383e-01, -4.8209e-02, -1.1860e-01,  2.1588e-03,\n",
       "         -1.9525e-02,  1.1948e-01,  1.9346e-01, -4.0820e-01, -8.2966e-02,\n",
       "          1.6626e-01, -1.0601e-01,  3.5861e-01,  1.6922e-01,  7.2590e-02,\n",
       "         -2.4803e-01, -1.0024e-01, -5.2491e-01, -1.7745e-01, -3.6647e-01,\n",
       "          2.6180e-01, -1.2077e-02,  8.3190e-02, -2.1528e-01,  4.1045e-01,\n",
       "          2.9136e-01,  3.0869e-01,  7.8864e-02,  3.2207e-01, -4.1023e-02,\n",
       "         -1.0970e-01, -9.2041e-02, -1.2339e-01, -1.6416e-01,  3.5382e-01,\n",
       "         -8.2774e-02,  3.3171e-01, -2.4738e-01, -4.8928e-02,  1.5746e-01,\n",
       "          1.8988e-01, -2.6642e-02,  6.3315e-02, -1.0673e-02,  3.4089e-01,\n",
       "          1.4106e+00,  1.3417e-01,  2.8191e-01, -2.5940e-01,  5.5267e-02,\n",
       "         -5.2425e-02, -2.5789e-01,  1.9127e-02, -2.2084e-02,  3.2113e-01,\n",
       "          6.8818e-02,  5.1207e-01,  1.6478e-01, -2.0194e-01,  2.9232e-01,\n",
       "          9.8575e-02,  1.3145e-02, -1.0652e-01,  1.3510e-01, -4.5332e-02,\n",
       "          2.0697e-01, -4.8425e-01, -4.4706e-01,  3.3305e-03,  2.9264e-03,\n",
       "         -1.0975e-01, -2.3325e-01,  2.2442e-01, -1.0503e-01,  1.2339e-01,\n",
       "          1.0978e-01,  4.8994e-02, -2.5157e-01,  4.0319e-01,  3.5318e-01,\n",
       "          1.8651e-01, -2.3622e-02, -1.2734e-01,  1.1475e-01,  2.7359e-01,\n",
       "         -2.1866e-01,  1.5794e-02,  8.1754e-01, -2.3792e-02, -8.5469e-01,\n",
       "         -1.6203e-01,  1.8076e-01,  2.8014e-02, -1.4340e-01,  1.3139e-03,\n",
       "         -9.1735e-02, -8.9704e-02,  1.1105e-01, -1.6703e-01,  6.8377e-02,\n",
       "         -8.7388e-02, -3.9789e-02,  1.4184e-02,  2.1187e-01,  2.8579e-01,\n",
       "         -2.8797e-01, -5.8996e-02, -3.2436e-02, -4.7009e-03, -1.7052e-01,\n",
       "         -3.4741e-02, -1.1489e-01,  7.5093e-02,  9.9526e-02,  4.8183e-02,\n",
       "         -7.3775e-02, -4.1817e-01,  4.1268e-03,  4.4414e-01, -1.6062e-01,\n",
       "          1.4294e-01, -2.2628e+00, -2.7347e-02,  8.1311e-01,  7.7417e-01,\n",
       "         -2.5639e-01, -1.1576e-01, -1.1982e-01, -2.1363e-01,  2.8429e-02,\n",
       "          2.7261e-01,  3.1026e-02,  9.6782e-02,  6.7769e-03,  1.4082e-01,\n",
       "         -1.3064e-02, -2.9686e-01, -7.9913e-02,  1.9500e-01,  3.1549e-02,\n",
       "          2.8506e-01, -8.7461e-02,  9.0611e-03, -2.0989e-01,  5.3913e-02]])"
      ]
     },
     "execution_count": 15,
     "metadata": {},
     "output_type": "execute_result"
    }
   ],
   "source": [
    "word_vector = pretrained_embeddings['the'].unsqueeze(0)\n",
    "word_vector"
   ]
  },
  {
   "cell_type": "markdown",
   "metadata": {},
   "source": [
    "### ❓Tardaría mucho menos usando una base de datos vectorial que ya contenga esos embeddings? To check con Databricks? 💡💡💡 <p>\n",
    "\n",
    "Ahora repetimos lo mismo con estos embeddings pre-entrenados:"
   ]
  },
  {
   "cell_type": "code",
   "execution_count": 29,
   "metadata": {},
   "outputs": [
    {
     "data": {
      "text/html": [
       "<div>\n",
       "<style scoped>\n",
       "    .dataframe tbody tr th:only-of-type {\n",
       "        vertical-align: middle;\n",
       "    }\n",
       "\n",
       "    .dataframe tbody tr th {\n",
       "        vertical-align: top;\n",
       "    }\n",
       "\n",
       "    .dataframe thead th {\n",
       "        text-align: right;\n",
       "    }\n",
       "</style>\n",
       "<table border=\"1\" class=\"dataframe\">\n",
       "  <thead>\n",
       "    <tr style=\"text-align: right;\">\n",
       "      <th></th>\n",
       "      <th>words_pair</th>\n",
       "      <th>euclidean distance</th>\n",
       "    </tr>\n",
       "  </thead>\n",
       "  <tbody>\n",
       "    <tr>\n",
       "      <th>29</th>\n",
       "      <td>(over, lazy)</td>\n",
       "      <td>8.471087</td>\n",
       "    </tr>\n",
       "    <tr>\n",
       "      <th>0</th>\n",
       "      <td>(brown, jumps)</td>\n",
       "      <td>8.466522</td>\n",
       "    </tr>\n",
       "    <tr>\n",
       "      <th>32</th>\n",
       "      <td>(the, lazy)</td>\n",
       "      <td>8.266583</td>\n",
       "    </tr>\n",
       "    <tr>\n",
       "      <th>12</th>\n",
       "      <td>(jumps, fox)</td>\n",
       "      <td>8.260901</td>\n",
       "    </tr>\n",
       "    <tr>\n",
       "      <th>8</th>\n",
       "      <td>(jumps, dog)</td>\n",
       "      <td>8.121976</td>\n",
       "    </tr>\n",
       "    <tr>\n",
       "      <th>16</th>\n",
       "      <td>(dog, over)</td>\n",
       "      <td>8.059059</td>\n",
       "    </tr>\n",
       "    <tr>\n",
       "      <th>34</th>\n",
       "      <td>(fox, lazy)</td>\n",
       "      <td>8.041628</td>\n",
       "    </tr>\n",
       "    <tr>\n",
       "      <th>7</th>\n",
       "      <td>(brown, lazy)</td>\n",
       "      <td>8.015525</td>\n",
       "    </tr>\n",
       "    <tr>\n",
       "      <th>10</th>\n",
       "      <td>(jumps, over)</td>\n",
       "      <td>7.997568</td>\n",
       "    </tr>\n",
       "    <tr>\n",
       "      <th>1</th>\n",
       "      <td>(brown, dog)</td>\n",
       "      <td>7.942396</td>\n",
       "    </tr>\n",
       "    <tr>\n",
       "      <th>11</th>\n",
       "      <td>(jumps, the)</td>\n",
       "      <td>7.849084</td>\n",
       "    </tr>\n",
       "    <tr>\n",
       "      <th>33</th>\n",
       "      <td>(fox, quick)</td>\n",
       "      <td>7.831755</td>\n",
       "    </tr>\n",
       "    <tr>\n",
       "      <th>27</th>\n",
       "      <td>(over, fox)</td>\n",
       "      <td>7.813715</td>\n",
       "    </tr>\n",
       "    <tr>\n",
       "      <th>19</th>\n",
       "      <td>(dog, quick)</td>\n",
       "      <td>7.777961</td>\n",
       "    </tr>\n",
       "    <tr>\n",
       "      <th>18</th>\n",
       "      <td>(dog, fox)</td>\n",
       "      <td>7.767117</td>\n",
       "    </tr>\n",
       "    <tr>\n",
       "      <th>14</th>\n",
       "      <td>(jumps, lazy)</td>\n",
       "      <td>7.739300</td>\n",
       "    </tr>\n",
       "    <tr>\n",
       "      <th>17</th>\n",
       "      <td>(dog, the)</td>\n",
       "      <td>7.458118</td>\n",
       "    </tr>\n",
       "    <tr>\n",
       "      <th>30</th>\n",
       "      <td>(the, fox)</td>\n",
       "      <td>7.394752</td>\n",
       "    </tr>\n",
       "    <tr>\n",
       "      <th>20</th>\n",
       "      <td>(dog, lazy)</td>\n",
       "      <td>7.324604</td>\n",
       "    </tr>\n",
       "    <tr>\n",
       "      <th>6</th>\n",
       "      <td>(brown, quick)</td>\n",
       "      <td>7.289819</td>\n",
       "    </tr>\n",
       "    <tr>\n",
       "      <th>13</th>\n",
       "      <td>(jumps, quick)</td>\n",
       "      <td>7.242292</td>\n",
       "    </tr>\n",
       "    <tr>\n",
       "      <th>28</th>\n",
       "      <td>(over, quick)</td>\n",
       "      <td>7.185765</td>\n",
       "    </tr>\n",
       "    <tr>\n",
       "      <th>35</th>\n",
       "      <td>(quick, lazy)</td>\n",
       "      <td>7.162558</td>\n",
       "    </tr>\n",
       "    <tr>\n",
       "      <th>5</th>\n",
       "      <td>(brown, fox)</td>\n",
       "      <td>7.157426</td>\n",
       "    </tr>\n",
       "    <tr>\n",
       "      <th>3</th>\n",
       "      <td>(brown, over)</td>\n",
       "      <td>7.035670</td>\n",
       "    </tr>\n",
       "    <tr>\n",
       "      <th>4</th>\n",
       "      <td>(brown, the)</td>\n",
       "      <td>6.818565</td>\n",
       "    </tr>\n",
       "    <tr>\n",
       "      <th>15</th>\n",
       "      <td>(dog, The)</td>\n",
       "      <td>6.673080</td>\n",
       "    </tr>\n",
       "    <tr>\n",
       "      <th>31</th>\n",
       "      <td>(the, quick)</td>\n",
       "      <td>6.655501</td>\n",
       "    </tr>\n",
       "    <tr>\n",
       "      <th>23</th>\n",
       "      <td>(The, fox)</td>\n",
       "      <td>6.486977</td>\n",
       "    </tr>\n",
       "    <tr>\n",
       "      <th>25</th>\n",
       "      <td>(The, lazy)</td>\n",
       "      <td>6.392241</td>\n",
       "    </tr>\n",
       "    <tr>\n",
       "      <th>9</th>\n",
       "      <td>(jumps, The)</td>\n",
       "      <td>6.259912</td>\n",
       "    </tr>\n",
       "    <tr>\n",
       "      <th>2</th>\n",
       "      <td>(brown, The)</td>\n",
       "      <td>6.131897</td>\n",
       "    </tr>\n",
       "    <tr>\n",
       "      <th>21</th>\n",
       "      <td>(The, over)</td>\n",
       "      <td>5.860192</td>\n",
       "    </tr>\n",
       "    <tr>\n",
       "      <th>24</th>\n",
       "      <td>(The, quick)</td>\n",
       "      <td>5.795814</td>\n",
       "    </tr>\n",
       "    <tr>\n",
       "      <th>26</th>\n",
       "      <td>(over, the)</td>\n",
       "      <td>5.415083</td>\n",
       "    </tr>\n",
       "    <tr>\n",
       "      <th>22</th>\n",
       "      <td>(The, the)</td>\n",
       "      <td>5.181397</td>\n",
       "    </tr>\n",
       "  </tbody>\n",
       "</table>\n",
       "</div>"
      ],
      "text/plain": [
       "        words_pair  euclidean distance\n",
       "29    (over, lazy)            8.471087\n",
       "0   (brown, jumps)            8.466522\n",
       "32     (the, lazy)            8.266583\n",
       "12    (jumps, fox)            8.260901\n",
       "8     (jumps, dog)            8.121976\n",
       "16     (dog, over)            8.059059\n",
       "34     (fox, lazy)            8.041628\n",
       "7    (brown, lazy)            8.015525\n",
       "10   (jumps, over)            7.997568\n",
       "1     (brown, dog)            7.942396\n",
       "11    (jumps, the)            7.849084\n",
       "33    (fox, quick)            7.831755\n",
       "27     (over, fox)            7.813715\n",
       "19    (dog, quick)            7.777961\n",
       "18      (dog, fox)            7.767117\n",
       "14   (jumps, lazy)            7.739300\n",
       "17      (dog, the)            7.458118\n",
       "30      (the, fox)            7.394752\n",
       "20     (dog, lazy)            7.324604\n",
       "6   (brown, quick)            7.289819\n",
       "13  (jumps, quick)            7.242292\n",
       "28   (over, quick)            7.185765\n",
       "35   (quick, lazy)            7.162558\n",
       "5     (brown, fox)            7.157426\n",
       "3    (brown, over)            7.035670\n",
       "4     (brown, the)            6.818565\n",
       "15      (dog, The)            6.673080\n",
       "31    (the, quick)            6.655501\n",
       "23      (The, fox)            6.486977\n",
       "25     (The, lazy)            6.392241\n",
       "9     (jumps, The)            6.259912\n",
       "2     (brown, The)            6.131897\n",
       "21     (The, over)            5.860192\n",
       "24    (The, quick)            5.795814\n",
       "26     (over, the)            5.415083\n",
       "22      (The, the)            5.181397"
      ]
     },
     "execution_count": 29,
     "metadata": {},
     "output_type": "execute_result"
    }
   ],
   "source": [
    "import pandas as pd\n",
    "from itertools import combinations\n",
    "from scipy.spatial.distance import euclidean\n",
    "\n",
    "# Obtén todas las combinaciones posibles de pares de palabras\n",
    "word_pairs = list(combinations(word2id.keys(), 2))\n",
    "\n",
    "# Carga los embeddings pre-entrenados\n",
    "pretrained_embeddings = torchtext.vocab.GloVe(name='6B', dim=300)\n",
    "\n",
    "# Calcula la distancia euclidiana entre los vectores de embedding de cada par de palabras\n",
    "distances = [euclidean(pretrained_embeddings[pair[0]], pretrained_embeddings[pair[1]])\n",
    "             for pair in word_pairs]\n",
    "\n",
    "# Crea el DataFrame con las columnas \"words_pair\" y \"euclidean distance\"\n",
    "df = pd.DataFrame({'words_pair': word_pairs, 'euclidean distance': distances})\n",
    "\n",
    "# Imprime el DataFrame\n",
    "df_sorted = df.sort_values(by='euclidean distance', ascending=False)\n",
    "df_sorted"
   ]
  },
  {
   "cell_type": "code",
   "execution_count": 31,
   "metadata": {},
   "outputs": [
    {
     "data": {
      "text/html": [
       "<div>\n",
       "<style scoped>\n",
       "    .dataframe tbody tr th:only-of-type {\n",
       "        vertical-align: middle;\n",
       "    }\n",
       "\n",
       "    .dataframe tbody tr th {\n",
       "        vertical-align: top;\n",
       "    }\n",
       "\n",
       "    .dataframe thead th {\n",
       "        text-align: right;\n",
       "    }\n",
       "</style>\n",
       "<table border=\"1\" class=\"dataframe\">\n",
       "  <thead>\n",
       "    <tr style=\"text-align: right;\">\n",
       "      <th></th>\n",
       "      <th>words_pair</th>\n",
       "      <th>cosine similarity</th>\n",
       "    </tr>\n",
       "  </thead>\n",
       "  <tbody>\n",
       "    <tr>\n",
       "      <th>26</th>\n",
       "      <td>(over, the)</td>\n",
       "      <td>[tensor(0.5247)]</td>\n",
       "    </tr>\n",
       "    <tr>\n",
       "      <th>20</th>\n",
       "      <td>(dog, lazy)</td>\n",
       "      <td>[tensor(0.3721)]</td>\n",
       "    </tr>\n",
       "    <tr>\n",
       "      <th>5</th>\n",
       "      <td>(brown, fox)</td>\n",
       "      <td>[tensor(0.3576)]</td>\n",
       "    </tr>\n",
       "    <tr>\n",
       "      <th>35</th>\n",
       "      <td>(quick, lazy)</td>\n",
       "      <td>[tensor(0.3124)]</td>\n",
       "    </tr>\n",
       "    <tr>\n",
       "      <th>3</th>\n",
       "      <td>(brown, over)</td>\n",
       "      <td>[tensor(0.3123)]</td>\n",
       "    </tr>\n",
       "    <tr>\n",
       "      <th>18</th>\n",
       "      <td>(dog, fox)</td>\n",
       "      <td>[tensor(0.3036)]</td>\n",
       "    </tr>\n",
       "    <tr>\n",
       "      <th>4</th>\n",
       "      <td>(brown, the)</td>\n",
       "      <td>[tensor(0.2825)]</td>\n",
       "    </tr>\n",
       "    <tr>\n",
       "      <th>13</th>\n",
       "      <td>(jumps, quick)</td>\n",
       "      <td>[tensor(0.2801)]</td>\n",
       "    </tr>\n",
       "    <tr>\n",
       "      <th>31</th>\n",
       "      <td>(the, quick)</td>\n",
       "      <td>[tensor(0.2688)]</td>\n",
       "    </tr>\n",
       "    <tr>\n",
       "      <th>6</th>\n",
       "      <td>(brown, quick)</td>\n",
       "      <td>[tensor(0.2539)]</td>\n",
       "    </tr>\n",
       "    <tr>\n",
       "      <th>14</th>\n",
       "      <td>(jumps, lazy)</td>\n",
       "      <td>[tensor(0.2518)]</td>\n",
       "    </tr>\n",
       "    <tr>\n",
       "      <th>28</th>\n",
       "      <td>(over, quick)</td>\n",
       "      <td>[tensor(0.2399)]</td>\n",
       "    </tr>\n",
       "    <tr>\n",
       "      <th>1</th>\n",
       "      <td>(brown, dog)</td>\n",
       "      <td>[tensor(0.2328)]</td>\n",
       "    </tr>\n",
       "    <tr>\n",
       "      <th>19</th>\n",
       "      <td>(dog, quick)</td>\n",
       "      <td>[tensor(0.2279)]</td>\n",
       "    </tr>\n",
       "    <tr>\n",
       "      <th>17</th>\n",
       "      <td>(dog, the)</td>\n",
       "      <td>[tensor(0.2278)]</td>\n",
       "    </tr>\n",
       "    <tr>\n",
       "      <th>34</th>\n",
       "      <td>(fox, lazy)</td>\n",
       "      <td>[tensor(0.2203)]</td>\n",
       "    </tr>\n",
       "    <tr>\n",
       "      <th>8</th>\n",
       "      <td>(jumps, dog)</td>\n",
       "      <td>[tensor(0.2125)]</td>\n",
       "    </tr>\n",
       "    <tr>\n",
       "      <th>30</th>\n",
       "      <td>(the, fox)</td>\n",
       "      <td>[tensor(0.2119)]</td>\n",
       "    </tr>\n",
       "    <tr>\n",
       "      <th>27</th>\n",
       "      <td>(over, fox)</td>\n",
       "      <td>[tensor(0.2021)]</td>\n",
       "    </tr>\n",
       "    <tr>\n",
       "      <th>33</th>\n",
       "      <td>(fox, quick)</td>\n",
       "      <td>[tensor(0.1907)]</td>\n",
       "    </tr>\n",
       "    <tr>\n",
       "      <th>7</th>\n",
       "      <td>(brown, lazy)</td>\n",
       "      <td>[tensor(0.1813)]</td>\n",
       "    </tr>\n",
       "    <tr>\n",
       "      <th>16</th>\n",
       "      <td>(dog, over)</td>\n",
       "      <td>[tensor(0.1780)]</td>\n",
       "    </tr>\n",
       "    <tr>\n",
       "      <th>12</th>\n",
       "      <td>(jumps, fox)</td>\n",
       "      <td>[tensor(0.1604)]</td>\n",
       "    </tr>\n",
       "    <tr>\n",
       "      <th>10</th>\n",
       "      <td>(jumps, over)</td>\n",
       "      <td>[tensor(0.1304)]</td>\n",
       "    </tr>\n",
       "    <tr>\n",
       "      <th>11</th>\n",
       "      <td>(jumps, the)</td>\n",
       "      <td>[tensor(0.0682)]</td>\n",
       "    </tr>\n",
       "    <tr>\n",
       "      <th>0</th>\n",
       "      <td>(brown, jumps)</td>\n",
       "      <td>[tensor(0.0665)]</td>\n",
       "    </tr>\n",
       "    <tr>\n",
       "      <th>29</th>\n",
       "      <td>(over, lazy)</td>\n",
       "      <td>[tensor(0.0460)]</td>\n",
       "    </tr>\n",
       "    <tr>\n",
       "      <th>2</th>\n",
       "      <td>(brown, The)</td>\n",
       "      <td>[tensor(0.)]</td>\n",
       "    </tr>\n",
       "    <tr>\n",
       "      <th>25</th>\n",
       "      <td>(The, lazy)</td>\n",
       "      <td>[tensor(0.)]</td>\n",
       "    </tr>\n",
       "    <tr>\n",
       "      <th>24</th>\n",
       "      <td>(The, quick)</td>\n",
       "      <td>[tensor(0.)]</td>\n",
       "    </tr>\n",
       "    <tr>\n",
       "      <th>23</th>\n",
       "      <td>(The, fox)</td>\n",
       "      <td>[tensor(0.)]</td>\n",
       "    </tr>\n",
       "    <tr>\n",
       "      <th>22</th>\n",
       "      <td>(The, the)</td>\n",
       "      <td>[tensor(0.)]</td>\n",
       "    </tr>\n",
       "    <tr>\n",
       "      <th>15</th>\n",
       "      <td>(dog, The)</td>\n",
       "      <td>[tensor(0.)]</td>\n",
       "    </tr>\n",
       "    <tr>\n",
       "      <th>9</th>\n",
       "      <td>(jumps, The)</td>\n",
       "      <td>[tensor(0.)]</td>\n",
       "    </tr>\n",
       "    <tr>\n",
       "      <th>21</th>\n",
       "      <td>(The, over)</td>\n",
       "      <td>[tensor(0.)]</td>\n",
       "    </tr>\n",
       "    <tr>\n",
       "      <th>32</th>\n",
       "      <td>(the, lazy)</td>\n",
       "      <td>[tensor(-0.0095)]</td>\n",
       "    </tr>\n",
       "  </tbody>\n",
       "</table>\n",
       "</div>"
      ],
      "text/plain": [
       "        words_pair  cosine similarity\n",
       "26     (over, the)   [tensor(0.5247)]\n",
       "20     (dog, lazy)   [tensor(0.3721)]\n",
       "5     (brown, fox)   [tensor(0.3576)]\n",
       "35   (quick, lazy)   [tensor(0.3124)]\n",
       "3    (brown, over)   [tensor(0.3123)]\n",
       "18      (dog, fox)   [tensor(0.3036)]\n",
       "4     (brown, the)   [tensor(0.2825)]\n",
       "13  (jumps, quick)   [tensor(0.2801)]\n",
       "31    (the, quick)   [tensor(0.2688)]\n",
       "6   (brown, quick)   [tensor(0.2539)]\n",
       "14   (jumps, lazy)   [tensor(0.2518)]\n",
       "28   (over, quick)   [tensor(0.2399)]\n",
       "1     (brown, dog)   [tensor(0.2328)]\n",
       "19    (dog, quick)   [tensor(0.2279)]\n",
       "17      (dog, the)   [tensor(0.2278)]\n",
       "34     (fox, lazy)   [tensor(0.2203)]\n",
       "8     (jumps, dog)   [tensor(0.2125)]\n",
       "30      (the, fox)   [tensor(0.2119)]\n",
       "27     (over, fox)   [tensor(0.2021)]\n",
       "33    (fox, quick)   [tensor(0.1907)]\n",
       "7    (brown, lazy)   [tensor(0.1813)]\n",
       "16     (dog, over)   [tensor(0.1780)]\n",
       "12    (jumps, fox)   [tensor(0.1604)]\n",
       "10   (jumps, over)   [tensor(0.1304)]\n",
       "11    (jumps, the)   [tensor(0.0682)]\n",
       "0   (brown, jumps)   [tensor(0.0665)]\n",
       "29    (over, lazy)   [tensor(0.0460)]\n",
       "2     (brown, The)       [tensor(0.)]\n",
       "25     (The, lazy)       [tensor(0.)]\n",
       "24    (The, quick)       [tensor(0.)]\n",
       "23      (The, fox)       [tensor(0.)]\n",
       "22      (The, the)       [tensor(0.)]\n",
       "15      (dog, The)       [tensor(0.)]\n",
       "9     (jumps, The)       [tensor(0.)]\n",
       "21     (The, over)       [tensor(0.)]\n",
       "32     (the, lazy)  [tensor(-0.0095)]"
      ]
     },
     "execution_count": 31,
     "metadata": {},
     "output_type": "execute_result"
    }
   ],
   "source": [
    "import pandas as pd\n",
    "from itertools import combinations\n",
    "\n",
    "# Obtén todas las combinaciones posibles de pares de palabras\n",
    "word_pairs = list(combinations(word2id.keys(), 2))\n",
    "\n",
    "# Carga los embeddings pre-entrenados\n",
    "pretrained_embeddings = torchtext.vocab.GloVe(name='6B', dim=300)\n",
    "\n",
    "# Calcula la distancia euclidiana entre los vectores de embedding de cada par de palabras\n",
    "distances = [torch.cosine_similarity(pretrained_embeddings[pair[0]].unsqueeze(0), \n",
    "                                     pretrained_embeddings[pair[1]].unsqueeze(0))\n",
    "             for pair in word_pairs]\n",
    "\n",
    "# Crea el DataFrame con las columnas \"words_pair\" y \"euclidean distance\"\n",
    "df = pd.DataFrame({'words_pair': word_pairs, 'cosine similarity': distances})\n",
    "\n",
    "# Imprime el DataFrame\n",
    "df_sorted = df.sort_values(by='cosine similarity', ascending=False)\n",
    "df_sorted"
   ]
  },
  {
   "cell_type": "markdown",
   "metadata": {},
   "source": [
    "### 👓 Ahora probamos a representar gráficamente los embeddings proyectados en 2-D"
   ]
  },
  {
   "cell_type": "code",
   "execution_count": 40,
   "metadata": {},
   "outputs": [
    {
     "data": {
      "image/png": "[encoded data removed]",
      "text/plain": [
       "<Figure size 800x600 with 1 Axes>"
      ]
     },
     "metadata": {},
     "output_type": "display_data"
    }
   ],
   "source": [
    "import matplotlib.pyplot as plt\n",
    "\n",
    "words = [word for word in word2id.keys()]\n",
    "word_embeddings_np = [pretrained_embeddings[word].unsqueeze(0)[0] for word in words] #word_embeddings.detach().numpy()\n",
    "\n",
    "plt.figure(figsize=(8, 6))\n",
    "plt.scatter([e[0] for e in word_embeddings_np], [e[1] for e in word_embeddings_np])\n",
    "\n",
    "for i, word in enumerate(words):\n",
    "    plt.annotate(word, (word_embeddings_np[i][0], word_embeddings_np[i][1]))\n",
    "\n",
    "plt.xlabel('Dimension 1')\n",
    "plt.ylabel('Dimension 2')\n",
    "plt.title('Word Embeddings Scatter Plot')\n",
    "plt.grid(True)\n",
    "plt.show()"
   ]
  },
  {
   "cell_type": "markdown",
   "metadata": {},
   "source": [
    "📙Construimos clase helper para librería de la funcionalidad generada:"
   ]
  },
  {
   "cell_type": "code",
   "execution_count": 10,
   "metadata": {},
   "outputs": [
    {
     "name": "stdout",
     "output_type": "stream",
     "text": [
      "Dataset de distancias:\n",
      "        words_pair  euclidean distance  cosine similarity\n",
      "0   (quick, brown)            7.289819           0.253946\n",
      "1   (quick, jumps)            7.242292           0.280133\n",
      "2     (quick, the)            6.655501           0.268772\n",
      "3     (quick, The)            5.795814           0.000000\n",
      "4     (quick, fox)            7.831755           0.190651\n",
      "5     (quick, dog)            7.777961           0.227852\n",
      "6    (quick, over)            7.185765           0.239928\n",
      "7    (quick, lazy)            7.162558           0.312430\n",
      "8   (brown, jumps)            8.466522           0.066492\n",
      "9     (brown, the)            6.818565           0.282550\n",
      "10    (brown, The)            6.131897           0.000000\n",
      "11    (brown, fox)            7.157426           0.357643\n",
      "12    (brown, dog)            7.942396           0.232761\n",
      "13   (brown, over)            7.035670           0.312257\n",
      "14   (brown, lazy)            8.015525           0.181295\n",
      "15    (jumps, the)            7.849084           0.068217\n",
      "16    (jumps, The)            6.259912           0.000000\n",
      "17    (jumps, fox)            8.260901           0.160373\n",
      "18    (jumps, dog)            8.121976           0.212458\n",
      "19   (jumps, over)            7.997568           0.130400\n",
      "20   (jumps, lazy)            7.739300           0.251787\n",
      "21      (the, The)            5.181397           0.000000\n",
      "22      (the, fox)            7.394752           0.211912\n",
      "23      (the, dog)            7.458118           0.227808\n",
      "24     (the, over)            5.415083           0.524727\n",
      "25     (the, lazy)            8.266583          -0.009492\n",
      "26      (The, fox)            6.486977           0.000000\n",
      "27      (The, dog)            6.673080           0.000000\n",
      "28     (The, over)            5.860192           0.000000\n",
      "29     (The, lazy)            6.392241           0.000000\n",
      "30      (fox, dog)            7.767117           0.303579\n",
      "31     (fox, over)            7.813715           0.202138\n",
      "32     (fox, lazy)            8.041628           0.220345\n",
      "33     (dog, over)            8.059059           0.178024\n",
      "34     (dog, lazy)            7.324604           0.372058\n",
      "35    (over, lazy)            8.471087           0.045960\n"
     ]
    }
   ],
   "source": [
    "import pandas as pd\n",
    "from itertools import combinations\n",
    "from scipy.spatial.distance import euclidean\n",
    "from sklearn.metrics.pairwise import cosine_similarity\n",
    "import torch\n",
    "import torchtext\n",
    "import torch.nn as nn\n",
    "\n",
    "class NLPHelper:\n",
    "    def __init__(self):\n",
    "        \"\"\"\n",
    "        Inicializa la clase NLPHelper.\n",
    "        Carga los embeddings pre-entrenados.\n",
    "        \"\"\"\n",
    "        self.pretrained_embeddings = torchtext.vocab.GloVe(name='6B', dim=300)\n",
    "    \n",
    "    def build_word2id(self, sentence):\n",
    "        \"\"\"\n",
    "        Construye el diccionario word2id a partir de una oración.\n",
    "        \n",
    "        Args:\n",
    "            sentence (str): La oración de entrada.\n",
    "        \n",
    "        Returns:\n",
    "            dict: El diccionario word2id.\n",
    "        \"\"\"\n",
    "        try:\n",
    "            words = sentence.split()\n",
    "            word2id = {word: i for i, word in enumerate(set(words))}\n",
    "            return word2id\n",
    "        except Exception as e:\n",
    "            print(f\"Error al construir el diccionario word2id: {e}\")\n",
    "    \n",
    "    def build_id2word(self, word2id):\n",
    "        \"\"\"\n",
    "        Construye el diccionario id2word a partir del diccionario word2id.\n",
    "        \n",
    "        Args:\n",
    "            word2id (dict): El diccionario word2id.\n",
    "        \n",
    "        Returns:\n",
    "            dict: El diccionario id2word.\n",
    "        \"\"\"\n",
    "        try:\n",
    "            id2word = {i: word for word, i in word2id.items()}\n",
    "            return id2word\n",
    "        except Exception as e:\n",
    "            print(f\"Error al construir el diccionario id2word: {e}\")\n",
    "    \n",
    "    def get_word_vector(self, word):\n",
    "        \"\"\"\n",
    "        Obtiene el vector de embedding de una palabra específica.\n",
    "        \n",
    "        Args:\n",
    "            word (str): La palabra de entrada.\n",
    "        \n",
    "        Returns:\n",
    "            torch.Tensor: El vector de embedding de la palabra.\n",
    "        \"\"\"\n",
    "        try:\n",
    "            word_vector = self.pretrained_embeddings[word].unsqueeze(0)\n",
    "            return word_vector\n",
    "        except Exception as e:\n",
    "            print(f\"Error al obtener el vector de la palabra: {e}\")\n",
    "    \n",
    "    def process_text(self, text):\n",
    "        \"\"\"\n",
    "        Procesa un texto dado.\n",
    "        \n",
    "        Args:\n",
    "            text (str): El texto de entrada.\n",
    "        \n",
    "        Returns:\n",
    "            str: El texto procesado.\n",
    "        \"\"\"\n",
    "        try:\n",
    "            processed_text = text.lower()\n",
    "            return processed_text\n",
    "        except Exception as e:\n",
    "            print(f\"Error al procesar el texto: {e}\")\n",
    "    \n",
    "    def build_distance_dataset(self, word2id):\n",
    "        \"\"\"\n",
    "        Construye el dataset de distancias euclidianas y similitud coseno a partir del diccionario word2id.\n",
    "        \n",
    "        Args:\n",
    "            word2id (dict): El diccionario word2id.\n",
    "        \n",
    "        Returns:\n",
    "            pd.DataFrame: El dataset de distancias.\n",
    "        \"\"\"\n",
    "        try:\n",
    "            word_pairs = list(combinations(word2id.keys(), 2))\n",
    "            euclidean_distances = [euclidean(self.pretrained_embeddings[pair[0]].numpy(), self.pretrained_embeddings[pair[1]].numpy())\n",
    "                                   for pair in word_pairs]\n",
    "            cosine_similarities = [cosine_similarity(self.pretrained_embeddings[pair[0]].unsqueeze(0), self.pretrained_embeddings[pair[1]].unsqueeze(0)).item()\n",
    "                                   for pair in word_pairs]\n",
    "            df = pd.DataFrame({'words_pair': word_pairs, 'euclidean distance': euclidean_distances, 'cosine similarity': cosine_similarities})\n",
    "            return df\n",
    "        except Exception as e:\n",
    "            print(f\"Error al construir el dataset de distancias: {e}\")\n",
    "\n",
    "# Ejemplo de uso de la clase NLPHelper\n",
    "nlp_helper = NLPHelper()\n",
    "\n",
    "# Construir el diccionario word2id\n",
    "sentence = \"The quick brown fox jumps over the lazy dog\"\n",
    "word2id = nlp_helper.build_word2id(sentence)\n",
    "\n",
    "# Construir el dataset de distancias euclidianas y similitud coseno\n",
    "distance_dataset = nlp_helper.build_distance_dataset(word2id)\n",
    "print(\"Dataset de distancias:\")\n",
    "print(distance_dataset)"
   ]
  },
  {
   "cell_type": "code",
   "execution_count": 11,
   "metadata": {},
   "outputs": [
    {
     "name": "stdout",
     "output_type": "stream",
     "text": [
      "distance dataset:          words_pair  euclidean distance  cosine similarity\n",
      "0     (The, quick)            5.795814           0.000000\n",
      "1     (The, brown)            6.131897           0.000000\n",
      "2       (The, fox)            6.486977           0.000000\n",
      "3     (The, jumps)            6.259912           0.000000\n",
      "4      (The, over)            5.860192           0.000000\n",
      "5       (The, the)            5.181397           0.000000\n",
      "6      (The, lazy)            6.392241           0.000000\n",
      "7       (The, dog)            6.673080           0.000000\n",
      "8   (quick, brown)            7.289819           0.253946\n",
      "9     (quick, fox)            7.831755           0.190651\n",
      "10  (quick, jumps)            7.242292           0.280133\n",
      "11   (quick, over)            7.185765           0.239928\n",
      "12    (quick, the)            6.655501           0.268772\n",
      "13   (quick, lazy)            7.162558           0.312430\n",
      "14    (quick, dog)            7.777961           0.227852\n",
      "15    (brown, fox)            7.157426           0.357643\n",
      "16  (brown, jumps)            8.466522           0.066492\n",
      "17   (brown, over)            7.035670           0.312257\n",
      "18    (brown, the)            6.818565           0.282550\n",
      "19   (brown, lazy)            8.015525           0.181295\n",
      "20    (brown, dog)            7.942396           0.232761\n",
      "21    (fox, jumps)            8.260901           0.160373\n",
      "22     (fox, over)            7.813715           0.202138\n",
      "23      (fox, the)            7.394752           0.211912\n",
      "24     (fox, lazy)            8.041628           0.220345\n",
      "25      (fox, dog)            7.767117           0.303579\n",
      "26   (jumps, over)            7.997568           0.130400\n",
      "27    (jumps, the)            7.849084           0.068217\n",
      "28   (jumps, lazy)            7.739300           0.251787\n",
      "29    (jumps, dog)            8.121976           0.212458\n",
      "30     (over, the)            5.415083           0.524727\n",
      "31    (over, lazy)            8.471087           0.045960\n",
      "32     (over, dog)            8.059059           0.178024\n",
      "33     (the, lazy)            8.266583          -0.009492\n",
      "34      (the, dog)            7.458118           0.227808\n",
      "35     (lazy, dog)            7.324604           0.372058\n"
     ]
    },
    {
     "ename": "IndexError",
     "evalue": "index 0 is out of bounds for axis 0 with size 0",
     "output_type": "error",
     "traceback": [
      "\u001b[0;31m---------------------------------------------------------------------------\u001b[0m",
      "\u001b[0;31mIndexError\u001b[0m                                Traceback (most recent call last)",
      "Cell \u001b[0;32mIn[11], line 55\u001b[0m\n\u001b[1;32m     51\u001b[0m \u001b[39m'''\u001b[39;00m\n\u001b[1;32m     52\u001b[0m \u001b[39mif __name__ == '__main__':\u001b[39;00m\n\u001b[1;32m     53\u001b[0m \u001b[39m    unittest.main()'''\u001b[39;00m\n\u001b[1;32m     54\u001b[0m tester_obj \u001b[39m=\u001b[39m NLPHelperTests()\n\u001b[0;32m---> 55\u001b[0m tester_obj\u001b[39m.\u001b[39;49mtest_build_distance_dataset()\n",
      "Cell \u001b[0;32mIn[11], line 45\u001b[0m, in \u001b[0;36mNLPHelperTests.test_build_distance_dataset\u001b[0;34m(self)\u001b[0m\n\u001b[1;32m     42\u001b[0m similar_pair \u001b[39m=\u001b[39m (\u001b[39m'\u001b[39m\u001b[39mquick\u001b[39m\u001b[39m'\u001b[39m, \u001b[39m'\u001b[39m\u001b[39mfast\u001b[39m\u001b[39m'\u001b[39m)\n\u001b[1;32m     43\u001b[0m dissimilar_pair \u001b[39m=\u001b[39m (\u001b[39m'\u001b[39m\u001b[39mquick\u001b[39m\u001b[39m'\u001b[39m, \u001b[39m'\u001b[39m\u001b[39mdog\u001b[39m\u001b[39m'\u001b[39m)\n\u001b[0;32m---> 45\u001b[0m similar_distance \u001b[39m=\u001b[39m distance_dataset\u001b[39m.\u001b[39;49mloc[distance_dataset[\u001b[39m'\u001b[39;49m\u001b[39mwords_pair\u001b[39;49m\u001b[39m'\u001b[39;49m] \u001b[39m==\u001b[39;49m similar_pair, \u001b[39m'\u001b[39;49m\u001b[39meuclidean distance\u001b[39;49m\u001b[39m'\u001b[39;49m]\u001b[39m.\u001b[39;49mvalues[\u001b[39m0\u001b[39;49m]\n\u001b[1;32m     46\u001b[0m dissimilar_distance \u001b[39m=\u001b[39m distance_dataset\u001b[39m.\u001b[39mloc[distance_dataset[\u001b[39m'\u001b[39m\u001b[39mwords_pair\u001b[39m\u001b[39m'\u001b[39m] \u001b[39m==\u001b[39m dissimilar_pair, \u001b[39m'\u001b[39m\u001b[39meuclidean distance\u001b[39m\u001b[39m'\u001b[39m]\u001b[39m.\u001b[39mvalues[\u001b[39m0\u001b[39m]\n\u001b[1;32m     48\u001b[0m \u001b[39mself\u001b[39m\u001b[39m.\u001b[39massertLess(similar_distance, dissimilar_distance)\n",
      "\u001b[0;31mIndexError\u001b[0m: index 0 is out of bounds for axis 0 with size 0"
     ]
    }
   ],
   "source": [
    "import unittest\n",
    "\n",
    "# Clase de pruebas unitarias para la clase NLPHelper\n",
    "class NLPHelperTests(unittest.TestCase):\n",
    "    def setUp(self):\n",
    "        self.nlp_helper = NLPHelper()\n",
    "    \n",
    "    def test_build_word2id(self):\n",
    "        sentence = \"The quick brown fox jumps over the lazy dog\"\n",
    "        word2id = self.nlp_helper.build_word2id(sentence)\n",
    "        self.assertIsInstance(word2id, dict)\n",
    "        self.assertEqual(len(word2id), 8)\n",
    "    \n",
    "    def test_build_id2word(self):\n",
    "        word2id = {'The': 0, 'quick': 1, 'brown': 2, 'fox': 3, 'jumps': 4, 'over': 5, 'the': 6, 'lazy': 7, 'dog': 8}\n",
    "        id2word = self.nlp_helper.build_id2word(word2id)\n",
    "        self.assertIsInstance(id2word, dict)\n",
    "        self.assertEqual(len(id2word), 9)\n",
    "    \n",
    "    def test_get_word_vector(self):\n",
    "        word = 'quick'\n",
    "        word_vector = self.nlp_helper.get_word_vector(word)\n",
    "        self.assertIsInstance(word_vector, torch.Tensor)\n",
    "        self.assertEqual(word_vector.shape, torch.Size([1, 300]))\n",
    "    \n",
    "    def test_process_text(self):\n",
    "        text = \"The Quick Brown Fox\"\n",
    "        processed_text = self.nlp_helper.process_text(text)\n",
    "        self.assertIsInstance(processed_text, str)\n",
    "        self.assertEqual(processed_text, \"the quick brown fox\")\n",
    "    \n",
    "    def test_build_distance_dataset(self):\n",
    "        self.setUp()\n",
    "        word2id = {'The': 0, 'quick': 1, 'brown': 2, 'fox': 3, 'jumps': 4, 'over': 5, 'the': 6, 'lazy': 7, 'dog': 8}\n",
    "        distance_dataset = self.nlp_helper.build_distance_dataset(word2id)\n",
    "        print('distance dataset: ', distance_dataset)\n",
    "        self.assertIsInstance(distance_dataset, pd.DataFrame)\n",
    "        self.assertEqual(distance_dataset.shape[0], 36)\n",
    "        self.assertEqual(distance_dataset.shape[1], 3)\n",
    "\n",
    "        # Validación adicional de la funcionalidad\n",
    "        similar_pair = ('quick', 'fast')\n",
    "        dissimilar_pair = ('quick', 'dog')\n",
    "        \n",
    "        similar_distance = distance_dataset.loc[distance_dataset['words_pair'] == similar_pair, 'euclidean distance'].values[0]\n",
    "        dissimilar_distance = distance_dataset.loc[distance_dataset['words_pair'] == dissimilar_pair, 'euclidean distance'].values[0]\n",
    "        \n",
    "        self.assertLess(similar_distance, dissimilar_distance)\n",
    "\n",
    "# Ejecutar las pruebas unitarias\n",
    "'''\n",
    "if __name__ == '__main__':\n",
    "    unittest.main()'''\n",
    "tester_obj = NLPHelperTests()\n",
    "tester_obj.test_build_distance_dataset()"
   ]
  },
  {
   "cell_type": "markdown",
   "metadata": {},
   "source": [
    "🧱 seguimos con el notebook de Databricks"
   ]
  },
  {
   "cell_type": "code",
   "execution_count": 6,
   "metadata": {
    "application/vnd.databricks.v1+cell": {
     "cellMetadata": {
      "byteLimit": 2048000,
      "rowLimit": 10000
     },
     "inputWidgets": {},
     "nuid": "244102e4-c998-4354-9b09-10dee6454e10",
     "showTitle": false,
     "title": ""
    }
   },
   "outputs": [],
   "source": [
    "# Define a function to generate positional encodings\n",
    "def get_positional_encoding(max_seq_len, d_model):\n",
    "    position = np.arange(max_seq_len)[:, np.newaxis]\n",
    "    div_term = np.exp(np.arange(0, d_model, 2) * -(np.log(10000.0) / d_model))\n",
    "    positional_encoding = np.zeros((max_seq_len, d_model))\n",
    "    positional_encoding[:, 0::2] = np.sin(position * div_term)\n",
    "    positional_encoding[:, 1::2] = np.cos(position * div_term)\n",
    "    return torch.tensor(positional_encoding, dtype=torch.float)\n"
   ]
  },
  {
   "cell_type": "code",
   "execution_count": 7,
   "metadata": {
    "application/vnd.databricks.v1+cell": {
     "cellMetadata": {
      "byteLimit": 2048000,
      "rowLimit": 10000
     },
     "inputWidgets": {},
     "nuid": "c97d5b09-ce73-4545-9115-c0dc1f4dac71",
     "showTitle": false,
     "title": ""
    }
   },
   "outputs": [
    {
     "data": {
      "text/plain": [
       "array([[0],\n",
       "       [1],\n",
       "       [2],\n",
       "       [3],\n",
       "       [4],\n",
       "       [5],\n",
       "       [6],\n",
       "       [7],\n",
       "       [8]])"
      ]
     },
     "execution_count": 7,
     "metadata": {},
     "output_type": "execute_result"
    }
   ],
   "source": [
    "np.arange(len(sentence.split()))[:, np.newaxis]"
   ]
  },
  {
   "cell_type": "code",
   "execution_count": 8,
   "metadata": {
    "application/vnd.databricks.v1+cell": {
     "cellMetadata": {
      "byteLimit": 2048000,
      "rowLimit": 10000
     },
     "inputWidgets": {},
     "nuid": "92b97655-c61c-468a-8d8f-57269545899e",
     "showTitle": false,
     "title": ""
    }
   },
   "outputs": [
    {
     "data": {
      "image/png": "[encoded data removed]",
      "text/plain": [
       "<Figure size 500x500 with 2 Axes>"
      ]
     },
     "metadata": {},
     "output_type": "display_data"
    }
   ],
   "source": [
    "import seaborn as sns\n",
    "\n",
    "# Function to plot heatmap\n",
    "# ------------------------\n",
    "def plot_heatmap(data, title):\n",
    "    plt.figure(figsize=(5,5))\n",
    "    sns.heatmap(data, cmap=\"cool\",vmin=-1, vmax=1)\n",
    "    plt.ylabel(\"Word/token\")\n",
    "    plt.xlabel(\"Positional Encoding Vector\")\n",
    "    plt.title(title)\n",
    "    plt.show()\n",
    "\n",
    "# Generate and plot positional encoding\n",
    "# -------------------------------------\n",
    "# Get positional encodings\n",
    "max_seq_len = len(sentence.split())  # Maximum sequence length\n",
    "d_model = embedding_size  # Same as the size of the word embeddings\n",
    "positional_encodings = get_positional_encoding(max_seq_len, d_model)\n",
    "plot_heatmap(positional_encodings, \"Positional Encoding\")"
   ]
  },
  {
   "cell_type": "markdown",
   "metadata": {
    "application/vnd.databricks.v1+cell": {
     "cellMetadata": {},
     "inputWidgets": {},
     "nuid": "9dd1a307-c458-44c4-a729-17c5c900e126",
     "showTitle": false,
     "title": ""
    }
   },
   "source": [
    "## Interpreting the Positional Encoding Map\n",
    "In the Transformer model, positional encoding is used to give the model some information about the relative positions of the words in the sequence since the Transformer does not have any inherent sense of order of the input sequence.\n",
    "\n",
    "The positional encoding for a position \\(p\\) in the sequence and a dimension \\(i\\) in the embedding space is a mix of sine and cosine functions:\n",
    "\n",
    "\n",
    "$$PE_{(p, 2i)} = \\sin\\left(\\frac{p}{10000^{2i/d}}\\right)$$\n",
    "\n",
    "\n",
    "\n",
    "$$PE_{(p, 2i+1)} = \\cos\\left(\\frac{p}{10000^{2i/d}}\\right)$$\n",
    "\n",
    "\n",
    "Here, \\\\(d\\\\) is the dimension of the word embedding.\n",
    "\n",
    "These functions were chosen because they can provide a unique encoding for each word position and these encodings can be easily learned and extrapolated for sequence lengths not seen during training.\n",
    "\n",
    "In the heatmap:\n",
    "\n",
    "- The x-axis represents the dimension of the embedding space. Every pair of dimensions \\\\((2i, 2i+1)\\\\) corresponds to a specific frequency of the sine and cosine functions.\n",
    "\n",
    "- The y-axis represents the position of a word in the sequence.\n",
    "\n",
    "- The color at each point in the heatmap represents the value of the positional encoding at that position and dimension. Typically, a warmer color (like red) represents a higher value and a cooler color (like blue) represents a lower value.\n",
    "\n",
    "By visualizing the positional encodings in a heatmap, we can see how these values change across positions and dimensions, and get an intuition for how the Transformer model might use these values to understand the order of words in the sequence."
   ]
  },
  {
   "cell_type": "code",
   "execution_count": 9,
   "metadata": {
    "application/vnd.databricks.v1+cell": {
     "cellMetadata": {
      "byteLimit": 2048000,
      "rowLimit": 10000
     },
     "inputWidgets": {},
     "nuid": "3ab339b7-975d-4f1a-b43c-54f9702cf415",
     "showTitle": false,
     "title": ""
    }
   },
   "outputs": [
    {
     "name": "stdout",
     "output_type": "stream",
     "text": [
      "tensor([[ 1.6922,  0.3972, -1.5591,  0.5515,  0.4736, -0.0285, -0.6720,  2.5740,\n",
      "         -0.7791,  0.6817, -1.4979,  0.9928, -1.6297,  2.1076, -1.6260,  1.3003],\n",
      "        [ 1.4319,  2.7629,  0.1864,  1.7031, -0.4290, -1.7590,  1.2524,  0.5258,\n",
      "         -1.5168,  1.1456,  1.1391,  0.6277, -0.1163,  1.3412, -1.8586,  1.3761],\n",
      "        [ 0.6399,  0.0098,  1.7716,  0.7953, -0.7535,  2.3468, -0.3268, -0.3281,\n",
      "         -1.9453,  0.2594,  0.2412,  1.0365, -0.1895,  2.1963,  0.1320,  0.0035],\n",
      "        [ 1.5047,  0.2277,  1.5320,  0.1109,  1.2096, -0.3719,  0.5348,  1.4144,\n",
      "         -0.6376,  0.8695,  0.0996, -0.0225, -0.0224,  1.9984,  0.9551,  1.8136],\n",
      "        [-1.4541, -1.4914,  0.6973, -1.3802,  0.1385,  3.2940, -0.0821, -0.8934,\n",
      "         -0.6432,  1.4397,  2.5116,  0.4220, -0.2039,  0.6647, -0.9874,  1.8433],\n",
      "        [-0.1928, -0.6779,  0.2419, -0.5299,  0.9508,  1.0852,  0.7776, -0.6479,\n",
      "          1.8846,  0.6162,  1.2153, -0.1196, -1.4660, -0.4741, -0.1362,  1.1505],\n",
      "        [ 0.5908,  0.3192,  0.6290,  0.3463,  2.0273,  0.3955, -0.2402,  0.9692,\n",
      "          1.4913,  1.1501,  0.0468,  1.1129, -0.2774,  1.0950,  0.6836, -0.0455],\n",
      "        [ 0.9464, -0.2047,  2.7542, -2.1531,  1.1029,  1.1461,  0.9873,  2.2485,\n",
      "         -0.5505,  1.2826, -0.0170,  0.4239,  0.5568,  0.8450,  0.2610,  0.2971],\n",
      "        [ 1.4735,  0.5399,  1.1686,  0.1834, -1.4455, -0.9486,  1.4913,  0.8870,\n",
      "         -0.6164, -1.1814, -0.5939,  2.4415, -0.9216,  0.2753,  0.6848,  0.6297]],\n",
      "       grad_fn=<AddBackward0>)\n"
     ]
    }
   ],
   "source": [
    "# Get positional encodings\n",
    "max_seq_len = len(sentence.split())  # Maximum sequence length\n",
    "d_model = embedding_size  # Same as the size of the word embeddings\n",
    "positional_encodings = get_positional_encoding(max_seq_len, d_model)\n",
    "\n",
    "# Add word embeddings and positional encodings\n",
    "final_embeddings = word_embeddings + positional_encodings\n",
    "\n",
    "print(final_embeddings)"
   ]
  },
  {
   "cell_type": "markdown",
   "metadata": {
    "application/vnd.databricks.v1+cell": {
     "cellMetadata": {},
     "inputWidgets": {},
     "nuid": "a890d3f4-3102-4297-8b60-564529401b91",
     "showTitle": false,
     "title": ""
    }
   },
   "source": [
    "# Section 2: Building Our Own Decoder From Scratch\n",
    "\n",
    "Let's now build a decoder transformer. We'll build up the code from scratch and build a single layer transformer."
   ]
  },
  {
   "attachments": {
    "image.png": {
     "image/png": "[encoded data removed]"
    }
   },
   "cell_type": "markdown",
   "metadata": {},
   "source": [
    "![image.png](attachment:image.png)"
   ]
  },
  {
   "cell_type": "code",
   "execution_count": 10,
   "metadata": {
    "application/vnd.databricks.v1+cell": {
     "cellMetadata": {
      "byteLimit": 2048000,
      "rowLimit": 10000
     },
     "inputWidgets": {},
     "nuid": "3ca77119-038a-4866-8cb2-9592936e7fb8",
     "showTitle": false,
     "title": ""
    }
   },
   "outputs": [],
   "source": [
    "# Here we define the DecoderBlock, which is a single layer of the Transformer Decoder.\n",
    "\n",
    "class DecoderBlock(nn.Module):\n",
    "    def __init__(self, d_model, num_heads, ff_hidden_dim, dropout):\n",
    "        super(DecoderBlock, self).__init__()\n",
    "\n",
    "    # The first part of the __init__ function defines the hyperparameters for the DecoderBlock.\n",
    "    # d_model: the dimension of the input vector.\n",
    "    # num_heads: the number of heads in the multihead attention mechanism.\n",
    "    # ff_hidden_dim: the dimension of the feed forward hidden layer.\n",
    "    # dropout: the dropout rate.\n",
    "\n",
    "        self.self_attention = nn.MultiheadAttention(d_model, num_heads, dropout=dropout)\n",
    "        self.norm1 = nn.LayerNorm(d_model)\n",
    "        self.dropout1 = nn.Dropout(dropout)\n",
    "        self.linear1 = nn.Linear(d_model, ff_hidden_dim)\n",
    "        self.linear2 = nn.Linear(ff_hidden_dim, d_model)\n",
    "        self.norm2 = nn.LayerNorm(d_model)\n",
    "        self.dropout2 = nn.Dropout(dropout)\n",
    "\n",
    "    # The forward method defines how the data flows through the network.\n",
    "    # It takes two inputs: x, tgt_mask.\n",
    "    # x: the input tensor.\n",
    "    # tgt_mask: masks to prevent attention to certain positions.\n",
    "\n",
    "    def forward(self, x,tgt_mask):\n",
    "        attn_output, _ = self.self_attention(x, x, x, attn_mask=tgt_mask)\n",
    "        x = x + self.dropout1(attn_output)\n",
    "        x = self.norm1(x)\n",
    "        ff_output = self.linear2(F.relu(self.linear1(x)))\n",
    "        x = x + self.dropout2(ff_output)\n",
    "        x = self.norm2(x)\n",
    "        return x"
   ]
  },
  {
   "cell_type": "code",
   "execution_count": 11,
   "metadata": {
    "application/vnd.databricks.v1+cell": {
     "cellMetadata": {
      "byteLimit": 2048000,
      "rowLimit": 10000
     },
     "inputWidgets": {},
     "nuid": "dc338357-dec5-4782-8f91-391b5ba2bd61",
     "showTitle": false,
     "title": ""
    }
   },
   "outputs": [],
   "source": [
    "# Next, we define the PositionalEncoding class, which applies a specific positional encoding to give the model \n",
    "# information about the relative or absolute position of the tokens in the sequence.\n",
    "\n",
    "class PositionalEncoding(nn.Module):\n",
    "    def __init__(self, d_model, dropout=0.1, max_len=5000):\n",
    "        super(PositionalEncoding, self).__init__()\n",
    "        self.dropout = nn.Dropout(p=dropout)\n",
    "\n",
    "        pe = torch.zeros(max_len, d_model)\n",
    "        position = torch.arange(0, max_len, dtype=torch.float).unsqueeze(1)\n",
    "        div_term = torch.exp(torch.arange(0, d_model, 2).float() * (-math.log(10000.0) / d_model))\n",
    "        pe[:, 0::2] = torch.sin(position * div_term)\n",
    "        pe[:, 1::2] = torch.cos(position * div_term)\n",
    "        pe = pe.unsqueeze(0).transpose(0, 1)\n",
    "        self.register_buffer(\"pe\", pe)\n",
    "\n",
    "    def forward(self, x):\n",
    "        x = x + self.pe[:x.size(0), :]\n",
    "        return self.dropout(x)"
   ]
  },
  {
   "cell_type": "code",
   "execution_count": 12,
   "metadata": {},
   "outputs": [],
   "source": [
    "def generate_square_subsequent_mask(sz):\n",
    "    \"\"\"Generate a mask to prevent attention to future positions.\"\"\"\n",
    "    mask = (torch.triu(torch.ones(sz, sz)) == 1).transpose(0, 1)\n",
    "    mask = mask.float().masked_fill(mask == 0, float('-inf')).masked_fill(mask == 1, float(0.0))\n",
    "    return mask"
   ]
  },
  {
   "cell_type": "code",
   "execution_count": 13,
   "metadata": {
    "application/vnd.databricks.v1+cell": {
     "cellMetadata": {
      "byteLimit": 2048000,
      "rowLimit": 10000
     },
     "inputWidgets": {},
     "nuid": "386fdf5d-9300-453b-b9a0-7b0b661bf818",
     "showTitle": false,
     "title": ""
    }
   },
   "outputs": [],
   "source": [
    "# Finally, we define the full Transformer Decoder, which includes the initial embedding layer, \n",
    "# a single Transformer Decoder block, and the final linear and softmax layers.\n",
    "\n",
    "class TransformerDecoder(nn.Module):\n",
    "    def __init__(self, vocab_size, d_model, num_heads, ff_hidden_dim, dropout):\n",
    "        super(TransformerDecoder, self).__init__()\n",
    "\n",
    "    # The __init__ function defines the hyperparameters and layers of the TransformerDecoder.\n",
    "    # vocab_size: the size of the vocabulary.\n",
    "    # d_model, num_heads, ff_hidden_dim, dropout: hyperparameters for the Transformer decoder block.\n",
    "\n",
    "    # Embedding layer: transforms the input words (given as indices) into dense vectors of dimension d_model.\n",
    "    # Positional encoding: adds a vector to each input embedding that depends on its position in the sequence.\n",
    "    # Transformer block: the Transformer decoder block defined earlier.\n",
    "    # Linear layer: a linear transformation to the output dimension equal to the vocabulary size.\n",
    "    # Softmax layer: transforms the output into a probability distribution over the vocabulary.\n",
    "\n",
    "        self.embedding = nn.Embedding(vocab_size, d_model)\n",
    "        self.pos_encoder = PositionalEncoding(d_model, dropout)\n",
    "        self.transformer_block = DecoderBlock(d_model, num_heads, ff_hidden_dim, dropout)\n",
    "        self.linear = nn.Linear(d_model, vocab_size)\n",
    "        self.softmax = nn.LogSoftmax(dim=-1)\n",
    "\n",
    "    # The forward method of the TransformerDecoder defines how the data flows through the decoder.\n",
    "\n",
    "    def forward(self, x):\n",
    "        x = self.embedding(x)\n",
    "        x = self.pos_encoder(x)\n",
    "        tgt_mask = generate_square_subsequent_mask(x.size(0))\n",
    "        x = self.transformer_block(x,tgt_mask)\n",
    "        output = self.linear(x)\n",
    "        output = self.softmax(output)\n",
    "        return output"
   ]
  },
  {
   "cell_type": "markdown",
   "metadata": {
    "application/vnd.databricks.v1+cell": {
     "cellMetadata": {},
     "inputWidgets": {},
     "nuid": "75bcb5d9-290c-4d52-b79f-0d9a4f27e3e9",
     "showTitle": false,
     "title": ""
    }
   },
   "source": [
    "### Why we need to mask our input for decoders"
   ]
  },
  {
   "cell_type": "code",
   "execution_count": 14,
   "metadata": {
    "application/vnd.databricks.v1+cell": {
     "cellMetadata": {
      "byteLimit": 2048000,
      "rowLimit": 10000
     },
     "inputWidgets": {},
     "nuid": "6093be66-f3c8-4009-8139-a3d43dd797a2",
     "showTitle": false,
     "title": ""
    }
   },
   "outputs": [
    {
     "name": "stderr",
     "output_type": "stream",
     "text": [
      "/Users/german_cm/anaconda3/envs/llms-pocs-env/lib/python3.9/site-packages/matplotlib/colors.py:1370: RuntimeWarning: invalid value encountered in subtract\n",
      "  resdat -= vmin\n",
      "/Users/german_cm/anaconda3/envs/llms-pocs-env/lib/python3.9/site-packages/matplotlib/colors.py:1371: RuntimeWarning: invalid value encountered in divide\n",
      "  resdat /= (vmax - vmin)\n"
     ]
    },
    {
     "data": {
      "image/png": "[encoded data removed]",
      "text/plain": [
       "<Figure size 500x500 with 1 Axes>"
      ]
     },
     "metadata": {},
     "output_type": "display_data"
    }
   ],
   "source": [
    "mask = generate_square_subsequent_mask(sz=5)\n",
    "\n",
    "plt.figure(figsize=(5,5))\n",
    "sns.heatmap(mask, cmap=\"viridis\", cbar=False, square=True)\n",
    "plt.title(\"Mask for Transformer Decoder\")\n",
    "plt.show()"
   ]
  },
  {
   "cell_type": "markdown",
   "metadata": {
    "application/vnd.databricks.v1+cell": {
     "cellMetadata": {},
     "inputWidgets": {},
     "nuid": "a8d2195e-df7f-414c-b07b-0bb30b88385c",
     "showTitle": false,
     "title": ""
    }
   },
   "source": [
    "### Let's make our first decoder"
   ]
  },
  {
   "cell_type": "code",
   "execution_count": 15,
   "metadata": {
    "application/vnd.databricks.v1+cell": {
     "cellMetadata": {
      "byteLimit": 2048000,
      "rowLimit": 10000
     },
     "inputWidgets": {},
     "nuid": "c9961c5b-5a22-44e3-ab0e-b960c575ae2c",
     "showTitle": false,
     "title": ""
    }
   },
   "outputs": [
    {
     "name": "stdout",
     "output_type": "stream",
     "text": [
      "torch.Size([50, 1, 1000])\n",
      "torch.Size([50, 1])\n"
     ]
    }
   ],
   "source": [
    "# Define the hyperparameters\n",
    "vocab_size     = 1000\n",
    "d_model        = 512\n",
    "num_heads      = 1\n",
    "ff_hidden_dim  = 2*d_model\n",
    "dropout        = 0.1\n",
    "num_layers     = 10\n",
    "context_length = 50\n",
    "batch_size     = 1\n",
    "# Initialize the model\n",
    "model = TransformerDecoder(vocab_size, d_model, num_heads, ff_hidden_dim, dropout)\n",
    "\n",
    "# Create a tensor representing a batch of 1 sequences of length 10\n",
    "input_tensor = torch.randint(0, vocab_size, (context_length, batch_size))\n",
    "\n",
    "# Forward pass through the model\n",
    "output = model(input_tensor)\n",
    "\n",
    "# The output is a tensor of shape (sequence_length, batch_size, vocab_size)\n",
    "print(output.shape)  # Should print torch.Size([context_length, batch_size, vocab_size])\n",
    "\n",
    "# To get the predicted word indices, we can use the `argmax` function\n",
    "predicted_indices = output.argmax(dim=-1)\n",
    "\n",
    "# Now `predicted_indices` is a tensor of shape (sequence_length, batch_size) containing the predicted word indices\n",
    "print(predicted_indices.shape)  # Should print torch.Size([context_length, batch_size])\n"
   ]
  },
  {
   "cell_type": "code",
   "execution_count": 24,
   "metadata": {},
   "outputs": [
    {
     "name": "stdout",
     "output_type": "stream",
     "text": [
      "max word index of the first token in the output sentence:  763\n",
      "predicted_indices:  tensor([[763],\n",
      "        [671],\n",
      "        [583],\n",
      "        [719],\n",
      "        [475],\n",
      "        [758],\n",
      "        [280],\n",
      "        [537],\n",
      "        [244],\n",
      "        [432],\n",
      "        [501],\n",
      "        [224],\n",
      "        [454],\n",
      "        [724],\n",
      "        [784],\n",
      "        [ 39],\n",
      "        [835],\n",
      "        [315],\n",
      "        [120],\n",
      "        [840],\n",
      "        [ 91],\n",
      "        [707],\n",
      "        [389],\n",
      "        [628],\n",
      "        [  5],\n",
      "        [742],\n",
      "        [280],\n",
      "        [967],\n",
      "        [657],\n",
      "        [620],\n",
      "        [532],\n",
      "        [146],\n",
      "        [693],\n",
      "        [724],\n",
      "        [509],\n",
      "        [215],\n",
      "        [450],\n",
      "        [501],\n",
      "        [443],\n",
      "        [712],\n",
      "        [742],\n",
      "        [178],\n",
      "        [202],\n",
      "        [253],\n",
      "        [508],\n",
      "        [580],\n",
      "        [260],\n",
      "        [ 67],\n",
      "        [670],\n",
      "        [235]])\n"
     ]
    }
   ],
   "source": [
    "print('max word index of the first token in the output sentence: ', np.argmax(output[0][0].detach().numpy()))\n",
    "\n",
    "print('predicted_indices: ', predicted_indices)"
   ]
  },
  {
   "cell_type": "markdown",
   "metadata": {},
   "source": [
    "Respuesta de Copilot sobre los hiperparámetros del modelo Transformer:\n",
    "\n",
    "1. `vocab_size`: Este hiperparámetro representa el tamaño del vocabulario utilizado en el modelo. Indica la cantidad de palabras únicas que el modelo puede procesar. En este caso, se ha establecido en 1000, lo que significa que el modelo puede trabajar con un vocabulario de 1000 palabras.\n",
    "\n",
    "2. `d_model`: Este hiperparámetro se refiere a la dimensión del espacio de representación utilizado por el modelo. Es el tamaño de los vectores de representación de palabras y también determina el tamaño de los vectores de salida del modelo. En este caso, se ha establecido en 512, lo que significa que el modelo utilizará vectores de 512 dimensiones para representar las palabras y generar las salidas.\n",
    "\n",
    "3. `num_heads`: Este hiperparámetro indica el número de cabezas de atención que se utilizan en el modelo Transformer. La atención múltiple permite que el modelo se enfoque en diferentes partes de la secuencia de entrada de manera simultánea. En este caso, se ha establecido en 1, lo que significa que solo se utiliza una cabeza de atención.\n",
    "\n",
    "4. `ff_hidden_dim`: Este hiperparámetro se refiere a la dimensión de la capa oculta en la red de alimentación hacia adelante (feed-forward) del modelo. Es el tamaño de los vectores de salida de la capa oculta. En este caso, se ha establecido en el doble de `d_model`, es decir, 2 * 512 = 1024.\n",
    "\n",
    "5. `dropout`: Este hiperparámetro representa la probabilidad de que se aplique el dropout en las capas del modelo. El dropout es una técnica de regularización que ayuda a prevenir el sobreajuste al apagar aleatoriamente algunas neuronas durante el entrenamiento. En este caso, se ha establecido en 0.1, lo que significa que se aplica dropout con una probabilidad del 10%.\n",
    "\n",
    "6. `num_layers`: Este hiperparámetro indica el número de capas en el modelo Transformer. Cada capa tiene subcapas de atención y redes de alimentación hacia adelante. En este caso, se ha establecido en 10, lo que significa que el modelo tiene 10 capas.\n",
    "\n",
    "7. `context_length`: Este hiperparámetro se refiere a la longitud del contexto o secuencia de entrada que el modelo puede procesar. En este caso, se ha establecido en 50, lo que significa que el modelo puede procesar secuencias de hasta 50 palabras.\n",
    "\n",
    "8. `batch_size`: Este hiperparámetro indica el tamaño del lote utilizado durante el entrenamiento del modelo. Es la cantidad de ejemplos de entrenamiento que se procesan juntos antes de actualizar los pesos del modelo. En este caso, se ha establecido en 1, lo que significa que se utiliza un solo ejemplo de entrenamiento a la vez.\n",
    "\n",
    "Estos valores de hiperparámetros pueden variar según el problema y los datos específicos con los que se esté trabajando. Los valores elegidos en este caso pueden ser una configuración inicial o específica para el problema en cuestión.\n",
    "\n",
    "Espero que esta explicación aclare el propósito de cada uno de los hiperparámetros en el modelo Transformer. Si tienes alguna otra pregunta, no dudes en hacerla.\n",
    "\n"
   ]
  },
  {
   "cell_type": "code",
   "execution_count": 16,
   "metadata": {
    "application/vnd.databricks.v1+cell": {
     "cellMetadata": {
      "byteLimit": 2048000,
      "rowLimit": 10000
     },
     "inputWidgets": {},
     "nuid": "7a5d107b-396c-4bb7-86ce-36a94dbb6100",
     "showTitle": false,
     "title": ""
    }
   },
   "outputs": [
    {
     "name": "stdout",
     "output_type": "stream",
     "text": [
      "The model has 3,127,784 trainable parameters\n"
     ]
    }
   ],
   "source": [
    "def count_parameters(model):\n",
    "    return sum(p.numel() for p in model.parameters() if p.requires_grad)\n",
    "\n",
    "print(f\"The model has {count_parameters(model):,} trainable parameters\")"
   ]
  },
  {
   "cell_type": "markdown",
   "metadata": {
    "application/vnd.databricks.v1+cell": {
     "cellMetadata": {},
     "inputWidgets": {},
     "nuid": "1a4d7bf1-1cfe-4eb7-a14a-ffec9d82a31b",
     "showTitle": false,
     "title": ""
    }
   },
   "source": [
    "### Looking at the output"
   ]
  },
  {
   "cell_type": "code",
   "execution_count": 17,
   "metadata": {
    "application/vnd.databricks.v1+cell": {
     "cellMetadata": {
      "byteLimit": 2048000,
      "rowLimit": 10000
     },
     "inputWidgets": {},
     "nuid": "47ebdc22-b498-4ef9-a686-1e55b96b1e18",
     "showTitle": false,
     "title": ""
    }
   },
   "outputs": [
    {
     "data": {
      "image/png": "[encoded data removed]",
      "text/plain": [
       "<Figure size 1200x600 with 1 Axes>"
      ]
     },
     "metadata": {},
     "output_type": "display_data"
    }
   ],
   "source": [
    "# Convert the log probabilities to probabilities\n",
    "distribution = torch.exp(output[0, 0, :])\n",
    "\n",
    "# Convert the output tensor to numpy array\n",
    "distribution = distribution.detach().numpy()\n",
    "\n",
    "# Now plot the distribution\n",
    "plt.figure(figsize=(12, 6))\n",
    "plt.bar(np.arange(vocab_size), distribution)\n",
    "plt.xlabel(\"Word Index\")\n",
    "plt.ylabel(\"Probability\")\n",
    "plt.title(\"Output Distribution over Vocabulary\")\n",
    "plt.show()"
   ]
  },
  {
   "cell_type": "markdown",
   "metadata": {
    "application/vnd.databricks.v1+cell": {
     "cellMetadata": {},
     "inputWidgets": {},
     "nuid": "37d1da8e-9544-4216-80e1-290dae7af3f6",
     "showTitle": false,
     "title": ""
    }
   },
   "source": [
    "# Section 3: Multi-layer Decoder\n",
    "\n",
    "Let's allow for multiple layers in our decoder so we can form models like GPT"
   ]
  },
  {
   "cell_type": "code",
   "execution_count": null,
   "metadata": {
    "application/vnd.databricks.v1+cell": {
     "cellMetadata": {
      "byteLimit": 2048000,
      "rowLimit": 10000
     },
     "inputWidgets": {},
     "nuid": "6ccb927f-03fa-4dc1-b95d-414f9d218e47",
     "showTitle": false,
     "title": ""
    }
   },
   "outputs": [],
   "source": [
    "class MultiLayerTransformerDecoder(nn.Module):\n",
    "    def __init__(self, vocab_size, d_model, num_heads, ff_hidden_dim, dropout, num_layers):\n",
    "        super(MultiLayerTransformerDecoder, self).__init__()\n",
    "\n",
    "# The __init__ function now also takes a `num_layers` argument, which specifies the number of decoder blocks.\n",
    "\n",
    "        self.embedding = nn.Embedding(vocab_size, d_model)\n",
    "        self.pos_encoder = PositionalEncoding(d_model, dropout)\n",
    "        self.transformer_blocks = nn.ModuleList([\n",
    "            DecoderBlock(d_model, num_heads, ff_hidden_dim, dropout)\n",
    "            for _ in range(num_layers)\n",
    "        ])\n",
    "        self.linear = nn.Linear(d_model, vocab_size)\n",
    "        self.softmax = nn.LogSoftmax(dim=-1)\n",
    "\n",
    "# The forward method has been updated to pass the input through each transformer block in sequence.\n",
    "\n",
    "    def forward(self, x):\n",
    "        x = self.embedding(x)\n",
    "        x = self.pos_encoder(x)\n",
    "        for transformer_block in self.transformer_blocks:\n",
    "            tgt_mask = generate_square_subsequent_mask(x.size(0))\n",
    "            x = transformer_block(x,tgt_mask)\n",
    "        output = self.linear(x)\n",
    "        output = self.softmax(output)\n",
    "        return output\n"
   ]
  },
  {
   "cell_type": "code",
   "execution_count": null,
   "metadata": {
    "application/vnd.databricks.v1+cell": {
     "cellMetadata": {
      "byteLimit": 2048000,
      "rowLimit": 10000
     },
     "inputWidgets": {},
     "nuid": "6451d573-49d9-4720-b459-b5804b3e2c2a",
     "showTitle": false,
     "title": ""
    }
   },
   "outputs": [
    {
     "name": "stdout",
     "output_type": "stream",
     "text": [
      "The model has 544,552,720 trainable parameters\n"
     ]
    },
    {
     "data": {
      "image/png": "[encoded data removed]",
      "text/plain": [
       "<Figure size 1200x600 with 1 Axes>"
      ]
     },
     "metadata": {},
     "output_type": "display_data"
    }
   ],
   "source": [
    "# Define the hyperparameters\n",
    "vocab_size     = 10000\n",
    "d_model        = 2048\n",
    "num_heads      = 1\n",
    "ff_hidden_dim  = 4*d_model\n",
    "dropout        = 0.1\n",
    "num_layers     = 10\n",
    "context_length = 100\n",
    "batch_size     = 1\n",
    "\n",
    "# Create our input to the model to process\n",
    "input_tensor = torch.randint(0, vocab_size, (context_length, batch_size))\n",
    "\n",
    "# Initialize the model with `num_layer` layers\n",
    "model = MultiLayerTransformerDecoder(vocab_size, d_model, num_heads, ff_hidden_dim, dropout, num_layers)\n",
    "\n",
    "# Print the number of trainable parameters\n",
    "print(f\"The model has {count_parameters(model):,} trainable parameters\")\n",
    "\n",
    "# Let's use the same input_tensor from the previous example\n",
    "output = model(input_tensor)\n",
    "\n",
    "# Convert the log probabilities to probabilities for the first sequence in the batch and the first position in the sequence\n",
    "distribution = torch.exp(output[0, 0, :])\n",
    "\n",
    "# Convert the output tensor to numpy array\n",
    "distribution = distribution.detach().numpy()\n",
    "\n",
    "# Now plot the distribution\n",
    "plt.figure(figsize=(12, 6))\n",
    "plt.bar(np.arange(vocab_size), distribution)\n",
    "plt.xlabel(\"Word Index\")\n",
    "plt.ylabel(\"Probability\")\n",
    "plt.title(\"Output Distribution over Vocabulary\")\n",
    "plt.show()"
   ]
  },
  {
   "cell_type": "code",
   "execution_count": null,
   "metadata": {
    "application/vnd.databricks.v1+cell": {
     "cellMetadata": {
      "byteLimit": 2048000,
      "rowLimit": 10000
     },
     "inputWidgets": {},
     "nuid": "8f1b904d-2435-43ff-afe3-278f0593373c",
     "showTitle": false,
     "title": ""
    }
   },
   "outputs": [
    {
     "data": {
      "text/plain": [
       "MultiLayerTransformerDecoder(\n",
       "  (embedding): Embedding(10000, 2048)\n",
       "  (pos_encoder): PositionalEncoding(\n",
       "    (dropout): Dropout(p=0.1, inplace=False)\n",
       "  )\n",
       "  (transformer_blocks): ModuleList(\n",
       "    (0): DecoderBlock(\n",
       "      (self_attention): MultiheadAttention(\n",
       "        (out_proj): NonDynamicallyQuantizableLinear(in_features=2048, out_features=2048, bias=True)\n",
       "      )\n",
       "      (norm1): LayerNorm((2048,), eps=1e-05, elementwise_affine=True)\n",
       "      (dropout1): Dropout(p=0.1, inplace=False)\n",
       "      (linear1): Linear(in_features=2048, out_features=8192, bias=True)\n",
       "      (linear2): Linear(in_features=8192, out_features=2048, bias=True)\n",
       "      (norm2): LayerNorm((2048,), eps=1e-05, elementwise_affine=True)\n",
       "      (dropout2): Dropout(p=0.1, inplace=False)\n",
       "    )\n",
       "    (1): DecoderBlock(\n",
       "      (self_attention): MultiheadAttention(\n",
       "        (out_proj): NonDynamicallyQuantizableLinear(in_features=2048, out_features=2048, bias=True)\n",
       "      )\n",
       "      (norm1): LayerNorm((2048,), eps=1e-05, elementwise_affine=True)\n",
       "      (dropout1): Dropout(p=0.1, inplace=False)\n",
       "      (linear1): Linear(in_features=2048, out_features=8192, bias=True)\n",
       "      (linear2): Linear(in_features=8192, out_features=2048, bias=True)\n",
       "      (norm2): LayerNorm((2048,), eps=1e-05, elementwise_affine=True)\n",
       "      (dropout2): Dropout(p=0.1, inplace=False)\n",
       "    )\n",
       "    (2): DecoderBlock(\n",
       "      (self_attention): MultiheadAttention(\n",
       "        (out_proj): NonDynamicallyQuantizableLinear(in_features=2048, out_features=2048, bias=True)\n",
       "      )\n",
       "      (norm1): LayerNorm((2048,), eps=1e-05, elementwise_affine=True)\n",
       "      (dropout1): Dropout(p=0.1, inplace=False)\n",
       "      (linear1): Linear(in_features=2048, out_features=8192, bias=True)\n",
       "      (linear2): Linear(in_features=8192, out_features=2048, bias=True)\n",
       "      (norm2): LayerNorm((2048,), eps=1e-05, elementwise_affine=True)\n",
       "      (dropout2): Dropout(p=0.1, inplace=False)\n",
       "    )\n",
       "    (3): DecoderBlock(\n",
       "      (self_attention): MultiheadAttention(\n",
       "        (out_proj): NonDynamicallyQuantizableLinear(in_features=2048, out_features=2048, bias=True)\n",
       "      )\n",
       "      (norm1): LayerNorm((2048,), eps=1e-05, elementwise_affine=True)\n",
       "      (dropout1): Dropout(p=0.1, inplace=False)\n",
       "      (linear1): Linear(in_features=2048, out_features=8192, bias=True)\n",
       "      (linear2): Linear(in_features=8192, out_features=2048, bias=True)\n",
       "      (norm2): LayerNorm((2048,), eps=1e-05, elementwise_affine=True)\n",
       "      (dropout2): Dropout(p=0.1, inplace=False)\n",
       "    )\n",
       "    (4): DecoderBlock(\n",
       "      (self_attention): MultiheadAttention(\n",
       "        (out_proj): NonDynamicallyQuantizableLinear(in_features=2048, out_features=2048, bias=True)\n",
       "      )\n",
       "      (norm1): LayerNorm((2048,), eps=1e-05, elementwise_affine=True)\n",
       "      (dropout1): Dropout(p=0.1, inplace=False)\n",
       "      (linear1): Linear(in_features=2048, out_features=8192, bias=True)\n",
       "      (linear2): Linear(in_features=8192, out_features=2048, bias=True)\n",
       "      (norm2): LayerNorm((2048,), eps=1e-05, elementwise_affine=True)\n",
       "      (dropout2): Dropout(p=0.1, inplace=False)\n",
       "    )\n",
       "    (5): DecoderBlock(\n",
       "      (self_attention): MultiheadAttention(\n",
       "        (out_proj): NonDynamicallyQuantizableLinear(in_features=2048, out_features=2048, bias=True)\n",
       "      )\n",
       "      (norm1): LayerNorm((2048,), eps=1e-05, elementwise_affine=True)\n",
       "      (dropout1): Dropout(p=0.1, inplace=False)\n",
       "      (linear1): Linear(in_features=2048, out_features=8192, bias=True)\n",
       "      (linear2): Linear(in_features=8192, out_features=2048, bias=True)\n",
       "      (norm2): LayerNorm((2048,), eps=1e-05, elementwise_affine=True)\n",
       "      (dropout2): Dropout(p=0.1, inplace=False)\n",
       "    )\n",
       "    (6): DecoderBlock(\n",
       "      (self_attention): MultiheadAttention(\n",
       "        (out_proj): NonDynamicallyQuantizableLinear(in_features=2048, out_features=2048, bias=True)\n",
       "      )\n",
       "      (norm1): LayerNorm((2048,), eps=1e-05, elementwise_affine=True)\n",
       "      (dropout1): Dropout(p=0.1, inplace=False)\n",
       "      (linear1): Linear(in_features=2048, out_features=8192, bias=True)\n",
       "      (linear2): Linear(in_features=8192, out_features=2048, bias=True)\n",
       "      (norm2): LayerNorm((2048,), eps=1e-05, elementwise_affine=True)\n",
       "      (dropout2): Dropout(p=0.1, inplace=False)\n",
       "    )\n",
       "    (7): DecoderBlock(\n",
       "      (self_attention): MultiheadAttention(\n",
       "        (out_proj): NonDynamicallyQuantizableLinear(in_features=2048, out_features=2048, bias=True)\n",
       "      )\n",
       "      (norm1): LayerNorm((2048,), eps=1e-05, elementwise_affine=True)\n",
       "      (dropout1): Dropout(p=0.1, inplace=False)\n",
       "      (linear1): Linear(in_features=2048, out_features=8192, bias=True)\n",
       "      (linear2): Linear(in_features=8192, out_features=2048, bias=True)\n",
       "      (norm2): LayerNorm((2048,), eps=1e-05, elementwise_affine=True)\n",
       "      (dropout2): Dropout(p=0.1, inplace=False)\n",
       "    )\n",
       "    (8): DecoderBlock(\n",
       "      (self_attention): MultiheadAttention(\n",
       "        (out_proj): NonDynamicallyQuantizableLinear(in_features=2048, out_features=2048, bias=True)\n",
       "      )\n",
       "      (norm1): LayerNorm((2048,), eps=1e-05, elementwise_affine=True)\n",
       "      (dropout1): Dropout(p=0.1, inplace=False)\n",
       "      (linear1): Linear(in_features=2048, out_features=8192, bias=True)\n",
       "      (linear2): Linear(in_features=8192, out_features=2048, bias=True)\n",
       "      (norm2): LayerNorm((2048,), eps=1e-05, elementwise_affine=True)\n",
       "      (dropout2): Dropout(p=0.1, inplace=False)\n",
       "    )\n",
       "    (9): DecoderBlock(\n",
       "      (self_attention): MultiheadAttention(\n",
       "        (out_proj): NonDynamicallyQuantizableLinear(in_features=2048, out_features=2048, bias=True)\n",
       "      )\n",
       "      (norm1): LayerNorm((2048,), eps=1e-05, elementwise_affine=True)\n",
       "      (dropout1): Dropout(p=0.1, inplace=False)\n",
       "      (linear1): Linear(in_features=2048, out_features=8192, bias=True)\n",
       "      (linear2): Linear(in_features=8192, out_features=2048, bias=True)\n",
       "      (norm2): LayerNorm((2048,), eps=1e-05, elementwise_affine=True)\n",
       "      (dropout2): Dropout(p=0.1, inplace=False)\n",
       "    )\n",
       "  )\n",
       "  (linear): Linear(in_features=2048, out_features=10000, bias=True)\n",
       "  (softmax): LogSoftmax(dim=-1)\n",
       ")"
      ]
     },
     "execution_count": 28,
     "metadata": {},
     "output_type": "execute_result"
    }
   ],
   "source": [
    "model"
   ]
  },
  {
   "cell_type": "markdown",
   "metadata": {
    "application/vnd.databricks.v1+cell": {
     "cellMetadata": {},
     "inputWidgets": {},
     "nuid": "c26c9ab1-72a1-4a08-8070-3e11cd8c66be",
     "showTitle": false,
     "title": ""
    }
   },
   "source": [
    "# Section 4: Adding real vocabulary to our model\n",
    "\n",
    "Rather than just using a random integer, let's add in a small vocabulary of real words and let our model speak!"
   ]
  },
  {
   "cell_type": "code",
   "execution_count": null,
   "metadata": {
    "application/vnd.databricks.v1+cell": {
     "cellMetadata": {
      "byteLimit": 2048000,
      "rowLimit": 10000
     },
     "inputWidgets": {},
     "nuid": "00338710-65e7-454b-83f3-40d91fe64910",
     "showTitle": false,
     "title": ""
    }
   },
   "outputs": [
    {
     "name": "stdout",
     "output_type": "stream",
     "text": [
      "by into at after out into at around out into "
     ]
    }
   ],
   "source": [
    "# Define the hyperparameters\n",
    "d_model        = 100\n",
    "num_heads      = 1\n",
    "ff_hidden_dim  = 4*d_model\n",
    "dropout        = 0.1\n",
    "num_layers     = 4\n",
    "context_length = 5\n",
    "batch_size     = 1\n",
    "# Define the vocabulary\n",
    "vocab = [\"of\", \"in\", \"to\", \"for\", \"with\", \"on\", \"at\", \"from\", \"by\", \"about\", \"as\", \"into\", \"like\", \"through\", \"after\", \"over\", \"between\", \"out\", \"against\", \"during\", \"without\", \"before\", \"under\", \"around\", \"among\"]\n",
    "vocab_size = len(vocab)\n",
    "\n",
    "# Create a dictionary that maps words to indices\n",
    "word2id = {word: id for id, word in enumerate(vocab)}\n",
    "\n",
    "# Create a dictionary that maps indices to words\n",
    "id2word = {id: word for id, word in enumerate(vocab)}\n",
    "\n",
    "# Initialize the model\n",
    "model = MultiLayerTransformerDecoder(vocab_size, d_model, num_heads, ff_hidden_dim, dropout, num_layers)\n",
    "\n",
    "# Create a tensor representing a single sequence of variable length\n",
    "# Here we randomly select words from our vocabulary\n",
    "sequence = [\"of\", \"in\", \"to\", \"for\", \"with\", \"on\", \"at\"][:context_length]\n",
    "input_tensor = torch.tensor([[word2id[word] for word in sequence]])\n",
    "\n",
    "# Generate a sequence of words\n",
    "generated_words = []\n",
    "for i in range(10):  # Generate 10 words\n",
    "    output = model(input_tensor)\n",
    "    predicted_index = output.argmax(dim=-1)[0, -1]  # Take the last word in the sequence\n",
    "    predicted_word = id2word[predicted_index.item()]\n",
    "    print(predicted_word, end=\" \")\n",
    "    generated_words.append(predicted_word)\n",
    "    input_tensor = torch.cat([input_tensor, predicted_index.unsqueeze(0).unsqueeze(0)], dim=-1)  # Append the predicted word to the input\n",
    "    time.sleep(0.75)  # Pause for 1 second\n"
   ]
  },
  {
   "cell_type": "markdown",
   "metadata": {
    "application/vnd.databricks.v1+cell": {
     "cellMetadata": {},
     "inputWidgets": {},
     "nuid": "6e923bce-58fe-4fb7-b753-50841a5373e4",
     "showTitle": false,
     "title": ""
    }
   },
   "source": [
    "# Section 5: Using a trained decoder and real-world vocabulary\n",
    "\n",
    "Training our model will take a long time, let's look at two trained versions of what we've been building, GPT and GPT-XL. These are both decoder models with only slight changes in sizes"
   ]
  },
  {
   "cell_type": "code",
   "execution_count": null,
   "metadata": {
    "application/vnd.databricks.v1+cell": {
     "cellMetadata": {
      "byteLimit": 2048000,
      "rowLimit": 10000
     },
     "inputWidgets": {},
     "nuid": "57657f63-70c3-4e2d-8ee7-92e46d41407c",
     "showTitle": false,
     "title": ""
    }
   },
   "outputs": [],
   "source": [
    "# Import the necessary libraries\n",
    "from transformers import GPT2LMHeadModel, GPT2Tokenizer\n",
    "\n",
    "# Load pre-trained models and tokenizers\n",
    "tokenizer_small = GPT2Tokenizer.from_pretrained(\"gpt2\", cache_dir=DA.paths.datasets+\"/models\")\n",
    "model_small = GPT2LMHeadModel.from_pretrained(\"gpt2\", cache_dir=DA.paths.datasets+\"/models\")"
   ]
  },
  {
   "cell_type": "code",
   "execution_count": null,
   "metadata": {
    "application/vnd.databricks.v1+cell": {
     "cellMetadata": {
      "byteLimit": 2048000,
      "rowLimit": 10000
     },
     "inputWidgets": {},
     "nuid": "5ac01a73-0c0c-43a4-a3a9-6f231831b797",
     "showTitle": false,
     "title": ""
    }
   },
   "outputs": [],
   "source": [
    "# Define a prompt. This is the initial string of text that the model will use to start generating text.\n",
    "prompt = \"This is a MOOC about large language models, I have only just started, but already\""
   ]
  },
  {
   "cell_type": "code",
   "execution_count": null,
   "metadata": {
    "application/vnd.databricks.v1+cell": {
     "cellMetadata": {
      "byteLimit": 2048000,
      "rowLimit": 10000
     },
     "inputWidgets": {},
     "nuid": "d7bbe991-463e-4df3-9420-396d860d9f8b",
     "showTitle": false,
     "title": ""
    }
   },
   "outputs": [
    {
     "name": "stdout",
     "output_type": "stream",
     "text": [
      "This is a MOOC about large language models, I have only just started, but already  we  are  discussing  several  different  approaches .  Please  continue  reading  :) \n",
      " \n",
      " There  have  been  many  other  languages  like  Scala  and  Java  and  Python \n",
      "GPT-2 Small completed.\n"
     ]
    }
   ],
   "source": [
    "# We use the tokenizer to convert the prompt into a format that the model can understand. In this case,\n",
    "# it converts the string into a sequence of token IDs, which are numbers that represent each word or subword in the string.\n",
    "inputs_small = tokenizer_small.encode(prompt, return_tensors='pt')\n",
    "\n",
    "# Create an attention mask. This is a sequence of 1s and 0s where 1s indicate that the corresponding token should\n",
    "# be attended to and 0s indicate that the token should be ignored. Here, all tokens should be attended to.\n",
    "attention_mask_small = torch.ones(inputs_small.shape, dtype=torch.long)\n",
    "\n",
    "# Get the ID of the special end-of-sequence (EOS) token from the tokenizer. This token indicates the end of a sequence.\n",
    "pad_token_id_small = tokenizer_small.eos_token_id  \n",
    "\n",
    "# Print the initial prompt. The 'end' argument specifies what to print at the end (default is newline, but we want space).\n",
    "# 'flush' argument ensures that the output is printed immediately.\n",
    "print(prompt, end=\" \", flush=True)\n",
    "\n",
    "# We're going to generate 25 words\n",
    "for _ in range(25):\n",
    "\n",
    "    # Generate the next part of the sequence. 'do_sample=True' means to sample from the distribution of possible next tokens\n",
    "    # rather than just taking the most likely next token. 'pad_token_id' argument is to tell the model what token to use if it\n",
    "    # needs to pad the sequence to a certain length.\n",
    "    outputs_small = model_small.generate(inputs_small, max_length=inputs_small.shape[-1]+1, do_sample=True, pad_token_id=pad_token_id_small,\n",
    "                                         attention_mask=attention_mask_small)\n",
    "\n",
    "    # The generated output is a sequence of token IDs, so we use the tokenizer to convert these back into words.\n",
    "    generated_word = tokenizer_small.decode(outputs_small[0][-1])\n",
    "\n",
    "    # Print the generated word, followed by a space. We use 'end' and 'flush' arguments as before.\n",
    "    print(generated_word, end=' ', flush=True)\n",
    "\n",
    "    # Append the generated token to the input sequence for the next round of generation. We have to add extra dimensions \n",
    "    # to the tensor to match the shape of the input tensor (which is 2D: batch size x sequence length).\n",
    "    inputs_small = torch.cat([inputs_small, outputs_small[0][-1].unsqueeze(0).unsqueeze(0)], dim=-1)\n",
    "\n",
    "    # Extend the attention mask for the new token. Like before, it should be attended to, so we add a 1.\n",
    "    attention_mask_small = torch.cat([attention_mask_small, torch.ones((1, 1), dtype=torch.long)], dim=-1)\n",
    "\n",
    "    # We pause for 0.7 seconds to make the generation more readable.\n",
    "    time.sleep(0.7)\n",
    "\n",
    "# Finally, print a newline and a completion message.\n",
    "print(\"\\nGPT-2 Small completed.\")"
   ]
  },
  {
   "cell_type": "code",
   "execution_count": null,
   "metadata": {
    "application/vnd.databricks.v1+cell": {
     "cellMetadata": {
      "byteLimit": 2048000,
      "rowLimit": 10000
     },
     "inputWidgets": {},
     "nuid": "f01d74ae-f176-4297-ac6d-3ecadecb3026",
     "showTitle": false,
     "title": ""
    }
   },
   "outputs": [
    {
     "name": "stderr",
     "output_type": "stream",
     "text": [
      "/databricks/python/lib/python3.10/site-packages/huggingface_hub/file_download.py:133: UserWarning: `huggingface_hub` cache-system uses symlinks by default to efficiently store duplicated files but your machine does not support them in /dbfs/mnt/dbacademy-datasets/llm-foundation-models/v01-raw/models. Caching files will still work but in a degraded version that might require more space on your disk. This warning can be disabled by setting the `HF_HUB_DISABLE_SYMLINKS_WARNING` environment variable. For more details, see https://huggingface.co/docs/huggingface_hub/how-to-cache#limitations.\n",
      "  warnings.warn(message)\n"
     ]
    }
   ],
   "source": [
    "tokenizer_large = GPT2Tokenizer.from_pretrained(\"gpt2-XL\", cache_dir=DA.paths.datasets+\"/models\")\n",
    "model_large = GPT2LMHeadModel.from_pretrained(\"gpt2-XL\", cache_dir=DA.paths.datasets+\"/models\")"
   ]
  },
  {
   "cell_type": "code",
   "execution_count": null,
   "metadata": {
    "application/vnd.databricks.v1+cell": {
     "cellMetadata": {
      "byteLimit": 2048000,
      "rowLimit": 10000
     },
     "inputWidgets": {},
     "nuid": "592283f4-0923-4957-b25c-bc40e30d00e6",
     "showTitle": false,
     "title": ""
    }
   },
   "outputs": [
    {
     "name": "stdout",
     "output_type": "stream",
     "text": [
      "This is a MOOC about large language models, I have only just started, but already  we  have  a  significant  number  of  students  who  have  managed  to  make  a  real  case  for  large  models ,  and  most  of  them  have  been \n",
      "GPT-2 XL completed.\n"
     ]
    }
   ],
   "source": [
    "# Generate text with GPT-2 XL\n",
    "inputs_large = tokenizer_large.encode(prompt, return_tensors=\"pt\")\n",
    "\n",
    "# Add in the attention mask and pad token id\n",
    "attention_mask_large = torch.ones(inputs_large.shape, dtype=torch.long)  # Creating a mask of ones with the same shape as inputs\n",
    "pad_token_id_large = tokenizer_large.eos_token_id  # Get the eos_token_id from the tokenizer\n",
    "\n",
    "print(prompt, end=\" \", flush=True)\n",
    "for _ in range(25):  # Generate 25 words\n",
    "    outputs_large = model_large.generate(inputs_large, max_length=inputs_large.shape[-1]+1, do_sample=True, pad_token_id=pad_token_id_large,\n",
    "                                         attention_mask=attention_mask_large)\n",
    "    generated_word = tokenizer_large.decode(outputs_large[0][-1])\n",
    "    print(generated_word, end=\" \", flush=True)\n",
    "    inputs_large = torch.cat([inputs_large, outputs_large[0][-1].unsqueeze(0).unsqueeze(0)], dim=-1)\n",
    "    attention_mask_large = torch.cat([attention_mask_large, torch.ones((1, 1), dtype=torch.long)], dim=-1)\n",
    "    time.sleep(0.7)\n",
    "print(\"\\nGPT-2 XL completed.\")"
   ]
  },
  {
   "cell_type": "markdown",
   "metadata": {
    "application/vnd.databricks.v1+cell": {
     "cellMetadata": {},
     "inputWidgets": {},
     "nuid": "40b82f15-0af6-4e21-958a-45d8901f4570",
     "showTitle": false,
     "title": ""
    }
   },
   "source": [
    "&copy; 2023 Databricks, Inc. All rights reserved.<br/>\n",
    "Apache, Apache Spark, Spark and the Spark logo are trademarks of the <a href=\"https://www.apache.org/\">Apache Software Foundation</a>.<br/>\n",
    "<br/>\n",
    "<a href=\"https://databricks.com/privacy-policy\">Privacy Policy</a> | <a href=\"https://databricks.com/terms-of-use\">Terms of Use</a> | <a href=\"https://help.databricks.com/\">Support</a>"
   ]
  }
 ],
 "metadata": {
  "application/vnd.databricks.v1+notebook": {
   "dashboards": [],
   "language": "python",
   "notebookMetadata": {
    "pythonIndentUnit": 4
   },
   "notebookName": "LLM 01 - Transformer Architecture run",
   "widgets": {}
  },
  "kernelspec": {
   "display_name": "llms-pocs-env",
   "language": "python",
   "name": "python3"
  },
  "language_info": {
   "codemirror_mode": {
    "name": "ipython",
    "version": 3
   },
   "file_extension": ".py",
   "mimetype": "text/x-python",
   "name": "python",
   "nbconvert_exporter": "python",
   "pygments_lexer": "ipython3",
   "version": "3.9.18"
  }
 },
 "nbformat": 4,
 "nbformat_minor": 0
}
